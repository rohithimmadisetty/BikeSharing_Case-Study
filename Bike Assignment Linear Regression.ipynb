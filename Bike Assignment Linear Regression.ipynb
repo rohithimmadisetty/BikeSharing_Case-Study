{
 "cells": [
  {
   "cell_type": "code",
   "execution_count": 1,
   "id": "ba812087",
   "metadata": {},
   "outputs": [],
   "source": [
    "import os"
   ]
  },
  {
   "cell_type": "code",
   "execution_count": 2,
   "id": "02b7f3e3",
   "metadata": {},
   "outputs": [
    {
     "data": {
      "text/plain": [
       "['.ipynb_checkpoints',\n",
       " 'Bike Assignment Linear Regression.ipynb',\n",
       " 'Data Dictionararies.odt',\n",
       " 'day.csv',\n",
       " 'Evaluation Rubics.odt',\n",
       " 'Linear Regression Assignment.odt',\n",
       " '~$aluation Rubics.odt',\n",
       " '~$near Regression Assignment.odt',\n",
       " '~$ta Dictionararies.odt']"
      ]
     },
     "execution_count": 2,
     "metadata": {},
     "output_type": "execute_result"
    }
   ],
   "source": [
    "os.listdir()"
   ]
  },
  {
   "cell_type": "code",
   "execution_count": 3,
   "id": "44955c3e",
   "metadata": {},
   "outputs": [],
   "source": [
    "import pandas as pd\n",
    "import numpy as np\n",
    "import matplotlib.pyplot as plt\n",
    "import seaborn as sns\n",
    "import sklearn as sk\n",
    "from sklearn import preprocessing\n",
    "from sklearn.linear_model import LinearRegression\n",
    "from sklearn.metrics import mean_squared_error\n",
    "from sklearn.metrics import r2_score"
   ]
  },
  {
   "cell_type": "code",
   "execution_count": 4,
   "id": "d474c0d5",
   "metadata": {},
   "outputs": [],
   "source": [
    "bike = pd.read_csv(\"day.csv\")"
   ]
  },
  {
   "cell_type": "code",
   "execution_count": 5,
   "id": "692f328a",
   "metadata": {},
   "outputs": [
    {
     "data": {
      "text/html": [
       "<div>\n",
       "<style scoped>\n",
       "    .dataframe tbody tr th:only-of-type {\n",
       "        vertical-align: middle;\n",
       "    }\n",
       "\n",
       "    .dataframe tbody tr th {\n",
       "        vertical-align: top;\n",
       "    }\n",
       "\n",
       "    .dataframe thead th {\n",
       "        text-align: right;\n",
       "    }\n",
       "</style>\n",
       "<table border=\"1\" class=\"dataframe\">\n",
       "  <thead>\n",
       "    <tr style=\"text-align: right;\">\n",
       "      <th></th>\n",
       "      <th>instant</th>\n",
       "      <th>dteday</th>\n",
       "      <th>season</th>\n",
       "      <th>yr</th>\n",
       "      <th>mnth</th>\n",
       "      <th>holiday</th>\n",
       "      <th>weekday</th>\n",
       "      <th>workingday</th>\n",
       "      <th>weathersit</th>\n",
       "      <th>temp</th>\n",
       "      <th>atemp</th>\n",
       "      <th>hum</th>\n",
       "      <th>windspeed</th>\n",
       "      <th>casual</th>\n",
       "      <th>registered</th>\n",
       "      <th>cnt</th>\n",
       "    </tr>\n",
       "  </thead>\n",
       "  <tbody>\n",
       "    <tr>\n",
       "      <th>0</th>\n",
       "      <td>1</td>\n",
       "      <td>1/1/2018</td>\n",
       "      <td>1</td>\n",
       "      <td>0</td>\n",
       "      <td>1</td>\n",
       "      <td>0</td>\n",
       "      <td>6</td>\n",
       "      <td>0</td>\n",
       "      <td>2</td>\n",
       "      <td>14.110847</td>\n",
       "      <td>18.18125</td>\n",
       "      <td>80.5833</td>\n",
       "      <td>10.749882</td>\n",
       "      <td>331</td>\n",
       "      <td>654</td>\n",
       "      <td>985</td>\n",
       "    </tr>\n",
       "    <tr>\n",
       "      <th>1</th>\n",
       "      <td>2</td>\n",
       "      <td>2/1/2018</td>\n",
       "      <td>1</td>\n",
       "      <td>0</td>\n",
       "      <td>1</td>\n",
       "      <td>0</td>\n",
       "      <td>0</td>\n",
       "      <td>0</td>\n",
       "      <td>2</td>\n",
       "      <td>14.902598</td>\n",
       "      <td>17.68695</td>\n",
       "      <td>69.6087</td>\n",
       "      <td>16.652113</td>\n",
       "      <td>131</td>\n",
       "      <td>670</td>\n",
       "      <td>801</td>\n",
       "    </tr>\n",
       "    <tr>\n",
       "      <th>2</th>\n",
       "      <td>3</td>\n",
       "      <td>3/1/2018</td>\n",
       "      <td>1</td>\n",
       "      <td>0</td>\n",
       "      <td>1</td>\n",
       "      <td>0</td>\n",
       "      <td>1</td>\n",
       "      <td>1</td>\n",
       "      <td>1</td>\n",
       "      <td>8.050924</td>\n",
       "      <td>9.47025</td>\n",
       "      <td>43.7273</td>\n",
       "      <td>16.636703</td>\n",
       "      <td>120</td>\n",
       "      <td>1229</td>\n",
       "      <td>1349</td>\n",
       "    </tr>\n",
       "    <tr>\n",
       "      <th>3</th>\n",
       "      <td>4</td>\n",
       "      <td>4/1/2018</td>\n",
       "      <td>1</td>\n",
       "      <td>0</td>\n",
       "      <td>1</td>\n",
       "      <td>0</td>\n",
       "      <td>2</td>\n",
       "      <td>1</td>\n",
       "      <td>1</td>\n",
       "      <td>8.200000</td>\n",
       "      <td>10.60610</td>\n",
       "      <td>59.0435</td>\n",
       "      <td>10.739832</td>\n",
       "      <td>108</td>\n",
       "      <td>1454</td>\n",
       "      <td>1562</td>\n",
       "    </tr>\n",
       "    <tr>\n",
       "      <th>4</th>\n",
       "      <td>5</td>\n",
       "      <td>5/1/2018</td>\n",
       "      <td>1</td>\n",
       "      <td>0</td>\n",
       "      <td>1</td>\n",
       "      <td>0</td>\n",
       "      <td>3</td>\n",
       "      <td>1</td>\n",
       "      <td>1</td>\n",
       "      <td>9.305237</td>\n",
       "      <td>11.46350</td>\n",
       "      <td>43.6957</td>\n",
       "      <td>12.522300</td>\n",
       "      <td>82</td>\n",
       "      <td>1518</td>\n",
       "      <td>1600</td>\n",
       "    </tr>\n",
       "    <tr>\n",
       "      <th>...</th>\n",
       "      <td>...</td>\n",
       "      <td>...</td>\n",
       "      <td>...</td>\n",
       "      <td>...</td>\n",
       "      <td>...</td>\n",
       "      <td>...</td>\n",
       "      <td>...</td>\n",
       "      <td>...</td>\n",
       "      <td>...</td>\n",
       "      <td>...</td>\n",
       "      <td>...</td>\n",
       "      <td>...</td>\n",
       "      <td>...</td>\n",
       "      <td>...</td>\n",
       "      <td>...</td>\n",
       "      <td>...</td>\n",
       "    </tr>\n",
       "    <tr>\n",
       "      <th>725</th>\n",
       "      <td>726</td>\n",
       "      <td>27-12-2019</td>\n",
       "      <td>1</td>\n",
       "      <td>1</td>\n",
       "      <td>12</td>\n",
       "      <td>0</td>\n",
       "      <td>4</td>\n",
       "      <td>1</td>\n",
       "      <td>2</td>\n",
       "      <td>10.420847</td>\n",
       "      <td>11.33210</td>\n",
       "      <td>65.2917</td>\n",
       "      <td>23.458911</td>\n",
       "      <td>247</td>\n",
       "      <td>1867</td>\n",
       "      <td>2114</td>\n",
       "    </tr>\n",
       "    <tr>\n",
       "      <th>726</th>\n",
       "      <td>727</td>\n",
       "      <td>28-12-2019</td>\n",
       "      <td>1</td>\n",
       "      <td>1</td>\n",
       "      <td>12</td>\n",
       "      <td>0</td>\n",
       "      <td>5</td>\n",
       "      <td>1</td>\n",
       "      <td>2</td>\n",
       "      <td>10.386653</td>\n",
       "      <td>12.75230</td>\n",
       "      <td>59.0000</td>\n",
       "      <td>10.416557</td>\n",
       "      <td>644</td>\n",
       "      <td>2451</td>\n",
       "      <td>3095</td>\n",
       "    </tr>\n",
       "    <tr>\n",
       "      <th>727</th>\n",
       "      <td>728</td>\n",
       "      <td>29-12-2019</td>\n",
       "      <td>1</td>\n",
       "      <td>1</td>\n",
       "      <td>12</td>\n",
       "      <td>0</td>\n",
       "      <td>6</td>\n",
       "      <td>0</td>\n",
       "      <td>2</td>\n",
       "      <td>10.386653</td>\n",
       "      <td>12.12000</td>\n",
       "      <td>75.2917</td>\n",
       "      <td>8.333661</td>\n",
       "      <td>159</td>\n",
       "      <td>1182</td>\n",
       "      <td>1341</td>\n",
       "    </tr>\n",
       "    <tr>\n",
       "      <th>728</th>\n",
       "      <td>729</td>\n",
       "      <td>30-12-2019</td>\n",
       "      <td>1</td>\n",
       "      <td>1</td>\n",
       "      <td>12</td>\n",
       "      <td>0</td>\n",
       "      <td>0</td>\n",
       "      <td>0</td>\n",
       "      <td>1</td>\n",
       "      <td>10.489153</td>\n",
       "      <td>11.58500</td>\n",
       "      <td>48.3333</td>\n",
       "      <td>23.500518</td>\n",
       "      <td>364</td>\n",
       "      <td>1432</td>\n",
       "      <td>1796</td>\n",
       "    </tr>\n",
       "    <tr>\n",
       "      <th>729</th>\n",
       "      <td>730</td>\n",
       "      <td>31-12-2019</td>\n",
       "      <td>1</td>\n",
       "      <td>1</td>\n",
       "      <td>12</td>\n",
       "      <td>0</td>\n",
       "      <td>1</td>\n",
       "      <td>1</td>\n",
       "      <td>2</td>\n",
       "      <td>8.849153</td>\n",
       "      <td>11.17435</td>\n",
       "      <td>57.7500</td>\n",
       "      <td>10.374682</td>\n",
       "      <td>439</td>\n",
       "      <td>2290</td>\n",
       "      <td>2729</td>\n",
       "    </tr>\n",
       "  </tbody>\n",
       "</table>\n",
       "<p>730 rows × 16 columns</p>\n",
       "</div>"
      ],
      "text/plain": [
       "     instant      dteday  season  yr  mnth  holiday  weekday  workingday  \\\n",
       "0          1    1/1/2018       1   0     1        0        6           0   \n",
       "1          2    2/1/2018       1   0     1        0        0           0   \n",
       "2          3    3/1/2018       1   0     1        0        1           1   \n",
       "3          4    4/1/2018       1   0     1        0        2           1   \n",
       "4          5    5/1/2018       1   0     1        0        3           1   \n",
       "..       ...         ...     ...  ..   ...      ...      ...         ...   \n",
       "725      726  27-12-2019       1   1    12        0        4           1   \n",
       "726      727  28-12-2019       1   1    12        0        5           1   \n",
       "727      728  29-12-2019       1   1    12        0        6           0   \n",
       "728      729  30-12-2019       1   1    12        0        0           0   \n",
       "729      730  31-12-2019       1   1    12        0        1           1   \n",
       "\n",
       "     weathersit       temp     atemp      hum  windspeed  casual  registered  \\\n",
       "0             2  14.110847  18.18125  80.5833  10.749882     331         654   \n",
       "1             2  14.902598  17.68695  69.6087  16.652113     131         670   \n",
       "2             1   8.050924   9.47025  43.7273  16.636703     120        1229   \n",
       "3             1   8.200000  10.60610  59.0435  10.739832     108        1454   \n",
       "4             1   9.305237  11.46350  43.6957  12.522300      82        1518   \n",
       "..          ...        ...       ...      ...        ...     ...         ...   \n",
       "725           2  10.420847  11.33210  65.2917  23.458911     247        1867   \n",
       "726           2  10.386653  12.75230  59.0000  10.416557     644        2451   \n",
       "727           2  10.386653  12.12000  75.2917   8.333661     159        1182   \n",
       "728           1  10.489153  11.58500  48.3333  23.500518     364        1432   \n",
       "729           2   8.849153  11.17435  57.7500  10.374682     439        2290   \n",
       "\n",
       "      cnt  \n",
       "0     985  \n",
       "1     801  \n",
       "2    1349  \n",
       "3    1562  \n",
       "4    1600  \n",
       "..    ...  \n",
       "725  2114  \n",
       "726  3095  \n",
       "727  1341  \n",
       "728  1796  \n",
       "729  2729  \n",
       "\n",
       "[730 rows x 16 columns]"
      ]
     },
     "execution_count": 5,
     "metadata": {},
     "output_type": "execute_result"
    }
   ],
   "source": [
    "bike"
   ]
  },
  {
   "cell_type": "code",
   "execution_count": 6,
   "id": "1f6ed15b",
   "metadata": {},
   "outputs": [],
   "source": [
    "bike.drop('dteday',axis = 1,inplace = True)\n",
    "y = bike['cnt']\n",
    "bike.drop('cnt',axis = 1,inplace = True)"
   ]
  },
  {
   "cell_type": "code",
   "execution_count": 7,
   "id": "28504371",
   "metadata": {},
   "outputs": [
    {
     "name": "stdout",
     "output_type": "stream",
     "text": [
      "<class 'pandas.core.frame.DataFrame'>\n",
      "RangeIndex: 730 entries, 0 to 729\n",
      "Data columns (total 14 columns):\n",
      " #   Column      Non-Null Count  Dtype  \n",
      "---  ------      --------------  -----  \n",
      " 0   instant     730 non-null    int64  \n",
      " 1   season      730 non-null    int64  \n",
      " 2   yr          730 non-null    int64  \n",
      " 3   mnth        730 non-null    int64  \n",
      " 4   holiday     730 non-null    int64  \n",
      " 5   weekday     730 non-null    int64  \n",
      " 6   workingday  730 non-null    int64  \n",
      " 7   weathersit  730 non-null    int64  \n",
      " 8   temp        730 non-null    float64\n",
      " 9   atemp       730 non-null    float64\n",
      " 10  hum         730 non-null    float64\n",
      " 11  windspeed   730 non-null    float64\n",
      " 12  casual      730 non-null    int64  \n",
      " 13  registered  730 non-null    int64  \n",
      "dtypes: float64(4), int64(10)\n",
      "memory usage: 80.0 KB\n"
     ]
    }
   ],
   "source": [
    "bike.info()"
   ]
  },
  {
   "cell_type": "code",
   "execution_count": 8,
   "id": "9366a420",
   "metadata": {},
   "outputs": [
    {
     "data": {
      "text/html": [
       "<div>\n",
       "<style scoped>\n",
       "    .dataframe tbody tr th:only-of-type {\n",
       "        vertical-align: middle;\n",
       "    }\n",
       "\n",
       "    .dataframe tbody tr th {\n",
       "        vertical-align: top;\n",
       "    }\n",
       "\n",
       "    .dataframe thead th {\n",
       "        text-align: right;\n",
       "    }\n",
       "</style>\n",
       "<table border=\"1\" class=\"dataframe\">\n",
       "  <thead>\n",
       "    <tr style=\"text-align: right;\">\n",
       "      <th></th>\n",
       "      <th>instant</th>\n",
       "      <th>season</th>\n",
       "      <th>yr</th>\n",
       "      <th>mnth</th>\n",
       "      <th>holiday</th>\n",
       "      <th>weekday</th>\n",
       "      <th>workingday</th>\n",
       "      <th>weathersit</th>\n",
       "      <th>temp</th>\n",
       "      <th>atemp</th>\n",
       "      <th>hum</th>\n",
       "      <th>windspeed</th>\n",
       "      <th>casual</th>\n",
       "      <th>registered</th>\n",
       "    </tr>\n",
       "  </thead>\n",
       "  <tbody>\n",
       "    <tr>\n",
       "      <th>count</th>\n",
       "      <td>730.000000</td>\n",
       "      <td>730.000000</td>\n",
       "      <td>730.000000</td>\n",
       "      <td>730.000000</td>\n",
       "      <td>730.000000</td>\n",
       "      <td>730.000000</td>\n",
       "      <td>730.000000</td>\n",
       "      <td>730.000000</td>\n",
       "      <td>730.000000</td>\n",
       "      <td>730.000000</td>\n",
       "      <td>730.000000</td>\n",
       "      <td>730.000000</td>\n",
       "      <td>730.000000</td>\n",
       "      <td>730.000000</td>\n",
       "    </tr>\n",
       "    <tr>\n",
       "      <th>mean</th>\n",
       "      <td>365.500000</td>\n",
       "      <td>2.498630</td>\n",
       "      <td>0.500000</td>\n",
       "      <td>6.526027</td>\n",
       "      <td>0.028767</td>\n",
       "      <td>2.997260</td>\n",
       "      <td>0.683562</td>\n",
       "      <td>1.394521</td>\n",
       "      <td>20.319259</td>\n",
       "      <td>23.726322</td>\n",
       "      <td>62.765175</td>\n",
       "      <td>12.763620</td>\n",
       "      <td>849.249315</td>\n",
       "      <td>3658.757534</td>\n",
       "    </tr>\n",
       "    <tr>\n",
       "      <th>std</th>\n",
       "      <td>210.877136</td>\n",
       "      <td>1.110184</td>\n",
       "      <td>0.500343</td>\n",
       "      <td>3.450215</td>\n",
       "      <td>0.167266</td>\n",
       "      <td>2.006161</td>\n",
       "      <td>0.465405</td>\n",
       "      <td>0.544807</td>\n",
       "      <td>7.506729</td>\n",
       "      <td>8.150308</td>\n",
       "      <td>14.237589</td>\n",
       "      <td>5.195841</td>\n",
       "      <td>686.479875</td>\n",
       "      <td>1559.758728</td>\n",
       "    </tr>\n",
       "    <tr>\n",
       "      <th>min</th>\n",
       "      <td>1.000000</td>\n",
       "      <td>1.000000</td>\n",
       "      <td>0.000000</td>\n",
       "      <td>1.000000</td>\n",
       "      <td>0.000000</td>\n",
       "      <td>0.000000</td>\n",
       "      <td>0.000000</td>\n",
       "      <td>1.000000</td>\n",
       "      <td>2.424346</td>\n",
       "      <td>3.953480</td>\n",
       "      <td>0.000000</td>\n",
       "      <td>1.500244</td>\n",
       "      <td>2.000000</td>\n",
       "      <td>20.000000</td>\n",
       "    </tr>\n",
       "    <tr>\n",
       "      <th>25%</th>\n",
       "      <td>183.250000</td>\n",
       "      <td>2.000000</td>\n",
       "      <td>0.000000</td>\n",
       "      <td>4.000000</td>\n",
       "      <td>0.000000</td>\n",
       "      <td>1.000000</td>\n",
       "      <td>0.000000</td>\n",
       "      <td>1.000000</td>\n",
       "      <td>13.811885</td>\n",
       "      <td>16.889713</td>\n",
       "      <td>52.000000</td>\n",
       "      <td>9.041650</td>\n",
       "      <td>316.250000</td>\n",
       "      <td>2502.250000</td>\n",
       "    </tr>\n",
       "    <tr>\n",
       "      <th>50%</th>\n",
       "      <td>365.500000</td>\n",
       "      <td>3.000000</td>\n",
       "      <td>0.500000</td>\n",
       "      <td>7.000000</td>\n",
       "      <td>0.000000</td>\n",
       "      <td>3.000000</td>\n",
       "      <td>1.000000</td>\n",
       "      <td>1.000000</td>\n",
       "      <td>20.465826</td>\n",
       "      <td>24.368225</td>\n",
       "      <td>62.625000</td>\n",
       "      <td>12.125325</td>\n",
       "      <td>717.000000</td>\n",
       "      <td>3664.500000</td>\n",
       "    </tr>\n",
       "    <tr>\n",
       "      <th>75%</th>\n",
       "      <td>547.750000</td>\n",
       "      <td>3.000000</td>\n",
       "      <td>1.000000</td>\n",
       "      <td>10.000000</td>\n",
       "      <td>0.000000</td>\n",
       "      <td>5.000000</td>\n",
       "      <td>1.000000</td>\n",
       "      <td>2.000000</td>\n",
       "      <td>26.880615</td>\n",
       "      <td>30.445775</td>\n",
       "      <td>72.989575</td>\n",
       "      <td>15.625589</td>\n",
       "      <td>1096.500000</td>\n",
       "      <td>4783.250000</td>\n",
       "    </tr>\n",
       "    <tr>\n",
       "      <th>max</th>\n",
       "      <td>730.000000</td>\n",
       "      <td>4.000000</td>\n",
       "      <td>1.000000</td>\n",
       "      <td>12.000000</td>\n",
       "      <td>1.000000</td>\n",
       "      <td>6.000000</td>\n",
       "      <td>1.000000</td>\n",
       "      <td>3.000000</td>\n",
       "      <td>35.328347</td>\n",
       "      <td>42.044800</td>\n",
       "      <td>97.250000</td>\n",
       "      <td>34.000021</td>\n",
       "      <td>3410.000000</td>\n",
       "      <td>6946.000000</td>\n",
       "    </tr>\n",
       "  </tbody>\n",
       "</table>\n",
       "</div>"
      ],
      "text/plain": [
       "          instant      season          yr        mnth     holiday     weekday  \\\n",
       "count  730.000000  730.000000  730.000000  730.000000  730.000000  730.000000   \n",
       "mean   365.500000    2.498630    0.500000    6.526027    0.028767    2.997260   \n",
       "std    210.877136    1.110184    0.500343    3.450215    0.167266    2.006161   \n",
       "min      1.000000    1.000000    0.000000    1.000000    0.000000    0.000000   \n",
       "25%    183.250000    2.000000    0.000000    4.000000    0.000000    1.000000   \n",
       "50%    365.500000    3.000000    0.500000    7.000000    0.000000    3.000000   \n",
       "75%    547.750000    3.000000    1.000000   10.000000    0.000000    5.000000   \n",
       "max    730.000000    4.000000    1.000000   12.000000    1.000000    6.000000   \n",
       "\n",
       "       workingday  weathersit        temp       atemp         hum   windspeed  \\\n",
       "count  730.000000  730.000000  730.000000  730.000000  730.000000  730.000000   \n",
       "mean     0.683562    1.394521   20.319259   23.726322   62.765175   12.763620   \n",
       "std      0.465405    0.544807    7.506729    8.150308   14.237589    5.195841   \n",
       "min      0.000000    1.000000    2.424346    3.953480    0.000000    1.500244   \n",
       "25%      0.000000    1.000000   13.811885   16.889713   52.000000    9.041650   \n",
       "50%      1.000000    1.000000   20.465826   24.368225   62.625000   12.125325   \n",
       "75%      1.000000    2.000000   26.880615   30.445775   72.989575   15.625589   \n",
       "max      1.000000    3.000000   35.328347   42.044800   97.250000   34.000021   \n",
       "\n",
       "            casual   registered  \n",
       "count   730.000000   730.000000  \n",
       "mean    849.249315  3658.757534  \n",
       "std     686.479875  1559.758728  \n",
       "min       2.000000    20.000000  \n",
       "25%     316.250000  2502.250000  \n",
       "50%     717.000000  3664.500000  \n",
       "75%    1096.500000  4783.250000  \n",
       "max    3410.000000  6946.000000  "
      ]
     },
     "execution_count": 8,
     "metadata": {},
     "output_type": "execute_result"
    }
   ],
   "source": [
    "bike.describe(include = 'all')"
   ]
  },
  {
   "cell_type": "code",
   "execution_count": 9,
   "id": "430438fe",
   "metadata": {},
   "outputs": [
    {
     "data": {
      "text/plain": [
       "instant       0\n",
       "season        0\n",
       "yr            0\n",
       "mnth          0\n",
       "holiday       0\n",
       "weekday       0\n",
       "workingday    0\n",
       "weathersit    0\n",
       "temp          0\n",
       "atemp         0\n",
       "hum           0\n",
       "windspeed     0\n",
       "casual        0\n",
       "registered    0\n",
       "dtype: int64"
      ]
     },
     "execution_count": 9,
     "metadata": {},
     "output_type": "execute_result"
    }
   ],
   "source": [
    "bike.isnull().sum()"
   ]
  },
  {
   "cell_type": "code",
   "execution_count": 10,
   "id": "dbe4af09",
   "metadata": {},
   "outputs": [
    {
     "name": "stderr",
     "output_type": "stream",
     "text": [
      "C:\\Users\\rimmadisetty\\Anaconda3\\lib\\site-packages\\seaborn\\distributions.py:2557: FutureWarning: `distplot` is a deprecated function and will be removed in a future version. Please adapt your code to use either `displot` (a figure-level function with similar flexibility) or `histplot` (an axes-level function for histograms).\n",
      "  warnings.warn(msg, FutureWarning)\n"
     ]
    },
    {
     "data": {
      "text/plain": [
       "<AxesSubplot:ylabel='Density'>"
      ]
     },
     "execution_count": 10,
     "metadata": {},
     "output_type": "execute_result"
    },
    {
     "data": {
      "image/png": "[encoded data removed]",
      "text/plain": [
       "<Figure size 432x288 with 1 Axes>"
      ]
     },
     "metadata": {
      "needs_background": "light"
     },
     "output_type": "display_data"
    }
   ],
   "source": [
    "sns.distplot(x=bike['season'])"
   ]
  },
  {
   "cell_type": "code",
   "execution_count": 11,
   "id": "b9d3464f",
   "metadata": {},
   "outputs": [
    {
     "name": "stderr",
     "output_type": "stream",
     "text": [
      "C:\\Users\\rimmadisetty\\Anaconda3\\lib\\site-packages\\seaborn\\distributions.py:2557: FutureWarning: `distplot` is a deprecated function and will be removed in a future version. Please adapt your code to use either `displot` (a figure-level function with similar flexibility) or `histplot` (an axes-level function for histograms).\n",
      "  warnings.warn(msg, FutureWarning)\n"
     ]
    },
    {
     "data": {
      "text/plain": [
       "<AxesSubplot:ylabel='Density'>"
      ]
     },
     "execution_count": 11,
     "metadata": {},
     "output_type": "execute_result"
    },
    {
     "data": {
      "image/png": "[encoded data removed]",
      "text/plain": [
       "<Figure size 432x288 with 1 Axes>"
      ]
     },
     "metadata": {
      "needs_background": "light"
     },
     "output_type": "display_data"
    }
   ],
   "source": [
    "sns.distplot(x=bike['holiday'])"
   ]
  },
  {
   "cell_type": "code",
   "execution_count": 12,
   "id": "d661fa90",
   "metadata": {},
   "outputs": [
    {
     "name": "stderr",
     "output_type": "stream",
     "text": [
      "C:\\Users\\rimmadisetty\\Anaconda3\\lib\\site-packages\\seaborn\\distributions.py:2557: FutureWarning: `distplot` is a deprecated function and will be removed in a future version. Please adapt your code to use either `displot` (a figure-level function with similar flexibility) or `histplot` (an axes-level function for histograms).\n",
      "  warnings.warn(msg, FutureWarning)\n"
     ]
    },
    {
     "data": {
      "text/plain": [
       "<AxesSubplot:ylabel='Density'>"
      ]
     },
     "execution_count": 12,
     "metadata": {},
     "output_type": "execute_result"
    },
    {
     "data": {
      "image/png": "[encoded data removed]",
      "text/plain": [
       "<Figure size 432x288 with 1 Axes>"
      ]
     },
     "metadata": {
      "needs_background": "light"
     },
     "output_type": "display_data"
    }
   ],
   "source": [
    "sns.distplot(x=bike['temp'])"
   ]
  },
  {
   "cell_type": "code",
   "execution_count": 13,
   "id": "c28fd549",
   "metadata": {},
   "outputs": [
    {
     "data": {
      "text/plain": [
       "<AxesSubplot:>"
      ]
     },
     "execution_count": 13,
     "metadata": {},
     "output_type": "execute_result"
    },
    {
     "data": {
      "image/png": "[encoded data removed]",
      "text/plain": [
       "<Figure size 432x288 with 1 Axes>"
      ]
     },
     "metadata": {
      "needs_background": "light"
     },
     "output_type": "display_data"
    }
   ],
   "source": [
    "sns.boxplot(data = bike,orient = 'h')"
   ]
  },
  {
   "cell_type": "code",
   "execution_count": 14,
   "id": "301cfc2b",
   "metadata": {},
   "outputs": [
    {
     "data": {
      "text/plain": [
       "Index(['instant', 'season', 'yr', 'mnth', 'holiday', 'weekday', 'workingday',\n",
       "       'weathersit', 'temp', 'atemp', 'hum', 'windspeed', 'casual',\n",
       "       'registered'],\n",
       "      dtype='object')"
      ]
     },
     "execution_count": 14,
     "metadata": {},
     "output_type": "execute_result"
    }
   ],
   "source": [
    "bike.columns"
   ]
  },
  {
   "cell_type": "code",
   "execution_count": 15,
   "id": "2904248b",
   "metadata": {},
   "outputs": [],
   "source": [
    "featu = ['season', 'yr', 'mnth', 'holiday', 'weekday',\n",
    "       'workingday', 'weathersit', 'temp', 'atemp', 'hum', 'windspeed',\n",
    "       'casual', 'registered']"
   ]
  },
  {
   "cell_type": "code",
   "execution_count": 16,
   "id": "26408764",
   "metadata": {},
   "outputs": [
    {
     "data": {
      "text/plain": [
       "<AxesSubplot:xlabel='season'>"
      ]
     },
     "execution_count": 16,
     "metadata": {},
     "output_type": "execute_result"
    },
    {
     "data": {
      "image/png": "[encoded data removed]",
      "text/plain": [
       "<Figure size 432x288 with 1 Axes>"
      ]
     },
     "metadata": {
      "needs_background": "light"
     },
     "output_type": "display_data"
    }
   ],
   "source": [
    "sns.violinplot(x=bike['season'])"
   ]
  },
  {
   "cell_type": "code",
   "execution_count": 17,
   "id": "9311ce39",
   "metadata": {},
   "outputs": [
    {
     "data": {
      "text/plain": [
       "<AxesSubplot:xlabel='weathersit'>"
      ]
     },
     "execution_count": 17,
     "metadata": {},
     "output_type": "execute_result"
    },
    {
     "data": {
      "image/png": "[encoded data removed]",
      "text/plain": [
       "<Figure size 432x288 with 1 Axes>"
      ]
     },
     "metadata": {
      "needs_background": "light"
     },
     "output_type": "display_data"
    }
   ],
   "source": [
    "sns.violinplot(x=bike['weathersit'],data=bike)"
   ]
  },
  {
   "cell_type": "code",
   "execution_count": 18,
   "id": "22a3d1b1",
   "metadata": {},
   "outputs": [],
   "source": [
    "outlie = []\n",
    "def detect_outlier_iqr(bike,feature):\n",
    "    IQR = np.percentile(bike[feature],75) - np.percentile(bike[feature],25)     \n",
    "    LB  = np.percentile(bike[feature],25) - 1.5*IQR\n",
    "    UB  = np.percentile(bike[feature],75) + 1.5*IQR\n",
    "   # coun = ((bike[feature] > UB) | (bike[feature] < LB)).sum()\n",
    "    count = ((bike[feature] > UB ) | (bike[feature] < LB)).sum()\n",
    "    li = []\n",
    "    for x in bike[feature]:\n",
    "        if (x > UB) | (x < LB):\n",
    "            li.append(x)\n",
    "    print(feature)\n",
    "    print(f'LB is {LB} and  UB is {UB}  no_of_outliers {count} ')\n",
    "   # print(li)\n",
    "    if count > 0:\n",
    "        outlie.append(feature)   "
   ]
  },
  {
   "cell_type": "code",
   "execution_count": 19,
   "id": "cc8b6bf1",
   "metadata": {},
   "outputs": [
    {
     "name": "stdout",
     "output_type": "stream",
     "text": [
      "instant\n",
      "LB is -363.5 and  UB is 1094.5  no_of_outliers 0 \n",
      "season\n",
      "LB is 0.5 and  UB is 4.5  no_of_outliers 0 \n",
      "yr\n",
      "LB is -1.5 and  UB is 2.5  no_of_outliers 0 \n",
      "mnth\n",
      "LB is -5.0 and  UB is 19.0  no_of_outliers 0 \n",
      "holiday\n",
      "LB is 0.0 and  UB is 0.0  no_of_outliers 21 \n",
      "weekday\n",
      "LB is -5.0 and  UB is 11.0  no_of_outliers 0 \n",
      "workingday\n",
      "LB is -1.5 and  UB is 2.5  no_of_outliers 0 \n",
      "weathersit\n",
      "LB is -0.5 and  UB is 3.5  no_of_outliers 0 \n",
      "temp\n",
      "LB is -5.7912089999999985 and  UB is 46.483709  no_of_outliers 0 \n",
      "atemp\n",
      "LB is -3.444381249999992 and  UB is 50.77986874999999  no_of_outliers 0 \n",
      "hum\n",
      "LB is 20.515637499999997 and  UB is 104.4739375  no_of_outliers 2 \n",
      "windspeed\n",
      "LB is -0.8342588749999997 and  UB is 25.501498125  no_of_outliers 13 \n",
      "casual\n",
      "LB is -854.125 and  UB is 2266.875  no_of_outliers 44 \n",
      "registered\n",
      "LB is -919.25 and  UB is 8204.75  no_of_outliers 0 \n"
     ]
    },
    {
     "data": {
      "text/plain": [
       "['holiday', 'hum', 'windspeed', 'casual']"
      ]
     },
     "execution_count": 19,
     "metadata": {},
     "output_type": "execute_result"
    }
   ],
   "source": [
    "outlie = []\n",
    "for feat in bike.columns:\n",
    "    detect_outlier_iqr(bike,feat)\n",
    "outlie"
   ]
  },
  {
   "cell_type": "code",
   "execution_count": 20,
   "id": "4d7eb0d5",
   "metadata": {},
   "outputs": [
    {
     "name": "stderr",
     "output_type": "stream",
     "text": [
      "C:\\Users\\rimmadisetty\\Anaconda3\\lib\\site-packages\\seaborn\\distributions.py:2557: FutureWarning: `distplot` is a deprecated function and will be removed in a future version. Please adapt your code to use either `displot` (a figure-level function with similar flexibility) or `histplot` (an axes-level function for histograms).\n",
      "  warnings.warn(msg, FutureWarning)\n"
     ]
    },
    {
     "data": {
      "text/plain": [
       "<AxesSubplot:ylabel='Density'>"
      ]
     },
     "execution_count": 20,
     "metadata": {},
     "output_type": "execute_result"
    },
    {
     "data": {
      "image/png": "[encoded data removed]",
      "text/plain": [
       "<Figure size 432x288 with 1 Axes>"
      ]
     },
     "metadata": {
      "needs_background": "light"
     },
     "output_type": "display_data"
    }
   ],
   "source": [
    "sns.distplot(x=bike['holiday'])"
   ]
  },
  {
   "cell_type": "code",
   "execution_count": 21,
   "id": "74335b83",
   "metadata": {},
   "outputs": [],
   "source": [
    "def value_coun(bike,feature):\n",
    "    print(bike[feature].value_counts())"
   ]
  },
  {
   "cell_type": "code",
   "execution_count": 22,
   "id": "e630459e",
   "metadata": {},
   "outputs": [
    {
     "name": "stdout",
     "output_type": "stream",
     "text": [
      "0    709\n",
      "1     21\n",
      "Name: holiday, dtype: int64\n",
      "61.3333    4\n",
      "63.0833    3\n",
      "55.2083    3\n",
      "60.5000    3\n",
      "56.8333    3\n",
      "          ..\n",
      "54.8333    1\n",
      "56.1765    1\n",
      "85.0000    1\n",
      "76.1250    1\n",
      "57.7500    1\n",
      "Name: hum, Length: 594, dtype: int64\n",
      "9.041918     3\n",
      "11.166689    3\n",
      "11.250104    3\n",
      "15.333486    3\n",
      "7.959064     3\n",
      "            ..\n",
      "12.416775    1\n",
      "13.833289    1\n",
      "14.250632    1\n",
      "23.044181    1\n",
      "10.374682    1\n",
      "Name: windspeed, Length: 649, dtype: int64\n",
      "120     4\n",
      "968     4\n",
      "639     3\n",
      "163     3\n",
      "775     3\n",
      "       ..\n",
      "2521    1\n",
      "1935    1\n",
      "783     1\n",
      "688     1\n",
      "364     1\n",
      "Name: casual, Length: 605, dtype: int64\n"
     ]
    }
   ],
   "source": [
    "for feat in outlie:\n",
    "    value_coun(bike,feat)"
   ]
  },
  {
   "cell_type": "markdown",
   "id": "6a162218",
   "metadata": {},
   "source": [
    "## holiday is not outlier feature since it has only two values"
   ]
  },
  {
   "cell_type": "code",
   "execution_count": 23,
   "id": "ee28bcf7",
   "metadata": {},
   "outputs": [
    {
     "data": {
      "text/plain": [
       "['holiday', 'hum', 'windspeed', 'casual']"
      ]
     },
     "execution_count": 23,
     "metadata": {},
     "output_type": "execute_result"
    }
   ],
   "source": [
    "outlie"
   ]
  },
  {
   "cell_type": "code",
   "execution_count": 24,
   "id": "601dfabc",
   "metadata": {},
   "outputs": [],
   "source": [
    "outlie.remove('holiday')"
   ]
  },
  {
   "cell_type": "code",
   "execution_count": 25,
   "id": "024067fc",
   "metadata": {},
   "outputs": [
    {
     "data": {
      "text/plain": [
       "['hum', 'windspeed', 'casual']"
      ]
     },
     "execution_count": 25,
     "metadata": {},
     "output_type": "execute_result"
    }
   ],
   "source": [
    "outlie"
   ]
  },
  {
   "cell_type": "code",
   "execution_count": 26,
   "id": "3b4dc375",
   "metadata": {},
   "outputs": [
    {
     "data": {
      "text/plain": [
       "<AxesSubplot:xlabel='hum'>"
      ]
     },
     "execution_count": 26,
     "metadata": {},
     "output_type": "execute_result"
    },
    {
     "data": {
      "image/png": "[encoded data removed]",
      "text/plain": [
       "<Figure size 432x288 with 1 Axes>"
      ]
     },
     "metadata": {
      "needs_background": "light"
     },
     "output_type": "display_data"
    }
   ],
   "source": [
    "sns.boxplot(x=bike['hum'])"
   ]
  },
  {
   "cell_type": "code",
   "execution_count": 27,
   "id": "5d5aa2da",
   "metadata": {},
   "outputs": [],
   "source": [
    "bike['hum'] = bike['hum'].apply( lambda x : np.mean(bike['hum']) if ((x <= 20.51) | (x >= 104.51)) else x)"
   ]
  },
  {
   "cell_type": "code",
   "execution_count": 28,
   "id": "475e51f7",
   "metadata": {},
   "outputs": [
    {
     "data": {
      "text/plain": [
       "62.91139226008632"
      ]
     },
     "execution_count": 28,
     "metadata": {},
     "output_type": "execute_result"
    }
   ],
   "source": [
    "np.mean(bike['hum'])"
   ]
  },
  {
   "cell_type": "code",
   "execution_count": 32,
   "id": "ff3cb02d",
   "metadata": {},
   "outputs": [
    {
     "data": {
      "text/plain": [
       "<AxesSubplot:xlabel='windspeed'>"
      ]
     },
     "execution_count": 32,
     "metadata": {},
     "output_type": "execute_result"
    },
    {
     "data": {
      "image/png": "[encoded data removed]",
      "text/plain": [
       "<Figure size 432x288 with 1 Axes>"
      ]
     },
     "metadata": {
      "needs_background": "light"
     },
     "output_type": "display_data"
    }
   ],
   "source": [
    "sns.boxplot(x=bike['windspeed'])"
   ]
  },
  {
   "cell_type": "code",
   "execution_count": 33,
   "id": "53f5e73d",
   "metadata": {},
   "outputs": [
    {
     "name": "stdout",
     "output_type": "stream",
     "text": [
      "windspeed\n",
      "LB is -0.504719374999997 and  UB is 24.952265624999995  no_of_outliers 4 \n"
     ]
    }
   ],
   "source": [
    "detect_outlier_iqr(bike,'windspeed')"
   ]
  },
  {
   "cell_type": "code",
   "execution_count": 31,
   "id": "0ed8ef17",
   "metadata": {},
   "outputs": [],
   "source": [
    "bike['windspeed'] = bike['windspeed'].apply( lambda x : np.median(bike['windspeed']) if ((x <= -0.8342) | (x >= 25.50)) else x)"
   ]
  },
  {
   "cell_type": "code",
   "execution_count": 32,
   "id": "41d776b7",
   "metadata": {},
   "outputs": [
    {
     "data": {
      "text/plain": [
       "<AxesSubplot:xlabel='casual'>"
      ]
     },
     "execution_count": 32,
     "metadata": {},
     "output_type": "execute_result"
    },
    {
     "data": {
      "image/png": "[encoded data removed]",
      "text/plain": [
       "<Figure size 432x288 with 1 Axes>"
      ]
     },
     "metadata": {
      "needs_background": "light"
     },
     "output_type": "display_data"
    }
   ],
   "source": [
    "sns.boxplot(x=bike['casual'])"
   ]
  },
  {
   "cell_type": "code",
   "execution_count": 33,
   "id": "2334bede",
   "metadata": {},
   "outputs": [
    {
     "name": "stdout",
     "output_type": "stream",
     "text": [
      "LB is -854.125 and  UB is 2266.875 for the casual count 44 \n",
      "[2355, 2282, 3065, 2418, 2521, 2397, 3155, 2469, 2301, 2347, 3252, 2795, 2846, 2541, 2496, 2622, 3410, 2704, 2855, 3283, 2557, 2795, 2494, 2708, 2963, 2634, 2657, 2551, 2562, 2355, 2544, 2345, 2827, 2352, 2613, 2570, 3160, 2512, 2454, 2589, 3031, 2806, 2643, 2290]\n"
     ]
    }
   ],
   "source": [
    "detect_outlier_iqr(bike,'casual')"
   ]
  },
  {
   "cell_type": "code",
   "execution_count": 34,
   "id": "abd0ff59",
   "metadata": {},
   "outputs": [],
   "source": [
    "def imputeoutl(x):\n",
    "    lb = -854.125\n",
    "    ub = 2266.87\n",
    "    if ((x >= lb) & (x <= ub)):\n",
    "        return x\n",
    "    if x <= lb:\n",
    "        return lb\n",
    "    if x >= ub:\n",
    "        return ub"
   ]
  },
  {
   "cell_type": "code",
   "execution_count": 35,
   "id": "0e7111d8",
   "metadata": {},
   "outputs": [],
   "source": [
    "bike['casual'] = bike['casual'].apply( lambda x : imputeoutl(x))"
   ]
  },
  {
   "cell_type": "code",
   "execution_count": 36,
   "id": "24a97275",
   "metadata": {},
   "outputs": [
    {
     "name": "stdout",
     "output_type": "stream",
     "text": [
      "LB is -363.5 and  UB is 1094.5 for the instant count 0 \n",
      "[]\n",
      "LB is 0.5 and  UB is 4.5 for the season count 0 \n",
      "[]\n",
      "LB is -1.5 and  UB is 2.5 for the yr count 0 \n",
      "[]\n",
      "LB is -5.0 and  UB is 19.0 for the mnth count 0 \n",
      "[]\n",
      "LB is 0.0 and  UB is 0.0 for the holiday count 21 \n",
      "[1, 1, 1, 1, 1, 1, 1, 1, 1, 1, 1, 1, 1, 1, 1, 1, 1, 1, 1, 1, 1]\n",
      "LB is -5.0 and  UB is 11.0 for the weekday count 0 \n",
      "[]\n",
      "LB is -1.5 and  UB is 2.5 for the workingday count 0 \n",
      "[]\n",
      "LB is -0.5 and  UB is 3.5 for the weathersit count 0 \n",
      "[]\n",
      "LB is -5.7912089999999985 and  UB is 46.483709 for the temp count 0 \n",
      "[]\n",
      "LB is -3.444381249999992 and  UB is 50.77986874999999 for the atemp count 0 \n",
      "[]\n",
      "LB is 21.062449999999995 and  UB is 104.14585000000001 for the hum count 0 \n",
      "[]\n",
      "LB is -0.39610399999999935 and  UB is 24.77124 for the windspeed count 0 \n",
      "[]\n",
      "LB is -854.125 and  UB is 2266.875 for the casual count 0 \n",
      "[]\n",
      "LB is -919.25 and  UB is 8204.75 for the registered count 0 \n",
      "[]\n"
     ]
    },
    {
     "data": {
      "text/plain": [
       "['hum', 'windspeed', 'casual', 'windspeed', 'casual', 'holiday']"
      ]
     },
     "execution_count": 36,
     "metadata": {},
     "output_type": "execute_result"
    }
   ],
   "source": [
    "for feat in bike.columns:\n",
    "    detect_outlier_iqr(bike,feat)\n",
    "outlie"
   ]
  },
  {
   "cell_type": "markdown",
   "id": "e642c1c4",
   "metadata": {},
   "source": [
    "# Now we have to scale data"
   ]
  },
  {
   "cell_type": "code",
   "execution_count": 37,
   "id": "71c6a61e",
   "metadata": {},
   "outputs": [
    {
     "data": {
      "text/html": [
       "<div>\n",
       "<style scoped>\n",
       "    .dataframe tbody tr th:only-of-type {\n",
       "        vertical-align: middle;\n",
       "    }\n",
       "\n",
       "    .dataframe tbody tr th {\n",
       "        vertical-align: top;\n",
       "    }\n",
       "\n",
       "    .dataframe thead th {\n",
       "        text-align: right;\n",
       "    }\n",
       "</style>\n",
       "<table border=\"1\" class=\"dataframe\">\n",
       "  <thead>\n",
       "    <tr style=\"text-align: right;\">\n",
       "      <th></th>\n",
       "      <th>instant</th>\n",
       "      <th>season</th>\n",
       "      <th>yr</th>\n",
       "      <th>mnth</th>\n",
       "      <th>holiday</th>\n",
       "      <th>weekday</th>\n",
       "      <th>workingday</th>\n",
       "      <th>weathersit</th>\n",
       "      <th>temp</th>\n",
       "      <th>atemp</th>\n",
       "      <th>hum</th>\n",
       "      <th>windspeed</th>\n",
       "      <th>casual</th>\n",
       "      <th>registered</th>\n",
       "    </tr>\n",
       "  </thead>\n",
       "  <tbody>\n",
       "    <tr>\n",
       "      <th>0</th>\n",
       "      <td>1</td>\n",
       "      <td>1</td>\n",
       "      <td>0</td>\n",
       "      <td>1</td>\n",
       "      <td>0</td>\n",
       "      <td>6</td>\n",
       "      <td>0</td>\n",
       "      <td>2</td>\n",
       "      <td>14.110847</td>\n",
       "      <td>18.18125</td>\n",
       "      <td>80.5833</td>\n",
       "      <td>10.749882</td>\n",
       "      <td>331.0</td>\n",
       "      <td>654</td>\n",
       "    </tr>\n",
       "    <tr>\n",
       "      <th>1</th>\n",
       "      <td>2</td>\n",
       "      <td>1</td>\n",
       "      <td>0</td>\n",
       "      <td>1</td>\n",
       "      <td>0</td>\n",
       "      <td>0</td>\n",
       "      <td>0</td>\n",
       "      <td>2</td>\n",
       "      <td>14.902598</td>\n",
       "      <td>17.68695</td>\n",
       "      <td>69.6087</td>\n",
       "      <td>16.652113</td>\n",
       "      <td>131.0</td>\n",
       "      <td>670</td>\n",
       "    </tr>\n",
       "    <tr>\n",
       "      <th>2</th>\n",
       "      <td>3</td>\n",
       "      <td>1</td>\n",
       "      <td>0</td>\n",
       "      <td>1</td>\n",
       "      <td>0</td>\n",
       "      <td>1</td>\n",
       "      <td>1</td>\n",
       "      <td>1</td>\n",
       "      <td>8.050924</td>\n",
       "      <td>9.47025</td>\n",
       "      <td>43.7273</td>\n",
       "      <td>16.636703</td>\n",
       "      <td>120.0</td>\n",
       "      <td>1229</td>\n",
       "    </tr>\n",
       "    <tr>\n",
       "      <th>3</th>\n",
       "      <td>4</td>\n",
       "      <td>1</td>\n",
       "      <td>0</td>\n",
       "      <td>1</td>\n",
       "      <td>0</td>\n",
       "      <td>2</td>\n",
       "      <td>1</td>\n",
       "      <td>1</td>\n",
       "      <td>8.200000</td>\n",
       "      <td>10.60610</td>\n",
       "      <td>59.0435</td>\n",
       "      <td>10.739832</td>\n",
       "      <td>108.0</td>\n",
       "      <td>1454</td>\n",
       "    </tr>\n",
       "    <tr>\n",
       "      <th>4</th>\n",
       "      <td>5</td>\n",
       "      <td>1</td>\n",
       "      <td>0</td>\n",
       "      <td>1</td>\n",
       "      <td>0</td>\n",
       "      <td>3</td>\n",
       "      <td>1</td>\n",
       "      <td>1</td>\n",
       "      <td>9.305237</td>\n",
       "      <td>11.46350</td>\n",
       "      <td>43.6957</td>\n",
       "      <td>12.522300</td>\n",
       "      <td>82.0</td>\n",
       "      <td>1518</td>\n",
       "    </tr>\n",
       "    <tr>\n",
       "      <th>...</th>\n",
       "      <td>...</td>\n",
       "      <td>...</td>\n",
       "      <td>...</td>\n",
       "      <td>...</td>\n",
       "      <td>...</td>\n",
       "      <td>...</td>\n",
       "      <td>...</td>\n",
       "      <td>...</td>\n",
       "      <td>...</td>\n",
       "      <td>...</td>\n",
       "      <td>...</td>\n",
       "      <td>...</td>\n",
       "      <td>...</td>\n",
       "      <td>...</td>\n",
       "    </tr>\n",
       "    <tr>\n",
       "      <th>725</th>\n",
       "      <td>726</td>\n",
       "      <td>1</td>\n",
       "      <td>1</td>\n",
       "      <td>12</td>\n",
       "      <td>0</td>\n",
       "      <td>4</td>\n",
       "      <td>1</td>\n",
       "      <td>2</td>\n",
       "      <td>10.420847</td>\n",
       "      <td>11.33210</td>\n",
       "      <td>65.2917</td>\n",
       "      <td>23.458911</td>\n",
       "      <td>247.0</td>\n",
       "      <td>1867</td>\n",
       "    </tr>\n",
       "    <tr>\n",
       "      <th>726</th>\n",
       "      <td>727</td>\n",
       "      <td>1</td>\n",
       "      <td>1</td>\n",
       "      <td>12</td>\n",
       "      <td>0</td>\n",
       "      <td>5</td>\n",
       "      <td>1</td>\n",
       "      <td>2</td>\n",
       "      <td>10.386653</td>\n",
       "      <td>12.75230</td>\n",
       "      <td>59.0000</td>\n",
       "      <td>10.416557</td>\n",
       "      <td>644.0</td>\n",
       "      <td>2451</td>\n",
       "    </tr>\n",
       "    <tr>\n",
       "      <th>727</th>\n",
       "      <td>728</td>\n",
       "      <td>1</td>\n",
       "      <td>1</td>\n",
       "      <td>12</td>\n",
       "      <td>0</td>\n",
       "      <td>6</td>\n",
       "      <td>0</td>\n",
       "      <td>2</td>\n",
       "      <td>10.386653</td>\n",
       "      <td>12.12000</td>\n",
       "      <td>75.2917</td>\n",
       "      <td>8.333661</td>\n",
       "      <td>159.0</td>\n",
       "      <td>1182</td>\n",
       "    </tr>\n",
       "    <tr>\n",
       "      <th>728</th>\n",
       "      <td>729</td>\n",
       "      <td>1</td>\n",
       "      <td>1</td>\n",
       "      <td>12</td>\n",
       "      <td>0</td>\n",
       "      <td>0</td>\n",
       "      <td>0</td>\n",
       "      <td>1</td>\n",
       "      <td>10.489153</td>\n",
       "      <td>11.58500</td>\n",
       "      <td>48.3333</td>\n",
       "      <td>23.500518</td>\n",
       "      <td>364.0</td>\n",
       "      <td>1432</td>\n",
       "    </tr>\n",
       "    <tr>\n",
       "      <th>729</th>\n",
       "      <td>730</td>\n",
       "      <td>1</td>\n",
       "      <td>1</td>\n",
       "      <td>12</td>\n",
       "      <td>0</td>\n",
       "      <td>1</td>\n",
       "      <td>1</td>\n",
       "      <td>2</td>\n",
       "      <td>8.849153</td>\n",
       "      <td>11.17435</td>\n",
       "      <td>57.7500</td>\n",
       "      <td>10.374682</td>\n",
       "      <td>439.0</td>\n",
       "      <td>2290</td>\n",
       "    </tr>\n",
       "  </tbody>\n",
       "</table>\n",
       "<p>730 rows × 14 columns</p>\n",
       "</div>"
      ],
      "text/plain": [
       "     instant  season  yr  mnth  holiday  weekday  workingday  weathersit  \\\n",
       "0          1       1   0     1        0        6           0           2   \n",
       "1          2       1   0     1        0        0           0           2   \n",
       "2          3       1   0     1        0        1           1           1   \n",
       "3          4       1   0     1        0        2           1           1   \n",
       "4          5       1   0     1        0        3           1           1   \n",
       "..       ...     ...  ..   ...      ...      ...         ...         ...   \n",
       "725      726       1   1    12        0        4           1           2   \n",
       "726      727       1   1    12        0        5           1           2   \n",
       "727      728       1   1    12        0        6           0           2   \n",
       "728      729       1   1    12        0        0           0           1   \n",
       "729      730       1   1    12        0        1           1           2   \n",
       "\n",
       "          temp     atemp      hum  windspeed  casual  registered  \n",
       "0    14.110847  18.18125  80.5833  10.749882   331.0         654  \n",
       "1    14.902598  17.68695  69.6087  16.652113   131.0         670  \n",
       "2     8.050924   9.47025  43.7273  16.636703   120.0        1229  \n",
       "3     8.200000  10.60610  59.0435  10.739832   108.0        1454  \n",
       "4     9.305237  11.46350  43.6957  12.522300    82.0        1518  \n",
       "..         ...       ...      ...        ...     ...         ...  \n",
       "725  10.420847  11.33210  65.2917  23.458911   247.0        1867  \n",
       "726  10.386653  12.75230  59.0000  10.416557   644.0        2451  \n",
       "727  10.386653  12.12000  75.2917   8.333661   159.0        1182  \n",
       "728  10.489153  11.58500  48.3333  23.500518   364.0        1432  \n",
       "729   8.849153  11.17435  57.7500  10.374682   439.0        2290  \n",
       "\n",
       "[730 rows x 14 columns]"
      ]
     },
     "execution_count": 37,
     "metadata": {},
     "output_type": "execute_result"
    }
   ],
   "source": [
    "bike"
   ]
  },
  {
   "cell_type": "code",
   "execution_count": 38,
   "id": "65479354",
   "metadata": {},
   "outputs": [],
   "source": [
    "from sklearn import preprocessing"
   ]
  },
  {
   "cell_type": "code",
   "execution_count": 39,
   "id": "93790d6b",
   "metadata": {},
   "outputs": [],
   "source": [
    "standard = preprocessing.StandardScaler()"
   ]
  },
  {
   "cell_type": "code",
   "execution_count": 40,
   "id": "29678bf6",
   "metadata": {},
   "outputs": [],
   "source": [
    "bike = standard.fit_transform(bike)"
   ]
  },
  {
   "cell_type": "code",
   "execution_count": 41,
   "id": "c584553b",
   "metadata": {},
   "outputs": [
    {
     "data": {
      "text/plain": [
       "(730, 14)"
      ]
     },
     "execution_count": 41,
     "metadata": {},
     "output_type": "execute_result"
    }
   ],
   "source": [
    "bike.shape"
   ]
  },
  {
   "cell_type": "code",
   "execution_count": 42,
   "id": "14dd3663",
   "metadata": {},
   "outputs": [
    {
     "data": {
      "text/plain": [
       "array([[-1.72967976, -1.35081907, -1.        , ..., -0.35861803,\n",
       "        -0.79360519, -1.92774539],\n",
       "       [-1.72493441, -1.35081907, -1.        , ...,  0.90448603,\n",
       "        -1.11461952, -1.91748036],\n",
       "       [-1.72018906, -1.35081907, -1.        , ...,  0.90118822,\n",
       "        -1.13227531, -1.55884588],\n",
       "       ...,\n",
       "       [ 1.72018906, -1.35081907,  1.        , ..., -0.87570022,\n",
       "        -1.06967751, -1.5889994 ],\n",
       "       [ 1.72493441, -1.35081907,  1.        , ...,  2.3700756 ,\n",
       "        -0.74063783, -1.42860831],\n",
       "       [ 1.72967976, -1.35081907,  1.        , ..., -0.43891252,\n",
       "        -0.62025746, -0.87814607]])"
      ]
     },
     "execution_count": 42,
     "metadata": {},
     "output_type": "execute_result"
    }
   ],
   "source": [
    "bike"
   ]
  },
  {
   "cell_type": "markdown",
   "id": "b2484670",
   "metadata": {},
   "source": [
    "## Model building"
   ]
  },
  {
   "cell_type": "code",
   "execution_count": 44,
   "id": "1179f2cc",
   "metadata": {},
   "outputs": [],
   "source": [
    "LinearReg  =  LinearRegression()"
   ]
  },
  {
   "cell_type": "code",
   "execution_count": 45,
   "id": "db48fb2a",
   "metadata": {},
   "outputs": [
    {
     "data": {
      "text/plain": [
       "LinearRegression()"
      ]
     },
     "execution_count": 45,
     "metadata": {},
     "output_type": "execute_result"
    }
   ],
   "source": [
    "LinearReg.fit(bike,y)"
   ]
  },
  {
   "cell_type": "code",
   "execution_count": 46,
   "id": "1afc37c0",
   "metadata": {},
   "outputs": [],
   "source": [
    "LinearReg?"
   ]
  },
  {
   "cell_type": "code",
   "execution_count": 47,
   "id": "77044e97",
   "metadata": {},
   "outputs": [
    {
     "data": {
      "text/plain": [
       "array([ 7.01873385e+00, -5.45820270e+00,  6.86603668e+00, -7.33258929e-01,\n",
       "        5.37492897e+00,  9.58928116e+00,  1.47430518e+01,  5.60424875e+00,\n",
       "       -3.50522033e+01,  1.61087524e+01, -2.31002534e+00,  3.29149179e+00,\n",
       "        7.03350175e+02,  1.53932167e+03])"
      ]
     },
     "execution_count": 47,
     "metadata": {},
     "output_type": "execute_result"
    }
   ],
   "source": [
    "LinearReg.coef_"
   ]
  },
  {
   "cell_type": "code",
   "execution_count": 48,
   "id": "df0f1adc",
   "metadata": {},
   "outputs": [
    {
     "data": {
      "text/plain": [
       "4508.006849315068"
      ]
     },
     "execution_count": 48,
     "metadata": {},
     "output_type": "execute_result"
    }
   ],
   "source": [
    "LinearReg.intercept_"
   ]
  },
  {
   "cell_type": "code",
   "execution_count": 49,
   "id": "6fa02380",
   "metadata": {},
   "outputs": [],
   "source": [
    "y_test = LinearReg.predict(bike)"
   ]
  },
  {
   "cell_type": "code",
   "execution_count": 50,
   "id": "1167f3ff",
   "metadata": {},
   "outputs": [
    {
     "data": {
      "text/plain": [
       "array([ 983.88196572,  746.53054772, 1332.43042529, 1540.76232315,\n",
       "       1579.76145318, 1590.13161746, 1522.06539346,  945.16625132,\n",
       "        775.65704817, 1296.82021039, 1247.30458607, 1145.82802278,\n",
       "       1395.95052913, 1412.99479053, 1243.45390508, 1165.77197642,\n",
       "        997.02042799,  663.12419939, 1629.63976764, 1913.06090775,\n",
       "       1542.50691118,  970.43047469,  952.46827542, 1401.23511587,\n",
       "       1976.36361291,  511.1271093 ,  418.90911229, 1161.5561806 ,\n",
       "       1071.8603965 , 1039.03215698, 1479.76297631, 1338.36270902,\n",
       "       1510.48268144, 1539.80498126, 1705.60147508,  979.23056325,\n",
       "       1586.31396055, 1674.18078892, 1508.91723378, 1600.23430785,\n",
       "       1528.94262911, 1744.8519452 , 1466.39264859, 1563.83495885,\n",
       "       1880.11411157, 1798.59641049, 2103.16284812, 2455.52399961,\n",
       "       2945.20321675, 1641.92381629, 1818.92007266, 1105.10826349,\n",
       "       1429.47306803, 1900.77651262, 1794.71446864, 1457.84357453,\n",
       "       1969.59263124, 2396.59659401, 1409.76776999, 1827.62410254,\n",
       "       2123.40626714, 1682.15862413, 1953.37602108, 2106.09025026,\n",
       "        551.26766474, 1862.96082157, 2127.88734091, 1882.95584402,\n",
       "        621.6736268 , 1985.98156279, 2169.26925543, 2456.79850562,\n",
       "       2039.62935617, 2054.45971415, 2192.65316373, 2744.81249873,\n",
       "       3293.39079279, 3238.19742836, 2522.02882079, 2072.50073328,\n",
       "       2693.3836327 , 2102.22550469, 1855.23493935, 2216.5011348 ,\n",
       "       2568.80360684, 1684.35040466, 2009.11531546, 2416.11174542,\n",
       "       1525.06233371, 1688.62025247, 2238.56455814, 2317.85273898,\n",
       "       3366.22749663, 3120.94571775, 1764.92988779, 2804.30803533,\n",
       "       3148.99435744, 1466.31901437, 2506.43892577, 2949.26275095,\n",
       "       3378.11521799, 2008.73118989, 2140.45058996, 3263.4498011 ,\n",
       "       3150.6704935 ,  771.45155369, 3839.73937599, 3426.84498797,\n",
       "       3180.59536127, 3929.92480932, 4217.81492049, 1677.863097  ,\n",
       "       4143.33254869, 4288.99692328, 4063.9396318 , 4382.86069593,\n",
       "       3855.94123182, 4051.05065824, 4632.34066933, 5470.07462284,\n",
       "       3390.0227324 , 4416.21806814, 4435.9208424 , 2616.07743067,\n",
       "       4437.31109144, 4648.29942838, 4821.18408086, 4379.9067259 ,\n",
       "       4346.20582738, 4789.33618675, 4157.01292741, 4858.14885   ,\n",
       "       4122.31433002, 3433.6999365 , 4628.22351232, 3951.12547495,\n",
       "       4123.87854529, 3840.95183093, 4583.26694117, 4943.44305519,\n",
       "       5977.1785906 , 4720.52234351, 4280.87055249, 4471.84982946,\n",
       "       4956.92866172, 4664.25470378, 4692.70976932, 4904.33189986,\n",
       "       4851.67863666, 4183.97964755, 3947.20374972, 3937.07261973,\n",
       "       4956.75393627, 5334.11409382, 5464.16090353, 4986.31157565,\n",
       "       4510.76246258, 4810.68816064, 4367.73071803, 3885.18440077,\n",
       "       4581.79150523, 5062.48664095, 4498.73216723, 5020.69604318,\n",
       "       4881.88949629, 5169.16888776, 3755.83527908, 4851.65121954,\n",
       "       5224.96653843, 4811.45552684, 3998.72419929, 4819.70677115,\n",
       "       4470.93135891, 4781.70778699, 5004.73134448, 5306.3256694 ,\n",
       "       5395.27207568, 4699.4902535 , 4613.32541454, 5211.46226457,\n",
       "       5529.74111148, 5407.47718127, 5274.28166086, 4791.39908013,\n",
       "       5423.33450282, 4672.16842602, 4609.14938085, 4569.5255955 ,\n",
       "       4038.27723401, 5458.69954607, 4947.14507295, 4059.13264595,\n",
       "       4217.45564497, 4317.7974444 , 5089.46254146, 5601.07589681,\n",
       "       5937.4937043 , 5406.23132035, 4440.50163552, 4509.25870438,\n",
       "       4292.20949591, 3768.72542266, 3353.97698555, 3283.90026864,\n",
       "       3584.83635053, 3786.49501953, 4558.66738984, 4629.60037107,\n",
       "       4351.50630229, 3821.82158733, 4543.65787321, 4338.57540243,\n",
       "       4229.33269365, 4817.57677456, 3531.41234283, 4576.60878815,\n",
       "       4889.72966969, 4379.45942625, 3803.99569711, 4307.62492098,\n",
       "       4592.20076798, 4772.02261013, 4782.95609261, 4933.45356767,\n",
       "       4237.61851104, 3858.29225784, 4318.85966872, 4697.97116037,\n",
       "       4658.10610138, 3785.58275305, 4163.37606312, 5307.52153963,\n",
       "       3888.52397515, 4746.51811576, 5938.19520829, 5139.33755946,\n",
       "       3508.19176346, 4647.40476908, 1057.26277538, 4371.5791227 ,\n",
       "       4610.21243851, 5181.11909489, 5024.93452365, 5102.02941269,\n",
       "       4746.65568314, 4619.50783504, 4833.2139045 , 3418.90424934,\n",
       "       2673.86246708, 1940.77784255, 1797.04487306, 3506.44969805,\n",
       "       5441.03955559, 5100.79653488, 4675.29730772, 4732.1051959 ,\n",
       "       4750.4721474 , 3638.43625922, 4783.51314215, 4604.99858108,\n",
       "       4318.54868022, 4528.19833225, 3604.306444  , 4318.86011305,\n",
       "       4758.94826542, 2343.59478458, 5528.144299  , 5053.32971254,\n",
       "       4594.54395601, 4067.13483309, 3864.44909931, 4810.91643186,\n",
       "       5208.80576742, 2422.76201725, 2895.83644084, 3529.14292907,\n",
       "       4416.16508227, 4791.37224048, 4749.54939854, 5008.2684765 ,\n",
       "       5581.49870931, 5527.36445192, 5192.34941068, 4544.78408011,\n",
       "       2380.97282452, 2866.3678007 , 3638.90382233, 5359.70898456,\n",
       "       5136.42599597, 4551.37401259, 4727.93089853, 2394.21516459,\n",
       "       4167.85506256, 4316.79556641, 4404.35541012, 4463.05799466,\n",
       "       4173.79114851, 4675.58700404, 3862.49331089, 2626.41119265,\n",
       "       3754.49127456,  606.80660181, 3337.81927227, 3629.01638493,\n",
       "       4028.55344579, 4144.92798635, 3931.54167487, 4047.63883505,\n",
       "       3993.55195995, 3654.00142671, 3982.70145048, 4155.57207938,\n",
       "       4055.89819175, 2898.77707237, 3374.77989359, 4148.00398592,\n",
       "       3731.29107585, 4460.69803789, 4159.36960075, 1784.64770686,\n",
       "       3022.08356907, 3370.6051336 , 3705.7166289 , 3506.63435834,\n",
       "       2723.52994889, 1565.20873819, 2522.77032145, 1526.07916721,\n",
       "       2882.64260377, 3148.30893319, 3057.93575371, 3792.83704003,\n",
       "       2853.43237087, 3567.17812655, 3684.41520169, 3906.66832294,\n",
       "       3620.5422159 , 3448.78475873, 3752.88126981, 2548.49061538,\n",
       "        682.78195589, 3284.3112342 , 3590.97380303, 3181.70058457,\n",
       "       2695.40975905, 3253.99405249, 3470.43653307, 3695.0990151 ,\n",
       "       3667.17798821, 3546.99133373, 2715.83789284, 2364.50303485,\n",
       "       3362.04530825, 3699.57762559, 2625.45644384, 3044.38894524,\n",
       "       2198.2034496 ,  991.32596589,  729.2154244 , 1341.53701299,\n",
       "       1150.8240516 , 2302.17413063, 2425.08515434, 3025.21146718,\n",
       "       2510.29285032, 2313.30493444, 1967.08682389, 2242.81093373,\n",
       "       2388.48603982, 3263.13657146, 4101.81356024, 4594.68303643,\n",
       "       3424.65573664, 2370.05676138, 3576.82483296, 2174.20867669,\n",
       "       4092.32067678, 3214.37567715, 2510.08515177, 2298.84558462,\n",
       "       2309.25915368, 2924.72812855, 3353.81094994, 3292.42681019,\n",
       "       3175.77447352, 1301.76963887, 1959.25951952, 2429.10504262,\n",
       "       4337.05486163, 4286.52097455, 4068.26469965, 3468.38701393,\n",
       "       4071.85917076, 3248.5160981 , 3599.15991817, 4496.46567608,\n",
       "       4555.68814911, 3750.75461909, 4156.98761553, 2847.18410724,\n",
       "       2925.70154011, 3762.67473535, 4344.6285208 , 2798.47837869,\n",
       "       3819.33697208, 3841.29694225, 2186.08031377, 1495.41057495,\n",
       "       3398.44601545, 3902.25760114, 4139.25521604, 2991.37364488,\n",
       "       4163.86611893, 4453.14460399, 2717.68177725, 3162.24665789,\n",
       "       3756.74825275, 4768.59142661, 5068.17210142, 3494.48889936,\n",
       "       2732.16337424, 3384.26613707, 4298.88084015, 4339.84687779,\n",
       "       4967.7416174 , 3207.3972233 , 4137.04766893, 3446.10203549,\n",
       "       3325.06475848, 3945.68315135, 4919.21886696, 5373.81991539,\n",
       "       4592.91795899, 4198.42154202, 5042.06662211, 5333.73917278,\n",
       "       5858.64711662, 6351.10633663, 6240.29885063, 4407.02659702,\n",
       "       7154.15833897, 6078.06941694, 6184.82551681, 6134.4236777 ,\n",
       "       6291.31828785, 6947.49890849, 8364.24712146, 3445.77446839,\n",
       "       5100.44382026, 5581.28102655, 5112.69924795, 5712.63032453,\n",
       "       6170.88281226, 5517.31745675, 6427.88079253, 6158.55916168,\n",
       "       6019.45845752, 6858.53934533, 6485.89410809, 6544.11138498,\n",
       "       6644.66267779, 6099.74562495, 5363.9602594 , 5629.76519438,\n",
       "       5948.3511604 , 4873.22988731, 5439.28797018, 6494.41302947,\n",
       "       7133.82566807, 6719.50073539, 6419.75778544, 6722.9661574 ,\n",
       "       4358.04539958, 6585.11569481, 7375.17293869, 6551.74498544,\n",
       "       1001.85671299, 3203.33516583, 5627.81967276, 6196.57535727,\n",
       "       5025.22376593, 6306.66685672, 4313.38767208, 6478.59671603,\n",
       "       5583.92303722, 5733.74838985, 6156.33978559, 6435.03406302,\n",
       "       6343.52479729, 6849.35363521, 6518.56084139, 6318.76373678,\n",
       "       5744.44799935, 4730.26107229, 6629.10896577, 7124.79115767,\n",
       "       7264.32304224, 6276.21756865, 2829.93362459, 5110.63356122,\n",
       "       7434.77339756, 7449.55426537, 7744.67378202, 7334.47154927,\n",
       "       6857.01773036, 4365.41746702, 6083.28090045, 5275.89731852,\n",
       "       6803.17727935, 6818.28546816, 6137.27782672, 5741.9505514 ,\n",
       "       5953.61126468, 5754.17396519, 6847.51816647, 7372.55781093,\n",
       "       4136.4923411 , 7776.67894764, 7570.23597985, 7033.13695441,\n",
       "       7036.6820125 , 7085.7245615 , 7523.58423916, 7827.36696872,\n",
       "       7232.11268782, 6740.50739205, 6685.29618029, 4945.87829227,\n",
       "       7468.42080113, 7415.677254  , 7768.22905415, 7191.7843292 ,\n",
       "       6775.68795293, 5101.67459048, 6833.34538606, 6206.74412403,\n",
       "       5890.44271211, 5846.11369091, 7235.02544966, 6750.27980736,\n",
       "       6807.52251128, 7473.15100115, 7360.72324132, 6880.92916345,\n",
       "       5467.64725497, 5751.84912375, 5562.3255945 , 6217.30306497,\n",
       "       6666.87623739, 7287.15711924, 6313.24522417, 6275.79561774,\n",
       "       4909.42198551, 4683.1370385 , 6583.10348295, 6304.19627405,\n",
       "       7263.51217093, 7458.20544878, 7589.25586681, 7063.44003062,\n",
       "       6132.64384205, 6840.23589637, 6770.53472756, 5702.13542762,\n",
       "       6588.96682495, 5880.02847852, 4550.07355459, 7283.09898954,\n",
       "       6980.18216238, 7607.87914494, 8221.9470755 , 6883.61917655,\n",
       "       6954.77960046, 6850.66095614, 6727.69333987, 7106.96359171,\n",
       "       7212.36180387, 7590.36159683, 7264.24627789, 7246.56060828,\n",
       "       6918.28847141, 5548.08161135, 7051.14570663, 7319.62793106,\n",
       "       7578.58314355, 7319.80015745, 5841.89629029, 6488.44485684,\n",
       "       6680.67325524, 6912.47166247, 6807.88456822, 7381.32300867,\n",
       "       7658.73629587, 7194.52873634, 7476.07768662, 4587.00227082,\n",
       "       6555.10727348, 7023.73655062, 7393.18040048, 7818.6043847 ,\n",
       "       7647.09551013, 6192.9751735 , 5323.73259262, 6914.88650562,\n",
       "       7034.64031814, 7725.23107938, 7740.36876666, 7420.55757699,\n",
       "       6242.52122937, 5630.50398095, 6181.24022854, 6853.68093197,\n",
       "       7096.51611859, 6181.75167312, 7523.97208711, 6078.77003376,\n",
       "       8071.55256307, 7557.89450603, 7786.77819657, 7888.82972575,\n",
       "       7824.10262411, 8075.16784922, 8001.58337718, 7471.47281735,\n",
       "       6897.36224138, 4049.37669625, 7587.10365885, 7735.03555845,\n",
       "       8220.00099893, 8320.48000304, 7876.46113894, 7450.70550454,\n",
       "       7534.61409811, 7712.08341804, 7378.39140024, 7451.63464452,\n",
       "       8409.50352722, 7014.8059098 , 6772.1908289 , 4598.10167723,\n",
       "       7539.90387336, 7331.24792322, 8238.27456575, 7388.82451779,\n",
       "       3523.45609093, 5522.43058538, 6382.87099965, 7681.10479798,\n",
       "       7584.58854678, 7337.90715688, 7309.54802845, 6783.21031313,\n",
       "       5884.03505464, 7547.07963611, 7483.1475714 , 7548.98212606,\n",
       "       5447.08911303, 7736.26689041, 6976.23952872, 7052.99972392,\n",
       "       7455.5301538 , 7671.59469351, 7372.19145024, 7504.73089491,\n",
       "       7671.26645815, 4487.52184176,   20.8987294 , 1092.67476928,\n",
       "       5556.84995503, 5983.12492852, 5868.68483817, 5209.76940962,\n",
       "       5163.41839486, 5236.20880659, 5675.70849576, 5031.04585078,\n",
       "       5305.53685616, 6020.89320498, 6715.87187389, 7001.17772759,\n",
       "       6313.69131575, 4092.8813494 , 5478.86951648, 5431.79497886,\n",
       "       5699.57105945, 5723.56549303, 4689.14634385, 5486.68888519,\n",
       "       5630.40749529, 5159.02421073, 2524.46182111, 4089.03140643,\n",
       "       2307.15807393, 2396.30019662, 5055.79119864, 3929.98511835,\n",
       "       5223.18085664, 5295.14203052, 5652.41446426, 5244.5636458 ,\n",
       "       4669.83315444, 6202.11917632, 6575.46194322, 5697.39955364,\n",
       "       5364.61955078, 5006.09846107, 5650.94042079, 3199.23364653,\n",
       "       5133.58266314, 5475.26447941, 5305.62479802, 5528.16243055,\n",
       "       5609.64954075, 5068.48177353, 3764.80043956, 4540.27170959,\n",
       "       5533.2168206 , 5244.74441396, 4128.9735342 , 3638.59197815,\n",
       "       1755.51420563, 1795.273623  ,  948.29987538, 1080.29417524,\n",
       "        476.50058773, 2159.8338709 , 3184.4019486 , 1351.34050037,\n",
       "       1804.31777175, 2779.18048625])"
      ]
     },
     "execution_count": 50,
     "metadata": {},
     "output_type": "execute_result"
    }
   ],
   "source": [
    "y_test"
   ]
  },
  {
   "cell_type": "code",
   "execution_count": 79,
   "id": "53541d01",
   "metadata": {},
   "outputs": [
    {
     "name": "stdout",
     "output_type": "stream",
     "text": [
      "RMSE 100.18199909024511\n"
     ]
    }
   ],
   "source": [
    "print(\"RMSE\",np.sqrt(mean_squared_error(y_test,y)))"
   ]
  },
  {
   "cell_type": "code",
   "execution_count": 80,
   "id": "48d1bf57",
   "metadata": {},
   "outputs": [
    {
     "name": "stdout",
     "output_type": "stream",
     "text": [
      "r2_score 0.9973114082528595\n"
     ]
    }
   ],
   "source": [
    "print(\"r2_score\",r2_score(y_test,y))"
   ]
  },
  {
   "cell_type": "code",
   "execution_count": null,
   "id": "6d47a5d0",
   "metadata": {},
   "outputs": [],
   "source": []
  },
  {
   "cell_type": "code",
   "execution_count": null,
   "id": "9f043b27",
   "metadata": {},
   "outputs": [],
   "source": []
  }
 ],
 "metadata": {
  "kernelspec": {
   "display_name": "Python 3 (ipykernel)",
   "language": "python",
   "name": "python3"
  },
  "language_info": {
   "codemirror_mode": {
    "name": "ipython",
    "version": 3
   },
   "file_extension": ".py",
   "mimetype": "text/x-python",
   "name": "python",
   "nbconvert_exporter": "python",
   "pygments_lexer": "ipython3",
   "version": "3.9.12"
  }
 },
 "nbformat": 4,
 "nbformat_minor": 5
}
