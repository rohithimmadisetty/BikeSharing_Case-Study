{
 "cells": [
  {
   "cell_type": "code",
   "execution_count": 20,
   "id": "5bcbdc83",
   "metadata": {},
   "outputs": [],
   "source": [
    "def time_minute(duration):\n",
    "    dur = duration.split()\n",
    "    #print(dur)\n",
    "    min = 0\n",
    "    for x in dur:\n",
    "        if x[-1] == 'h':\n",
    "            min = min + int(x[:-1])*60\n",
    "         #   print(min)\n",
    "        if x[-1] == 'm':\n",
    "            min = min + int(int(x[:-1])) \n",
    "          #  print(min)\n",
    "    return min\n",
    "            \n",
    "            \n",
    "            "
   ]
  },
  {
   "cell_type": "code",
   "execution_count": 22,
   "id": "dc24a8f7",
   "metadata": {},
   "outputs": [
    {
     "name": "stdout",
     "output_type": "stream",
     "text": [
      "10\n"
     ]
    }
   ],
   "source": [
    "print(time_minute(\"10m\"))\n"
   ]
  },
  {
   "cell_type": "code",
   "execution_count": 4,
   "id": "51f5ce3f",
   "metadata": {},
   "outputs": [
    {
     "data": {
      "text/plain": [
       "'h'"
      ]
     },
     "execution_count": 4,
     "metadata": {},
     "output_type": "execute_result"
    }
   ],
   "source": [
    "x[-1]"
   ]
  },
  {
   "cell_type": "code",
   "execution_count": null,
   "id": "11ebe7a8",
   "metadata": {},
   "outputs": [],
   "source": []
  }
 ],
 "metadata": {
  "kernelspec": {
   "display_name": "Python 3 (ipykernel)",
   "language": "python",
   "name": "python3"
  },
  "language_info": {
   "codemirror_mode": {
    "name": "ipython",
    "version": 3
   },
   "file_extension": ".py",
   "mimetype": "text/x-python",
   "name": "python",
   "nbconvert_exporter": "python",
   "pygments_lexer": "ipython3",
   "version": "3.9.12"
  }
 },
 "nbformat": 4,
 "nbformat_minor": 5
}
