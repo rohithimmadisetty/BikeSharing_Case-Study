{
 "cells": [
  {
   "cell_type": "code",
   "execution_count": 53,
   "id": "f96cf483",
   "metadata": {},
   "outputs": [],
   "source": [
    "import os"
   ]
  },
  {
   "cell_type": "code",
   "execution_count": 54,
   "id": "5f51976d",
   "metadata": {},
   "outputs": [
    {
     "data": {
      "text/plain": [
       "<module 'ntpath' from 'C:\\\\Users\\\\rimmadisetty\\\\Anaconda3\\\\lib\\\\ntpath.py'>"
      ]
     },
     "execution_count": 54,
     "metadata": {},
     "output_type": "execute_result"
    }
   ],
   "source": [
    "os.path"
   ]
  },
  {
   "cell_type": "code",
   "execution_count": 55,
   "id": "f8f29b83",
   "metadata": {},
   "outputs": [
    {
     "data": {
      "text/plain": [
       "['.ipynb_checkpoints',\n",
       " 'Assignment Bike.ipynb',\n",
       " 'Bike Assignment Linear Regression.ipynb',\n",
       " 'Data Dictionararies.odt',\n",
       " 'day.csv',\n",
       " 'Evaluation Rubics.odt',\n",
       " 'Linear Regression Assignment.odt',\n",
       " 'Untitled.ipynb',\n",
       " '~$aluation Rubics.odt',\n",
       " '~$near Regression Assignment.odt',\n",
       " '~$ta Dictionararies.odt']"
      ]
     },
     "execution_count": 55,
     "metadata": {},
     "output_type": "execute_result"
    }
   ],
   "source": [
    "os.listdir()\n"
   ]
  },
  {
   "cell_type": "code",
   "execution_count": 56,
   "id": "10822b52",
   "metadata": {},
   "outputs": [],
   "source": [
    "import pandas as pd\n",
    "import numpy as np\n",
    "import matplotlib.pyplot as plt\n",
    "import sklearn as sk\n",
    "import seaborn as sns"
   ]
  },
  {
   "cell_type": "code",
   "execution_count": 57,
   "id": "175816ed",
   "metadata": {},
   "outputs": [],
   "source": [
    "bike = pd.read_csv(\"day.csv\")"
   ]
  },
  {
   "cell_type": "code",
   "execution_count": 58,
   "id": "8b5e72e9",
   "metadata": {},
   "outputs": [
    {
     "data": {
      "text/html": [
       "<div>\n",
       "<style scoped>\n",
       "    .dataframe tbody tr th:only-of-type {\n",
       "        vertical-align: middle;\n",
       "    }\n",
       "\n",
       "    .dataframe tbody tr th {\n",
       "        vertical-align: top;\n",
       "    }\n",
       "\n",
       "    .dataframe thead th {\n",
       "        text-align: right;\n",
       "    }\n",
       "</style>\n",
       "<table border=\"1\" class=\"dataframe\">\n",
       "  <thead>\n",
       "    <tr style=\"text-align: right;\">\n",
       "      <th></th>\n",
       "      <th>instant</th>\n",
       "      <th>dteday</th>\n",
       "      <th>season</th>\n",
       "      <th>yr</th>\n",
       "      <th>mnth</th>\n",
       "      <th>holiday</th>\n",
       "      <th>weekday</th>\n",
       "      <th>workingday</th>\n",
       "      <th>weathersit</th>\n",
       "      <th>temp</th>\n",
       "      <th>atemp</th>\n",
       "      <th>hum</th>\n",
       "      <th>windspeed</th>\n",
       "      <th>casual</th>\n",
       "      <th>registered</th>\n",
       "      <th>cnt</th>\n",
       "    </tr>\n",
       "  </thead>\n",
       "  <tbody>\n",
       "    <tr>\n",
       "      <th>0</th>\n",
       "      <td>1</td>\n",
       "      <td>01-01-2018</td>\n",
       "      <td>1</td>\n",
       "      <td>0</td>\n",
       "      <td>1</td>\n",
       "      <td>0</td>\n",
       "      <td>6</td>\n",
       "      <td>0</td>\n",
       "      <td>2</td>\n",
       "      <td>14.110847</td>\n",
       "      <td>18.18125</td>\n",
       "      <td>80.5833</td>\n",
       "      <td>10.749882</td>\n",
       "      <td>331</td>\n",
       "      <td>654</td>\n",
       "      <td>985</td>\n",
       "    </tr>\n",
       "    <tr>\n",
       "      <th>1</th>\n",
       "      <td>2</td>\n",
       "      <td>02-01-2018</td>\n",
       "      <td>1</td>\n",
       "      <td>0</td>\n",
       "      <td>1</td>\n",
       "      <td>0</td>\n",
       "      <td>0</td>\n",
       "      <td>0</td>\n",
       "      <td>2</td>\n",
       "      <td>14.902598</td>\n",
       "      <td>17.68695</td>\n",
       "      <td>69.6087</td>\n",
       "      <td>16.652113</td>\n",
       "      <td>131</td>\n",
       "      <td>670</td>\n",
       "      <td>801</td>\n",
       "    </tr>\n",
       "    <tr>\n",
       "      <th>2</th>\n",
       "      <td>3</td>\n",
       "      <td>03-01-2018</td>\n",
       "      <td>1</td>\n",
       "      <td>0</td>\n",
       "      <td>1</td>\n",
       "      <td>0</td>\n",
       "      <td>1</td>\n",
       "      <td>1</td>\n",
       "      <td>1</td>\n",
       "      <td>8.050924</td>\n",
       "      <td>9.47025</td>\n",
       "      <td>43.7273</td>\n",
       "      <td>16.636703</td>\n",
       "      <td>120</td>\n",
       "      <td>1229</td>\n",
       "      <td>1349</td>\n",
       "    </tr>\n",
       "    <tr>\n",
       "      <th>3</th>\n",
       "      <td>4</td>\n",
       "      <td>04-01-2018</td>\n",
       "      <td>1</td>\n",
       "      <td>0</td>\n",
       "      <td>1</td>\n",
       "      <td>0</td>\n",
       "      <td>2</td>\n",
       "      <td>1</td>\n",
       "      <td>1</td>\n",
       "      <td>8.200000</td>\n",
       "      <td>10.60610</td>\n",
       "      <td>59.0435</td>\n",
       "      <td>10.739832</td>\n",
       "      <td>108</td>\n",
       "      <td>1454</td>\n",
       "      <td>1562</td>\n",
       "    </tr>\n",
       "    <tr>\n",
       "      <th>4</th>\n",
       "      <td>5</td>\n",
       "      <td>05-01-2018</td>\n",
       "      <td>1</td>\n",
       "      <td>0</td>\n",
       "      <td>1</td>\n",
       "      <td>0</td>\n",
       "      <td>3</td>\n",
       "      <td>1</td>\n",
       "      <td>1</td>\n",
       "      <td>9.305237</td>\n",
       "      <td>11.46350</td>\n",
       "      <td>43.6957</td>\n",
       "      <td>12.522300</td>\n",
       "      <td>82</td>\n",
       "      <td>1518</td>\n",
       "      <td>1600</td>\n",
       "    </tr>\n",
       "    <tr>\n",
       "      <th>...</th>\n",
       "      <td>...</td>\n",
       "      <td>...</td>\n",
       "      <td>...</td>\n",
       "      <td>...</td>\n",
       "      <td>...</td>\n",
       "      <td>...</td>\n",
       "      <td>...</td>\n",
       "      <td>...</td>\n",
       "      <td>...</td>\n",
       "      <td>...</td>\n",
       "      <td>...</td>\n",
       "      <td>...</td>\n",
       "      <td>...</td>\n",
       "      <td>...</td>\n",
       "      <td>...</td>\n",
       "      <td>...</td>\n",
       "    </tr>\n",
       "    <tr>\n",
       "      <th>725</th>\n",
       "      <td>726</td>\n",
       "      <td>27-12-2019</td>\n",
       "      <td>1</td>\n",
       "      <td>1</td>\n",
       "      <td>12</td>\n",
       "      <td>0</td>\n",
       "      <td>4</td>\n",
       "      <td>1</td>\n",
       "      <td>2</td>\n",
       "      <td>10.420847</td>\n",
       "      <td>11.33210</td>\n",
       "      <td>65.2917</td>\n",
       "      <td>23.458911</td>\n",
       "      <td>247</td>\n",
       "      <td>1867</td>\n",
       "      <td>2114</td>\n",
       "    </tr>\n",
       "    <tr>\n",
       "      <th>726</th>\n",
       "      <td>727</td>\n",
       "      <td>28-12-2019</td>\n",
       "      <td>1</td>\n",
       "      <td>1</td>\n",
       "      <td>12</td>\n",
       "      <td>0</td>\n",
       "      <td>5</td>\n",
       "      <td>1</td>\n",
       "      <td>2</td>\n",
       "      <td>10.386653</td>\n",
       "      <td>12.75230</td>\n",
       "      <td>59.0000</td>\n",
       "      <td>10.416557</td>\n",
       "      <td>644</td>\n",
       "      <td>2451</td>\n",
       "      <td>3095</td>\n",
       "    </tr>\n",
       "    <tr>\n",
       "      <th>727</th>\n",
       "      <td>728</td>\n",
       "      <td>29-12-2019</td>\n",
       "      <td>1</td>\n",
       "      <td>1</td>\n",
       "      <td>12</td>\n",
       "      <td>0</td>\n",
       "      <td>6</td>\n",
       "      <td>0</td>\n",
       "      <td>2</td>\n",
       "      <td>10.386653</td>\n",
       "      <td>12.12000</td>\n",
       "      <td>75.2917</td>\n",
       "      <td>8.333661</td>\n",
       "      <td>159</td>\n",
       "      <td>1182</td>\n",
       "      <td>1341</td>\n",
       "    </tr>\n",
       "    <tr>\n",
       "      <th>728</th>\n",
       "      <td>729</td>\n",
       "      <td>30-12-2019</td>\n",
       "      <td>1</td>\n",
       "      <td>1</td>\n",
       "      <td>12</td>\n",
       "      <td>0</td>\n",
       "      <td>0</td>\n",
       "      <td>0</td>\n",
       "      <td>1</td>\n",
       "      <td>10.489153</td>\n",
       "      <td>11.58500</td>\n",
       "      <td>48.3333</td>\n",
       "      <td>23.500518</td>\n",
       "      <td>364</td>\n",
       "      <td>1432</td>\n",
       "      <td>1796</td>\n",
       "    </tr>\n",
       "    <tr>\n",
       "      <th>729</th>\n",
       "      <td>730</td>\n",
       "      <td>31-12-2019</td>\n",
       "      <td>1</td>\n",
       "      <td>1</td>\n",
       "      <td>12</td>\n",
       "      <td>0</td>\n",
       "      <td>1</td>\n",
       "      <td>1</td>\n",
       "      <td>2</td>\n",
       "      <td>8.849153</td>\n",
       "      <td>11.17435</td>\n",
       "      <td>57.7500</td>\n",
       "      <td>10.374682</td>\n",
       "      <td>439</td>\n",
       "      <td>2290</td>\n",
       "      <td>2729</td>\n",
       "    </tr>\n",
       "  </tbody>\n",
       "</table>\n",
       "<p>730 rows × 16 columns</p>\n",
       "</div>"
      ],
      "text/plain": [
       "     instant      dteday  season  yr  mnth  holiday  weekday  workingday  \\\n",
       "0          1  01-01-2018       1   0     1        0        6           0   \n",
       "1          2  02-01-2018       1   0     1        0        0           0   \n",
       "2          3  03-01-2018       1   0     1        0        1           1   \n",
       "3          4  04-01-2018       1   0     1        0        2           1   \n",
       "4          5  05-01-2018       1   0     1        0        3           1   \n",
       "..       ...         ...     ...  ..   ...      ...      ...         ...   \n",
       "725      726  27-12-2019       1   1    12        0        4           1   \n",
       "726      727  28-12-2019       1   1    12        0        5           1   \n",
       "727      728  29-12-2019       1   1    12        0        6           0   \n",
       "728      729  30-12-2019       1   1    12        0        0           0   \n",
       "729      730  31-12-2019       1   1    12        0        1           1   \n",
       "\n",
       "     weathersit       temp     atemp      hum  windspeed  casual  registered  \\\n",
       "0             2  14.110847  18.18125  80.5833  10.749882     331         654   \n",
       "1             2  14.902598  17.68695  69.6087  16.652113     131         670   \n",
       "2             1   8.050924   9.47025  43.7273  16.636703     120        1229   \n",
       "3             1   8.200000  10.60610  59.0435  10.739832     108        1454   \n",
       "4             1   9.305237  11.46350  43.6957  12.522300      82        1518   \n",
       "..          ...        ...       ...      ...        ...     ...         ...   \n",
       "725           2  10.420847  11.33210  65.2917  23.458911     247        1867   \n",
       "726           2  10.386653  12.75230  59.0000  10.416557     644        2451   \n",
       "727           2  10.386653  12.12000  75.2917   8.333661     159        1182   \n",
       "728           1  10.489153  11.58500  48.3333  23.500518     364        1432   \n",
       "729           2   8.849153  11.17435  57.7500  10.374682     439        2290   \n",
       "\n",
       "      cnt  \n",
       "0     985  \n",
       "1     801  \n",
       "2    1349  \n",
       "3    1562  \n",
       "4    1600  \n",
       "..    ...  \n",
       "725  2114  \n",
       "726  3095  \n",
       "727  1341  \n",
       "728  1796  \n",
       "729  2729  \n",
       "\n",
       "[730 rows x 16 columns]"
      ]
     },
     "execution_count": 58,
     "metadata": {},
     "output_type": "execute_result"
    }
   ],
   "source": [
    "bike"
   ]
  },
  {
   "cell_type": "markdown",
   "id": "b0f526a1",
   "metadata": {},
   "source": [
    "## Remove Duplicates"
   ]
  },
  {
   "cell_type": "code",
   "execution_count": 59,
   "id": "0e34cf99",
   "metadata": {},
   "outputs": [],
   "source": [
    "bike.drop_duplicates(inplace = True)"
   ]
  },
  {
   "cell_type": "code",
   "execution_count": 60,
   "id": "1ec3a60f",
   "metadata": {},
   "outputs": [
    {
     "data": {
      "text/html": [
       "<div>\n",
       "<style scoped>\n",
       "    .dataframe tbody tr th:only-of-type {\n",
       "        vertical-align: middle;\n",
       "    }\n",
       "\n",
       "    .dataframe tbody tr th {\n",
       "        vertical-align: top;\n",
       "    }\n",
       "\n",
       "    .dataframe thead th {\n",
       "        text-align: right;\n",
       "    }\n",
       "</style>\n",
       "<table border=\"1\" class=\"dataframe\">\n",
       "  <thead>\n",
       "    <tr style=\"text-align: right;\">\n",
       "      <th></th>\n",
       "      <th>instant</th>\n",
       "      <th>dteday</th>\n",
       "      <th>season</th>\n",
       "      <th>yr</th>\n",
       "      <th>mnth</th>\n",
       "      <th>holiday</th>\n",
       "      <th>weekday</th>\n",
       "      <th>workingday</th>\n",
       "      <th>weathersit</th>\n",
       "      <th>temp</th>\n",
       "      <th>atemp</th>\n",
       "      <th>hum</th>\n",
       "      <th>windspeed</th>\n",
       "      <th>casual</th>\n",
       "      <th>registered</th>\n",
       "      <th>cnt</th>\n",
       "    </tr>\n",
       "  </thead>\n",
       "  <tbody>\n",
       "    <tr>\n",
       "      <th>0</th>\n",
       "      <td>1</td>\n",
       "      <td>01-01-2018</td>\n",
       "      <td>1</td>\n",
       "      <td>0</td>\n",
       "      <td>1</td>\n",
       "      <td>0</td>\n",
       "      <td>6</td>\n",
       "      <td>0</td>\n",
       "      <td>2</td>\n",
       "      <td>14.110847</td>\n",
       "      <td>18.18125</td>\n",
       "      <td>80.5833</td>\n",
       "      <td>10.749882</td>\n",
       "      <td>331</td>\n",
       "      <td>654</td>\n",
       "      <td>985</td>\n",
       "    </tr>\n",
       "    <tr>\n",
       "      <th>1</th>\n",
       "      <td>2</td>\n",
       "      <td>02-01-2018</td>\n",
       "      <td>1</td>\n",
       "      <td>0</td>\n",
       "      <td>1</td>\n",
       "      <td>0</td>\n",
       "      <td>0</td>\n",
       "      <td>0</td>\n",
       "      <td>2</td>\n",
       "      <td>14.902598</td>\n",
       "      <td>17.68695</td>\n",
       "      <td>69.6087</td>\n",
       "      <td>16.652113</td>\n",
       "      <td>131</td>\n",
       "      <td>670</td>\n",
       "      <td>801</td>\n",
       "    </tr>\n",
       "    <tr>\n",
       "      <th>2</th>\n",
       "      <td>3</td>\n",
       "      <td>03-01-2018</td>\n",
       "      <td>1</td>\n",
       "      <td>0</td>\n",
       "      <td>1</td>\n",
       "      <td>0</td>\n",
       "      <td>1</td>\n",
       "      <td>1</td>\n",
       "      <td>1</td>\n",
       "      <td>8.050924</td>\n",
       "      <td>9.47025</td>\n",
       "      <td>43.7273</td>\n",
       "      <td>16.636703</td>\n",
       "      <td>120</td>\n",
       "      <td>1229</td>\n",
       "      <td>1349</td>\n",
       "    </tr>\n",
       "    <tr>\n",
       "      <th>3</th>\n",
       "      <td>4</td>\n",
       "      <td>04-01-2018</td>\n",
       "      <td>1</td>\n",
       "      <td>0</td>\n",
       "      <td>1</td>\n",
       "      <td>0</td>\n",
       "      <td>2</td>\n",
       "      <td>1</td>\n",
       "      <td>1</td>\n",
       "      <td>8.200000</td>\n",
       "      <td>10.60610</td>\n",
       "      <td>59.0435</td>\n",
       "      <td>10.739832</td>\n",
       "      <td>108</td>\n",
       "      <td>1454</td>\n",
       "      <td>1562</td>\n",
       "    </tr>\n",
       "    <tr>\n",
       "      <th>4</th>\n",
       "      <td>5</td>\n",
       "      <td>05-01-2018</td>\n",
       "      <td>1</td>\n",
       "      <td>0</td>\n",
       "      <td>1</td>\n",
       "      <td>0</td>\n",
       "      <td>3</td>\n",
       "      <td>1</td>\n",
       "      <td>1</td>\n",
       "      <td>9.305237</td>\n",
       "      <td>11.46350</td>\n",
       "      <td>43.6957</td>\n",
       "      <td>12.522300</td>\n",
       "      <td>82</td>\n",
       "      <td>1518</td>\n",
       "      <td>1600</td>\n",
       "    </tr>\n",
       "    <tr>\n",
       "      <th>...</th>\n",
       "      <td>...</td>\n",
       "      <td>...</td>\n",
       "      <td>...</td>\n",
       "      <td>...</td>\n",
       "      <td>...</td>\n",
       "      <td>...</td>\n",
       "      <td>...</td>\n",
       "      <td>...</td>\n",
       "      <td>...</td>\n",
       "      <td>...</td>\n",
       "      <td>...</td>\n",
       "      <td>...</td>\n",
       "      <td>...</td>\n",
       "      <td>...</td>\n",
       "      <td>...</td>\n",
       "      <td>...</td>\n",
       "    </tr>\n",
       "    <tr>\n",
       "      <th>725</th>\n",
       "      <td>726</td>\n",
       "      <td>27-12-2019</td>\n",
       "      <td>1</td>\n",
       "      <td>1</td>\n",
       "      <td>12</td>\n",
       "      <td>0</td>\n",
       "      <td>4</td>\n",
       "      <td>1</td>\n",
       "      <td>2</td>\n",
       "      <td>10.420847</td>\n",
       "      <td>11.33210</td>\n",
       "      <td>65.2917</td>\n",
       "      <td>23.458911</td>\n",
       "      <td>247</td>\n",
       "      <td>1867</td>\n",
       "      <td>2114</td>\n",
       "    </tr>\n",
       "    <tr>\n",
       "      <th>726</th>\n",
       "      <td>727</td>\n",
       "      <td>28-12-2019</td>\n",
       "      <td>1</td>\n",
       "      <td>1</td>\n",
       "      <td>12</td>\n",
       "      <td>0</td>\n",
       "      <td>5</td>\n",
       "      <td>1</td>\n",
       "      <td>2</td>\n",
       "      <td>10.386653</td>\n",
       "      <td>12.75230</td>\n",
       "      <td>59.0000</td>\n",
       "      <td>10.416557</td>\n",
       "      <td>644</td>\n",
       "      <td>2451</td>\n",
       "      <td>3095</td>\n",
       "    </tr>\n",
       "    <tr>\n",
       "      <th>727</th>\n",
       "      <td>728</td>\n",
       "      <td>29-12-2019</td>\n",
       "      <td>1</td>\n",
       "      <td>1</td>\n",
       "      <td>12</td>\n",
       "      <td>0</td>\n",
       "      <td>6</td>\n",
       "      <td>0</td>\n",
       "      <td>2</td>\n",
       "      <td>10.386653</td>\n",
       "      <td>12.12000</td>\n",
       "      <td>75.2917</td>\n",
       "      <td>8.333661</td>\n",
       "      <td>159</td>\n",
       "      <td>1182</td>\n",
       "      <td>1341</td>\n",
       "    </tr>\n",
       "    <tr>\n",
       "      <th>728</th>\n",
       "      <td>729</td>\n",
       "      <td>30-12-2019</td>\n",
       "      <td>1</td>\n",
       "      <td>1</td>\n",
       "      <td>12</td>\n",
       "      <td>0</td>\n",
       "      <td>0</td>\n",
       "      <td>0</td>\n",
       "      <td>1</td>\n",
       "      <td>10.489153</td>\n",
       "      <td>11.58500</td>\n",
       "      <td>48.3333</td>\n",
       "      <td>23.500518</td>\n",
       "      <td>364</td>\n",
       "      <td>1432</td>\n",
       "      <td>1796</td>\n",
       "    </tr>\n",
       "    <tr>\n",
       "      <th>729</th>\n",
       "      <td>730</td>\n",
       "      <td>31-12-2019</td>\n",
       "      <td>1</td>\n",
       "      <td>1</td>\n",
       "      <td>12</td>\n",
       "      <td>0</td>\n",
       "      <td>1</td>\n",
       "      <td>1</td>\n",
       "      <td>2</td>\n",
       "      <td>8.849153</td>\n",
       "      <td>11.17435</td>\n",
       "      <td>57.7500</td>\n",
       "      <td>10.374682</td>\n",
       "      <td>439</td>\n",
       "      <td>2290</td>\n",
       "      <td>2729</td>\n",
       "    </tr>\n",
       "  </tbody>\n",
       "</table>\n",
       "<p>730 rows × 16 columns</p>\n",
       "</div>"
      ],
      "text/plain": [
       "     instant      dteday  season  yr  mnth  holiday  weekday  workingday  \\\n",
       "0          1  01-01-2018       1   0     1        0        6           0   \n",
       "1          2  02-01-2018       1   0     1        0        0           0   \n",
       "2          3  03-01-2018       1   0     1        0        1           1   \n",
       "3          4  04-01-2018       1   0     1        0        2           1   \n",
       "4          5  05-01-2018       1   0     1        0        3           1   \n",
       "..       ...         ...     ...  ..   ...      ...      ...         ...   \n",
       "725      726  27-12-2019       1   1    12        0        4           1   \n",
       "726      727  28-12-2019       1   1    12        0        5           1   \n",
       "727      728  29-12-2019       1   1    12        0        6           0   \n",
       "728      729  30-12-2019       1   1    12        0        0           0   \n",
       "729      730  31-12-2019       1   1    12        0        1           1   \n",
       "\n",
       "     weathersit       temp     atemp      hum  windspeed  casual  registered  \\\n",
       "0             2  14.110847  18.18125  80.5833  10.749882     331         654   \n",
       "1             2  14.902598  17.68695  69.6087  16.652113     131         670   \n",
       "2             1   8.050924   9.47025  43.7273  16.636703     120        1229   \n",
       "3             1   8.200000  10.60610  59.0435  10.739832     108        1454   \n",
       "4             1   9.305237  11.46350  43.6957  12.522300      82        1518   \n",
       "..          ...        ...       ...      ...        ...     ...         ...   \n",
       "725           2  10.420847  11.33210  65.2917  23.458911     247        1867   \n",
       "726           2  10.386653  12.75230  59.0000  10.416557     644        2451   \n",
       "727           2  10.386653  12.12000  75.2917   8.333661     159        1182   \n",
       "728           1  10.489153  11.58500  48.3333  23.500518     364        1432   \n",
       "729           2   8.849153  11.17435  57.7500  10.374682     439        2290   \n",
       "\n",
       "      cnt  \n",
       "0     985  \n",
       "1     801  \n",
       "2    1349  \n",
       "3    1562  \n",
       "4    1600  \n",
       "..    ...  \n",
       "725  2114  \n",
       "726  3095  \n",
       "727  1341  \n",
       "728  1796  \n",
       "729  2729  \n",
       "\n",
       "[730 rows x 16 columns]"
      ]
     },
     "execution_count": 60,
     "metadata": {},
     "output_type": "execute_result"
    }
   ],
   "source": [
    "bike"
   ]
  },
  {
   "cell_type": "code",
   "execution_count": 61,
   "id": "1fbbeba2",
   "metadata": {},
   "outputs": [
    {
     "name": "stdout",
     "output_type": "stream",
     "text": [
      "<class 'pandas.core.frame.DataFrame'>\n",
      "Int64Index: 730 entries, 0 to 729\n",
      "Data columns (total 16 columns):\n",
      " #   Column      Non-Null Count  Dtype  \n",
      "---  ------      --------------  -----  \n",
      " 0   instant     730 non-null    int64  \n",
      " 1   dteday      730 non-null    object \n",
      " 2   season      730 non-null    int64  \n",
      " 3   yr          730 non-null    int64  \n",
      " 4   mnth        730 non-null    int64  \n",
      " 5   holiday     730 non-null    int64  \n",
      " 6   weekday     730 non-null    int64  \n",
      " 7   workingday  730 non-null    int64  \n",
      " 8   weathersit  730 non-null    int64  \n",
      " 9   temp        730 non-null    float64\n",
      " 10  atemp       730 non-null    float64\n",
      " 11  hum         730 non-null    float64\n",
      " 12  windspeed   730 non-null    float64\n",
      " 13  casual      730 non-null    int64  \n",
      " 14  registered  730 non-null    int64  \n",
      " 15  cnt         730 non-null    int64  \n",
      "dtypes: float64(4), int64(11), object(1)\n",
      "memory usage: 97.0+ KB\n"
     ]
    }
   ],
   "source": [
    "bike.info()"
   ]
  },
  {
   "cell_type": "markdown",
   "id": "0e71a925",
   "metadata": {},
   "source": [
    "## we have one object column dteday we need only the day"
   ]
  },
  {
   "cell_type": "code",
   "execution_count": 62,
   "id": "8ff2fea8",
   "metadata": {},
   "outputs": [],
   "source": [
    "bike['day'] = bike['dteday'].apply(lambda x: int(x[:2]))"
   ]
  },
  {
   "cell_type": "code",
   "execution_count": 63,
   "id": "d5bb42cf",
   "metadata": {},
   "outputs": [
    {
     "data": {
      "text/html": [
       "<div>\n",
       "<style scoped>\n",
       "    .dataframe tbody tr th:only-of-type {\n",
       "        vertical-align: middle;\n",
       "    }\n",
       "\n",
       "    .dataframe tbody tr th {\n",
       "        vertical-align: top;\n",
       "    }\n",
       "\n",
       "    .dataframe thead th {\n",
       "        text-align: right;\n",
       "    }\n",
       "</style>\n",
       "<table border=\"1\" class=\"dataframe\">\n",
       "  <thead>\n",
       "    <tr style=\"text-align: right;\">\n",
       "      <th></th>\n",
       "      <th>instant</th>\n",
       "      <th>dteday</th>\n",
       "      <th>season</th>\n",
       "      <th>yr</th>\n",
       "      <th>mnth</th>\n",
       "      <th>holiday</th>\n",
       "      <th>weekday</th>\n",
       "      <th>workingday</th>\n",
       "      <th>weathersit</th>\n",
       "      <th>temp</th>\n",
       "      <th>atemp</th>\n",
       "      <th>hum</th>\n",
       "      <th>windspeed</th>\n",
       "      <th>casual</th>\n",
       "      <th>registered</th>\n",
       "      <th>cnt</th>\n",
       "      <th>day</th>\n",
       "    </tr>\n",
       "  </thead>\n",
       "  <tbody>\n",
       "    <tr>\n",
       "      <th>0</th>\n",
       "      <td>1</td>\n",
       "      <td>01-01-2018</td>\n",
       "      <td>1</td>\n",
       "      <td>0</td>\n",
       "      <td>1</td>\n",
       "      <td>0</td>\n",
       "      <td>6</td>\n",
       "      <td>0</td>\n",
       "      <td>2</td>\n",
       "      <td>14.110847</td>\n",
       "      <td>18.18125</td>\n",
       "      <td>80.5833</td>\n",
       "      <td>10.749882</td>\n",
       "      <td>331</td>\n",
       "      <td>654</td>\n",
       "      <td>985</td>\n",
       "      <td>1</td>\n",
       "    </tr>\n",
       "    <tr>\n",
       "      <th>1</th>\n",
       "      <td>2</td>\n",
       "      <td>02-01-2018</td>\n",
       "      <td>1</td>\n",
       "      <td>0</td>\n",
       "      <td>1</td>\n",
       "      <td>0</td>\n",
       "      <td>0</td>\n",
       "      <td>0</td>\n",
       "      <td>2</td>\n",
       "      <td>14.902598</td>\n",
       "      <td>17.68695</td>\n",
       "      <td>69.6087</td>\n",
       "      <td>16.652113</td>\n",
       "      <td>131</td>\n",
       "      <td>670</td>\n",
       "      <td>801</td>\n",
       "      <td>2</td>\n",
       "    </tr>\n",
       "    <tr>\n",
       "      <th>2</th>\n",
       "      <td>3</td>\n",
       "      <td>03-01-2018</td>\n",
       "      <td>1</td>\n",
       "      <td>0</td>\n",
       "      <td>1</td>\n",
       "      <td>0</td>\n",
       "      <td>1</td>\n",
       "      <td>1</td>\n",
       "      <td>1</td>\n",
       "      <td>8.050924</td>\n",
       "      <td>9.47025</td>\n",
       "      <td>43.7273</td>\n",
       "      <td>16.636703</td>\n",
       "      <td>120</td>\n",
       "      <td>1229</td>\n",
       "      <td>1349</td>\n",
       "      <td>3</td>\n",
       "    </tr>\n",
       "    <tr>\n",
       "      <th>3</th>\n",
       "      <td>4</td>\n",
       "      <td>04-01-2018</td>\n",
       "      <td>1</td>\n",
       "      <td>0</td>\n",
       "      <td>1</td>\n",
       "      <td>0</td>\n",
       "      <td>2</td>\n",
       "      <td>1</td>\n",
       "      <td>1</td>\n",
       "      <td>8.200000</td>\n",
       "      <td>10.60610</td>\n",
       "      <td>59.0435</td>\n",
       "      <td>10.739832</td>\n",
       "      <td>108</td>\n",
       "      <td>1454</td>\n",
       "      <td>1562</td>\n",
       "      <td>4</td>\n",
       "    </tr>\n",
       "    <tr>\n",
       "      <th>4</th>\n",
       "      <td>5</td>\n",
       "      <td>05-01-2018</td>\n",
       "      <td>1</td>\n",
       "      <td>0</td>\n",
       "      <td>1</td>\n",
       "      <td>0</td>\n",
       "      <td>3</td>\n",
       "      <td>1</td>\n",
       "      <td>1</td>\n",
       "      <td>9.305237</td>\n",
       "      <td>11.46350</td>\n",
       "      <td>43.6957</td>\n",
       "      <td>12.522300</td>\n",
       "      <td>82</td>\n",
       "      <td>1518</td>\n",
       "      <td>1600</td>\n",
       "      <td>5</td>\n",
       "    </tr>\n",
       "    <tr>\n",
       "      <th>...</th>\n",
       "      <td>...</td>\n",
       "      <td>...</td>\n",
       "      <td>...</td>\n",
       "      <td>...</td>\n",
       "      <td>...</td>\n",
       "      <td>...</td>\n",
       "      <td>...</td>\n",
       "      <td>...</td>\n",
       "      <td>...</td>\n",
       "      <td>...</td>\n",
       "      <td>...</td>\n",
       "      <td>...</td>\n",
       "      <td>...</td>\n",
       "      <td>...</td>\n",
       "      <td>...</td>\n",
       "      <td>...</td>\n",
       "      <td>...</td>\n",
       "    </tr>\n",
       "    <tr>\n",
       "      <th>725</th>\n",
       "      <td>726</td>\n",
       "      <td>27-12-2019</td>\n",
       "      <td>1</td>\n",
       "      <td>1</td>\n",
       "      <td>12</td>\n",
       "      <td>0</td>\n",
       "      <td>4</td>\n",
       "      <td>1</td>\n",
       "      <td>2</td>\n",
       "      <td>10.420847</td>\n",
       "      <td>11.33210</td>\n",
       "      <td>65.2917</td>\n",
       "      <td>23.458911</td>\n",
       "      <td>247</td>\n",
       "      <td>1867</td>\n",
       "      <td>2114</td>\n",
       "      <td>27</td>\n",
       "    </tr>\n",
       "    <tr>\n",
       "      <th>726</th>\n",
       "      <td>727</td>\n",
       "      <td>28-12-2019</td>\n",
       "      <td>1</td>\n",
       "      <td>1</td>\n",
       "      <td>12</td>\n",
       "      <td>0</td>\n",
       "      <td>5</td>\n",
       "      <td>1</td>\n",
       "      <td>2</td>\n",
       "      <td>10.386653</td>\n",
       "      <td>12.75230</td>\n",
       "      <td>59.0000</td>\n",
       "      <td>10.416557</td>\n",
       "      <td>644</td>\n",
       "      <td>2451</td>\n",
       "      <td>3095</td>\n",
       "      <td>28</td>\n",
       "    </tr>\n",
       "    <tr>\n",
       "      <th>727</th>\n",
       "      <td>728</td>\n",
       "      <td>29-12-2019</td>\n",
       "      <td>1</td>\n",
       "      <td>1</td>\n",
       "      <td>12</td>\n",
       "      <td>0</td>\n",
       "      <td>6</td>\n",
       "      <td>0</td>\n",
       "      <td>2</td>\n",
       "      <td>10.386653</td>\n",
       "      <td>12.12000</td>\n",
       "      <td>75.2917</td>\n",
       "      <td>8.333661</td>\n",
       "      <td>159</td>\n",
       "      <td>1182</td>\n",
       "      <td>1341</td>\n",
       "      <td>29</td>\n",
       "    </tr>\n",
       "    <tr>\n",
       "      <th>728</th>\n",
       "      <td>729</td>\n",
       "      <td>30-12-2019</td>\n",
       "      <td>1</td>\n",
       "      <td>1</td>\n",
       "      <td>12</td>\n",
       "      <td>0</td>\n",
       "      <td>0</td>\n",
       "      <td>0</td>\n",
       "      <td>1</td>\n",
       "      <td>10.489153</td>\n",
       "      <td>11.58500</td>\n",
       "      <td>48.3333</td>\n",
       "      <td>23.500518</td>\n",
       "      <td>364</td>\n",
       "      <td>1432</td>\n",
       "      <td>1796</td>\n",
       "      <td>30</td>\n",
       "    </tr>\n",
       "    <tr>\n",
       "      <th>729</th>\n",
       "      <td>730</td>\n",
       "      <td>31-12-2019</td>\n",
       "      <td>1</td>\n",
       "      <td>1</td>\n",
       "      <td>12</td>\n",
       "      <td>0</td>\n",
       "      <td>1</td>\n",
       "      <td>1</td>\n",
       "      <td>2</td>\n",
       "      <td>8.849153</td>\n",
       "      <td>11.17435</td>\n",
       "      <td>57.7500</td>\n",
       "      <td>10.374682</td>\n",
       "      <td>439</td>\n",
       "      <td>2290</td>\n",
       "      <td>2729</td>\n",
       "      <td>31</td>\n",
       "    </tr>\n",
       "  </tbody>\n",
       "</table>\n",
       "<p>730 rows × 17 columns</p>\n",
       "</div>"
      ],
      "text/plain": [
       "     instant      dteday  season  yr  mnth  holiday  weekday  workingday  \\\n",
       "0          1  01-01-2018       1   0     1        0        6           0   \n",
       "1          2  02-01-2018       1   0     1        0        0           0   \n",
       "2          3  03-01-2018       1   0     1        0        1           1   \n",
       "3          4  04-01-2018       1   0     1        0        2           1   \n",
       "4          5  05-01-2018       1   0     1        0        3           1   \n",
       "..       ...         ...     ...  ..   ...      ...      ...         ...   \n",
       "725      726  27-12-2019       1   1    12        0        4           1   \n",
       "726      727  28-12-2019       1   1    12        0        5           1   \n",
       "727      728  29-12-2019       1   1    12        0        6           0   \n",
       "728      729  30-12-2019       1   1    12        0        0           0   \n",
       "729      730  31-12-2019       1   1    12        0        1           1   \n",
       "\n",
       "     weathersit       temp     atemp      hum  windspeed  casual  registered  \\\n",
       "0             2  14.110847  18.18125  80.5833  10.749882     331         654   \n",
       "1             2  14.902598  17.68695  69.6087  16.652113     131         670   \n",
       "2             1   8.050924   9.47025  43.7273  16.636703     120        1229   \n",
       "3             1   8.200000  10.60610  59.0435  10.739832     108        1454   \n",
       "4             1   9.305237  11.46350  43.6957  12.522300      82        1518   \n",
       "..          ...        ...       ...      ...        ...     ...         ...   \n",
       "725           2  10.420847  11.33210  65.2917  23.458911     247        1867   \n",
       "726           2  10.386653  12.75230  59.0000  10.416557     644        2451   \n",
       "727           2  10.386653  12.12000  75.2917   8.333661     159        1182   \n",
       "728           1  10.489153  11.58500  48.3333  23.500518     364        1432   \n",
       "729           2   8.849153  11.17435  57.7500  10.374682     439        2290   \n",
       "\n",
       "      cnt  day  \n",
       "0     985    1  \n",
       "1     801    2  \n",
       "2    1349    3  \n",
       "3    1562    4  \n",
       "4    1600    5  \n",
       "..    ...  ...  \n",
       "725  2114   27  \n",
       "726  3095   28  \n",
       "727  1341   29  \n",
       "728  1796   30  \n",
       "729  2729   31  \n",
       "\n",
       "[730 rows x 17 columns]"
      ]
     },
     "execution_count": 63,
     "metadata": {},
     "output_type": "execute_result"
    }
   ],
   "source": [
    "bike"
   ]
  },
  {
   "cell_type": "code",
   "execution_count": 64,
   "id": "33f1fd7e",
   "metadata": {},
   "outputs": [
    {
     "name": "stdout",
     "output_type": "stream",
     "text": [
      "<class 'pandas.core.frame.DataFrame'>\n",
      "Int64Index: 730 entries, 0 to 729\n",
      "Data columns (total 17 columns):\n",
      " #   Column      Non-Null Count  Dtype  \n",
      "---  ------      --------------  -----  \n",
      " 0   instant     730 non-null    int64  \n",
      " 1   dteday      730 non-null    object \n",
      " 2   season      730 non-null    int64  \n",
      " 3   yr          730 non-null    int64  \n",
      " 4   mnth        730 non-null    int64  \n",
      " 5   holiday     730 non-null    int64  \n",
      " 6   weekday     730 non-null    int64  \n",
      " 7   workingday  730 non-null    int64  \n",
      " 8   weathersit  730 non-null    int64  \n",
      " 9   temp        730 non-null    float64\n",
      " 10  atemp       730 non-null    float64\n",
      " 11  hum         730 non-null    float64\n",
      " 12  windspeed   730 non-null    float64\n",
      " 13  casual      730 non-null    int64  \n",
      " 14  registered  730 non-null    int64  \n",
      " 15  cnt         730 non-null    int64  \n",
      " 16  day         730 non-null    int64  \n",
      "dtypes: float64(4), int64(12), object(1)\n",
      "memory usage: 102.7+ KB\n"
     ]
    }
   ],
   "source": [
    "bike.info()"
   ]
  },
  {
   "cell_type": "code",
   "execution_count": 65,
   "id": "9c31430f",
   "metadata": {},
   "outputs": [],
   "source": [
    "bike.drop('dteday', axis = 1 ,inplace = True)"
   ]
  },
  {
   "cell_type": "code",
   "execution_count": 66,
   "id": "b20a1e66",
   "metadata": {},
   "outputs": [
    {
     "name": "stdout",
     "output_type": "stream",
     "text": [
      "<class 'pandas.core.frame.DataFrame'>\n",
      "Int64Index: 730 entries, 0 to 729\n",
      "Data columns (total 16 columns):\n",
      " #   Column      Non-Null Count  Dtype  \n",
      "---  ------      --------------  -----  \n",
      " 0   instant     730 non-null    int64  \n",
      " 1   season      730 non-null    int64  \n",
      " 2   yr          730 non-null    int64  \n",
      " 3   mnth        730 non-null    int64  \n",
      " 4   holiday     730 non-null    int64  \n",
      " 5   weekday     730 non-null    int64  \n",
      " 6   workingday  730 non-null    int64  \n",
      " 7   weathersit  730 non-null    int64  \n",
      " 8   temp        730 non-null    float64\n",
      " 9   atemp       730 non-null    float64\n",
      " 10  hum         730 non-null    float64\n",
      " 11  windspeed   730 non-null    float64\n",
      " 12  casual      730 non-null    int64  \n",
      " 13  registered  730 non-null    int64  \n",
      " 14  cnt         730 non-null    int64  \n",
      " 15  day         730 non-null    int64  \n",
      "dtypes: float64(4), int64(12)\n",
      "memory usage: 97.0 KB\n"
     ]
    }
   ],
   "source": [
    "bike.info()"
   ]
  },
  {
   "cell_type": "markdown",
   "id": "a8424601",
   "metadata": {},
   "source": [
    "## changing index to instant column as mentioned in Dataset"
   ]
  },
  {
   "cell_type": "code",
   "execution_count": 67,
   "id": "2d4afffc",
   "metadata": {},
   "outputs": [
    {
     "data": {
      "text/html": [
       "<div>\n",
       "<style scoped>\n",
       "    .dataframe tbody tr th:only-of-type {\n",
       "        vertical-align: middle;\n",
       "    }\n",
       "\n",
       "    .dataframe tbody tr th {\n",
       "        vertical-align: top;\n",
       "    }\n",
       "\n",
       "    .dataframe thead th {\n",
       "        text-align: right;\n",
       "    }\n",
       "</style>\n",
       "<table border=\"1\" class=\"dataframe\">\n",
       "  <thead>\n",
       "    <tr style=\"text-align: right;\">\n",
       "      <th></th>\n",
       "      <th>season</th>\n",
       "      <th>yr</th>\n",
       "      <th>mnth</th>\n",
       "      <th>holiday</th>\n",
       "      <th>weekday</th>\n",
       "      <th>workingday</th>\n",
       "      <th>weathersit</th>\n",
       "      <th>temp</th>\n",
       "      <th>atemp</th>\n",
       "      <th>hum</th>\n",
       "      <th>windspeed</th>\n",
       "      <th>casual</th>\n",
       "      <th>registered</th>\n",
       "      <th>cnt</th>\n",
       "      <th>day</th>\n",
       "    </tr>\n",
       "    <tr>\n",
       "      <th>instant</th>\n",
       "      <th></th>\n",
       "      <th></th>\n",
       "      <th></th>\n",
       "      <th></th>\n",
       "      <th></th>\n",
       "      <th></th>\n",
       "      <th></th>\n",
       "      <th></th>\n",
       "      <th></th>\n",
       "      <th></th>\n",
       "      <th></th>\n",
       "      <th></th>\n",
       "      <th></th>\n",
       "      <th></th>\n",
       "      <th></th>\n",
       "    </tr>\n",
       "  </thead>\n",
       "  <tbody>\n",
       "    <tr>\n",
       "      <th>1</th>\n",
       "      <td>1</td>\n",
       "      <td>0</td>\n",
       "      <td>1</td>\n",
       "      <td>0</td>\n",
       "      <td>6</td>\n",
       "      <td>0</td>\n",
       "      <td>2</td>\n",
       "      <td>14.110847</td>\n",
       "      <td>18.18125</td>\n",
       "      <td>80.5833</td>\n",
       "      <td>10.749882</td>\n",
       "      <td>331</td>\n",
       "      <td>654</td>\n",
       "      <td>985</td>\n",
       "      <td>1</td>\n",
       "    </tr>\n",
       "    <tr>\n",
       "      <th>2</th>\n",
       "      <td>1</td>\n",
       "      <td>0</td>\n",
       "      <td>1</td>\n",
       "      <td>0</td>\n",
       "      <td>0</td>\n",
       "      <td>0</td>\n",
       "      <td>2</td>\n",
       "      <td>14.902598</td>\n",
       "      <td>17.68695</td>\n",
       "      <td>69.6087</td>\n",
       "      <td>16.652113</td>\n",
       "      <td>131</td>\n",
       "      <td>670</td>\n",
       "      <td>801</td>\n",
       "      <td>2</td>\n",
       "    </tr>\n",
       "    <tr>\n",
       "      <th>3</th>\n",
       "      <td>1</td>\n",
       "      <td>0</td>\n",
       "      <td>1</td>\n",
       "      <td>0</td>\n",
       "      <td>1</td>\n",
       "      <td>1</td>\n",
       "      <td>1</td>\n",
       "      <td>8.050924</td>\n",
       "      <td>9.47025</td>\n",
       "      <td>43.7273</td>\n",
       "      <td>16.636703</td>\n",
       "      <td>120</td>\n",
       "      <td>1229</td>\n",
       "      <td>1349</td>\n",
       "      <td>3</td>\n",
       "    </tr>\n",
       "    <tr>\n",
       "      <th>4</th>\n",
       "      <td>1</td>\n",
       "      <td>0</td>\n",
       "      <td>1</td>\n",
       "      <td>0</td>\n",
       "      <td>2</td>\n",
       "      <td>1</td>\n",
       "      <td>1</td>\n",
       "      <td>8.200000</td>\n",
       "      <td>10.60610</td>\n",
       "      <td>59.0435</td>\n",
       "      <td>10.739832</td>\n",
       "      <td>108</td>\n",
       "      <td>1454</td>\n",
       "      <td>1562</td>\n",
       "      <td>4</td>\n",
       "    </tr>\n",
       "    <tr>\n",
       "      <th>5</th>\n",
       "      <td>1</td>\n",
       "      <td>0</td>\n",
       "      <td>1</td>\n",
       "      <td>0</td>\n",
       "      <td>3</td>\n",
       "      <td>1</td>\n",
       "      <td>1</td>\n",
       "      <td>9.305237</td>\n",
       "      <td>11.46350</td>\n",
       "      <td>43.6957</td>\n",
       "      <td>12.522300</td>\n",
       "      <td>82</td>\n",
       "      <td>1518</td>\n",
       "      <td>1600</td>\n",
       "      <td>5</td>\n",
       "    </tr>\n",
       "    <tr>\n",
       "      <th>...</th>\n",
       "      <td>...</td>\n",
       "      <td>...</td>\n",
       "      <td>...</td>\n",
       "      <td>...</td>\n",
       "      <td>...</td>\n",
       "      <td>...</td>\n",
       "      <td>...</td>\n",
       "      <td>...</td>\n",
       "      <td>...</td>\n",
       "      <td>...</td>\n",
       "      <td>...</td>\n",
       "      <td>...</td>\n",
       "      <td>...</td>\n",
       "      <td>...</td>\n",
       "      <td>...</td>\n",
       "    </tr>\n",
       "    <tr>\n",
       "      <th>726</th>\n",
       "      <td>1</td>\n",
       "      <td>1</td>\n",
       "      <td>12</td>\n",
       "      <td>0</td>\n",
       "      <td>4</td>\n",
       "      <td>1</td>\n",
       "      <td>2</td>\n",
       "      <td>10.420847</td>\n",
       "      <td>11.33210</td>\n",
       "      <td>65.2917</td>\n",
       "      <td>23.458911</td>\n",
       "      <td>247</td>\n",
       "      <td>1867</td>\n",
       "      <td>2114</td>\n",
       "      <td>27</td>\n",
       "    </tr>\n",
       "    <tr>\n",
       "      <th>727</th>\n",
       "      <td>1</td>\n",
       "      <td>1</td>\n",
       "      <td>12</td>\n",
       "      <td>0</td>\n",
       "      <td>5</td>\n",
       "      <td>1</td>\n",
       "      <td>2</td>\n",
       "      <td>10.386653</td>\n",
       "      <td>12.75230</td>\n",
       "      <td>59.0000</td>\n",
       "      <td>10.416557</td>\n",
       "      <td>644</td>\n",
       "      <td>2451</td>\n",
       "      <td>3095</td>\n",
       "      <td>28</td>\n",
       "    </tr>\n",
       "    <tr>\n",
       "      <th>728</th>\n",
       "      <td>1</td>\n",
       "      <td>1</td>\n",
       "      <td>12</td>\n",
       "      <td>0</td>\n",
       "      <td>6</td>\n",
       "      <td>0</td>\n",
       "      <td>2</td>\n",
       "      <td>10.386653</td>\n",
       "      <td>12.12000</td>\n",
       "      <td>75.2917</td>\n",
       "      <td>8.333661</td>\n",
       "      <td>159</td>\n",
       "      <td>1182</td>\n",
       "      <td>1341</td>\n",
       "      <td>29</td>\n",
       "    </tr>\n",
       "    <tr>\n",
       "      <th>729</th>\n",
       "      <td>1</td>\n",
       "      <td>1</td>\n",
       "      <td>12</td>\n",
       "      <td>0</td>\n",
       "      <td>0</td>\n",
       "      <td>0</td>\n",
       "      <td>1</td>\n",
       "      <td>10.489153</td>\n",
       "      <td>11.58500</td>\n",
       "      <td>48.3333</td>\n",
       "      <td>23.500518</td>\n",
       "      <td>364</td>\n",
       "      <td>1432</td>\n",
       "      <td>1796</td>\n",
       "      <td>30</td>\n",
       "    </tr>\n",
       "    <tr>\n",
       "      <th>730</th>\n",
       "      <td>1</td>\n",
       "      <td>1</td>\n",
       "      <td>12</td>\n",
       "      <td>0</td>\n",
       "      <td>1</td>\n",
       "      <td>1</td>\n",
       "      <td>2</td>\n",
       "      <td>8.849153</td>\n",
       "      <td>11.17435</td>\n",
       "      <td>57.7500</td>\n",
       "      <td>10.374682</td>\n",
       "      <td>439</td>\n",
       "      <td>2290</td>\n",
       "      <td>2729</td>\n",
       "      <td>31</td>\n",
       "    </tr>\n",
       "  </tbody>\n",
       "</table>\n",
       "<p>730 rows × 15 columns</p>\n",
       "</div>"
      ],
      "text/plain": [
       "         season  yr  mnth  holiday  weekday  workingday  weathersit  \\\n",
       "instant                                                               \n",
       "1             1   0     1        0        6           0           2   \n",
       "2             1   0     1        0        0           0           2   \n",
       "3             1   0     1        0        1           1           1   \n",
       "4             1   0     1        0        2           1           1   \n",
       "5             1   0     1        0        3           1           1   \n",
       "...         ...  ..   ...      ...      ...         ...         ...   \n",
       "726           1   1    12        0        4           1           2   \n",
       "727           1   1    12        0        5           1           2   \n",
       "728           1   1    12        0        6           0           2   \n",
       "729           1   1    12        0        0           0           1   \n",
       "730           1   1    12        0        1           1           2   \n",
       "\n",
       "              temp     atemp      hum  windspeed  casual  registered   cnt  \\\n",
       "instant                                                                      \n",
       "1        14.110847  18.18125  80.5833  10.749882     331         654   985   \n",
       "2        14.902598  17.68695  69.6087  16.652113     131         670   801   \n",
       "3         8.050924   9.47025  43.7273  16.636703     120        1229  1349   \n",
       "4         8.200000  10.60610  59.0435  10.739832     108        1454  1562   \n",
       "5         9.305237  11.46350  43.6957  12.522300      82        1518  1600   \n",
       "...            ...       ...      ...        ...     ...         ...   ...   \n",
       "726      10.420847  11.33210  65.2917  23.458911     247        1867  2114   \n",
       "727      10.386653  12.75230  59.0000  10.416557     644        2451  3095   \n",
       "728      10.386653  12.12000  75.2917   8.333661     159        1182  1341   \n",
       "729      10.489153  11.58500  48.3333  23.500518     364        1432  1796   \n",
       "730       8.849153  11.17435  57.7500  10.374682     439        2290  2729   \n",
       "\n",
       "         day  \n",
       "instant       \n",
       "1          1  \n",
       "2          2  \n",
       "3          3  \n",
       "4          4  \n",
       "5          5  \n",
       "...      ...  \n",
       "726       27  \n",
       "727       28  \n",
       "728       29  \n",
       "729       30  \n",
       "730       31  \n",
       "\n",
       "[730 rows x 15 columns]"
      ]
     },
     "execution_count": 67,
     "metadata": {},
     "output_type": "execute_result"
    }
   ],
   "source": [
    "bike.set_index('instant')"
   ]
  },
  {
   "cell_type": "markdown",
   "id": "c3553ed3",
   "metadata": {},
   "source": [
    "## NULL value check"
   ]
  },
  {
   "cell_type": "code",
   "execution_count": 68,
   "id": "a1f259ab",
   "metadata": {},
   "outputs": [
    {
     "data": {
      "text/plain": [
       "instant       0\n",
       "season        0\n",
       "yr            0\n",
       "mnth          0\n",
       "holiday       0\n",
       "weekday       0\n",
       "workingday    0\n",
       "weathersit    0\n",
       "temp          0\n",
       "atemp         0\n",
       "hum           0\n",
       "windspeed     0\n",
       "casual        0\n",
       "registered    0\n",
       "cnt           0\n",
       "day           0\n",
       "dtype: int64"
      ]
     },
     "execution_count": 68,
     "metadata": {},
     "output_type": "execute_result"
    }
   ],
   "source": [
    "bike.isnull().sum()"
   ]
  },
  {
   "cell_type": "markdown",
   "id": "de5c7700",
   "metadata": {},
   "source": [
    "## EDA"
   ]
  },
  {
   "cell_type": "code",
   "execution_count": 69,
   "id": "fc796f3e",
   "metadata": {},
   "outputs": [
    {
     "name": "stderr",
     "output_type": "stream",
     "text": [
      "C:\\Users\\rimmadisetty\\Anaconda3\\lib\\site-packages\\seaborn\\distributions.py:2557: FutureWarning: `distplot` is a deprecated function and will be removed in a future version. Please adapt your code to use either `displot` (a figure-level function with similar flexibility) or `histplot` (an axes-level function for histograms).\n",
      "  warnings.warn(msg, FutureWarning)\n"
     ]
    },
    {
     "data": {
      "text/plain": [
       "<AxesSubplot:xlabel='season', ylabel='Density'>"
      ]
     },
     "execution_count": 69,
     "metadata": {},
     "output_type": "execute_result"
    },
    {
     "data": {
      "image/png": "[encoded data removed]",
      "text/plain": [
       "<Figure size 432x288 with 1 Axes>"
      ]
     },
     "metadata": {
      "needs_background": "light"
     },
     "output_type": "display_data"
    }
   ],
   "source": [
    "sns.distplot(bike['season'])"
   ]
  },
  {
   "cell_type": "markdown",
   "id": "b91eabef",
   "metadata": {},
   "source": [
    "## Subplots"
   ]
  },
  {
   "cell_type": "code",
   "execution_count": 70,
   "id": "9e047c6e",
   "metadata": {},
   "outputs": [
    {
     "data": {
      "text/plain": [
       "15"
      ]
     },
     "execution_count": 70,
     "metadata": {},
     "output_type": "execute_result"
    }
   ],
   "source": [
    "columns = list(bike.columns)\n",
    "columns.remove('instant')\n",
    "len(columns)"
   ]
  },
  {
   "cell_type": "code",
   "execution_count": 71,
   "id": "5de0f78a",
   "metadata": {},
   "outputs": [],
   "source": [
    "def distplo(col,i):\n",
    "    plt.figure(figsize = (10,30))\n",
    "    plt.subplot(8,2,i)\n",
    "    sns.distplot(bike[col])"
   ]
  },
  {
   "cell_type": "code",
   "execution_count": 72,
   "id": "ca89d300",
   "metadata": {},
   "outputs": [
    {
     "name": "stderr",
     "output_type": "stream",
     "text": [
      "C:\\Users\\rimmadisetty\\Anaconda3\\lib\\site-packages\\seaborn\\distributions.py:2557: FutureWarning: `distplot` is a deprecated function and will be removed in a future version. Please adapt your code to use either `displot` (a figure-level function with similar flexibility) or `histplot` (an axes-level function for histograms).\n",
      "  warnings.warn(msg, FutureWarning)\n",
      "C:\\Users\\rimmadisetty\\Anaconda3\\lib\\site-packages\\seaborn\\distributions.py:2557: FutureWarning: `distplot` is a deprecated function and will be removed in a future version. Please adapt your code to use either `displot` (a figure-level function with similar flexibility) or `histplot` (an axes-level function for histograms).\n",
      "  warnings.warn(msg, FutureWarning)\n",
      "C:\\Users\\rimmadisetty\\Anaconda3\\lib\\site-packages\\seaborn\\distributions.py:2557: FutureWarning: `distplot` is a deprecated function and will be removed in a future version. Please adapt your code to use either `displot` (a figure-level function with similar flexibility) or `histplot` (an axes-level function for histograms).\n",
      "  warnings.warn(msg, FutureWarning)\n",
      "C:\\Users\\rimmadisetty\\Anaconda3\\lib\\site-packages\\seaborn\\distributions.py:2557: FutureWarning: `distplot` is a deprecated function and will be removed in a future version. Please adapt your code to use either `displot` (a figure-level function with similar flexibility) or `histplot` (an axes-level function for histograms).\n",
      "  warnings.warn(msg, FutureWarning)\n",
      "C:\\Users\\rimmadisetty\\Anaconda3\\lib\\site-packages\\seaborn\\distributions.py:2557: FutureWarning: `distplot` is a deprecated function and will be removed in a future version. Please adapt your code to use either `displot` (a figure-level function with similar flexibility) or `histplot` (an axes-level function for histograms).\n",
      "  warnings.warn(msg, FutureWarning)\n",
      "C:\\Users\\rimmadisetty\\Anaconda3\\lib\\site-packages\\seaborn\\distributions.py:2557: FutureWarning: `distplot` is a deprecated function and will be removed in a future version. Please adapt your code to use either `displot` (a figure-level function with similar flexibility) or `histplot` (an axes-level function for histograms).\n",
      "  warnings.warn(msg, FutureWarning)\n",
      "C:\\Users\\rimmadisetty\\Anaconda3\\lib\\site-packages\\seaborn\\distributions.py:2557: FutureWarning: `distplot` is a deprecated function and will be removed in a future version. Please adapt your code to use either `displot` (a figure-level function with similar flexibility) or `histplot` (an axes-level function for histograms).\n",
      "  warnings.warn(msg, FutureWarning)\n",
      "C:\\Users\\rimmadisetty\\Anaconda3\\lib\\site-packages\\seaborn\\distributions.py:2557: FutureWarning: `distplot` is a deprecated function and will be removed in a future version. Please adapt your code to use either `displot` (a figure-level function with similar flexibility) or `histplot` (an axes-level function for histograms).\n",
      "  warnings.warn(msg, FutureWarning)\n",
      "C:\\Users\\rimmadisetty\\Anaconda3\\lib\\site-packages\\seaborn\\distributions.py:2557: FutureWarning: `distplot` is a deprecated function and will be removed in a future version. Please adapt your code to use either `displot` (a figure-level function with similar flexibility) or `histplot` (an axes-level function for histograms).\n",
      "  warnings.warn(msg, FutureWarning)\n",
      "C:\\Users\\rimmadisetty\\Anaconda3\\lib\\site-packages\\seaborn\\distributions.py:2557: FutureWarning: `distplot` is a deprecated function and will be removed in a future version. Please adapt your code to use either `displot` (a figure-level function with similar flexibility) or `histplot` (an axes-level function for histograms).\n",
      "  warnings.warn(msg, FutureWarning)\n",
      "C:\\Users\\rimmadisetty\\Anaconda3\\lib\\site-packages\\seaborn\\distributions.py:2557: FutureWarning: `distplot` is a deprecated function and will be removed in a future version. Please adapt your code to use either `displot` (a figure-level function with similar flexibility) or `histplot` (an axes-level function for histograms).\n",
      "  warnings.warn(msg, FutureWarning)\n",
      "C:\\Users\\rimmadisetty\\Anaconda3\\lib\\site-packages\\seaborn\\distributions.py:2557: FutureWarning: `distplot` is a deprecated function and will be removed in a future version. Please adapt your code to use either `displot` (a figure-level function with similar flexibility) or `histplot` (an axes-level function for histograms).\n",
      "  warnings.warn(msg, FutureWarning)\n",
      "C:\\Users\\rimmadisetty\\Anaconda3\\lib\\site-packages\\seaborn\\distributions.py:2557: FutureWarning: `distplot` is a deprecated function and will be removed in a future version. Please adapt your code to use either `displot` (a figure-level function with similar flexibility) or `histplot` (an axes-level function for histograms).\n",
      "  warnings.warn(msg, FutureWarning)\n",
      "C:\\Users\\rimmadisetty\\Anaconda3\\lib\\site-packages\\seaborn\\distributions.py:2557: FutureWarning: `distplot` is a deprecated function and will be removed in a future version. Please adapt your code to use either `displot` (a figure-level function with similar flexibility) or `histplot` (an axes-level function for histograms).\n",
      "  warnings.warn(msg, FutureWarning)\n",
      "C:\\Users\\rimmadisetty\\Anaconda3\\lib\\site-packages\\seaborn\\distributions.py:2557: FutureWarning: `distplot` is a deprecated function and will be removed in a future version. Please adapt your code to use either `displot` (a figure-level function with similar flexibility) or `histplot` (an axes-level function for histograms).\n",
      "  warnings.warn(msg, FutureWarning)\n"
     ]
    },
    {
     "data": {
      "image/png": "[encoded data removed]",
      "text/plain": [
       "<Figure size 720x2160 with 1 Axes>"
      ]
     },
     "metadata": {
      "needs_background": "light"
     },
     "output_type": "display_data"
    },
    {
     "data": {
      "image/png": "[encoded data removed]",
      "text/plain": [
       "<Figure size 720x2160 with 1 Axes>"
      ]
     },
     "metadata": {
      "needs_background": "light"
     },
     "output_type": "display_data"
    },
    {
     "data": {
      "image/png": "[encoded data removed]",
      "text/plain": [
       "<Figure size 720x2160 with 1 Axes>"
      ]
     },
     "metadata": {
      "needs_background": "light"
     },
     "output_type": "display_data"
    },
    {
     "data": {
      "image/png": "[encoded data removed]",
      "text/plain": [
       "<Figure size 720x2160 with 1 Axes>"
      ]
     },
     "metadata": {
      "needs_background": "light"
     },
     "output_type": "display_data"
    },
    {
     "data": {
      "image/png": "[encoded data removed]",
      "text/plain": [
       "<Figure size 720x2160 with 1 Axes>"
      ]
     },
     "metadata": {
      "needs_background": "light"
     },
     "output_type": "display_data"
    },
    {
     "data": {
      "image/png": "[encoded data removed]",
      "text/plain": [
       "<Figure size 720x2160 with 1 Axes>"
      ]
     },
     "metadata": {
      "needs_background": "light"
     },
     "output_type": "display_data"
    },
    {
     "data": {
      "image/png": "[encoded data removed]",
      "text/plain": [
       "<Figure size 720x2160 with 1 Axes>"
      ]
     },
     "metadata": {
      "needs_background": "light"
     },
     "output_type": "display_data"
    },
    {
     "data": {
      "image/png": "[encoded data removed]",
      "text/plain": [
       "<Figure size 720x2160 with 1 Axes>"
      ]
     },
     "metadata": {
      "needs_background": "light"
     },
     "output_type": "display_data"
    },
    {
     "data": {
      "image/png": "[encoded data removed]",
      "text/plain": [
       "<Figure size 720x2160 with 1 Axes>"
      ]
     },
     "metadata": {
      "needs_background": "light"
     },
     "output_type": "display_data"
    },
    {
     "data": {
      "image/png": "[encoded data removed]",
      "text/plain": [
       "<Figure size 720x2160 with 1 Axes>"
      ]
     },
     "metadata": {
      "needs_background": "light"
     },
     "output_type": "display_data"
    },
    {
     "data": {
      "image/png": "[encoded data removed]",
      "text/plain": [
       "<Figure size 720x2160 with 1 Axes>"
      ]
     },
     "metadata": {
      "needs_background": "light"
     },
     "output_type": "display_data"
    },
    {
     "data": {
      "image/png": "[encoded data removed]",
      "text/plain": [
       "<Figure size 720x2160 with 1 Axes>"
      ]
     },
     "metadata": {
      "needs_background": "light"
     },
     "output_type": "display_data"
    },
    {
     "data": {
      "image/png": "[encoded data removed]",
      "text/plain": [
       "<Figure size 720x2160 with 1 Axes>"
      ]
     },
     "metadata": {
      "needs_background": "light"
     },
     "output_type": "display_data"
    },
    {
     "data": {
      "image/png": "[encoded data removed]",
      "text/plain": [
       "<Figure size 720x2160 with 1 Axes>"
      ]
     },
     "metadata": {
      "needs_background": "light"
     },
     "output_type": "display_data"
    },
    {
     "data": {
      "image/png": "[encoded data removed]",
      "text/plain": [
       "<Figure size 720x2160 with 1 Axes>"
      ]
     },
     "metadata": {
      "needs_background": "light"
     },
     "output_type": "display_data"
    }
   ],
   "source": [
    "i = 1\n",
    "for col in columns:\n",
    "    distplo(col,i)\n",
    "    i = i + 1"
   ]
  },
  {
   "cell_type": "markdown",
   "id": "31563d97",
   "metadata": {},
   "source": [
    "## Bivarient analysis"
   ]
  },
  {
   "cell_type": "code",
   "execution_count": 73,
   "id": "6a264244",
   "metadata": {},
   "outputs": [],
   "source": [
    "def scatterplo(xcol,ycol,i):\n",
    "    plt.figure(figsize = (10,30))\n",
    "    plt.subplot(8,2,i)\n",
    "    sns.scatterplot(x = bike[xcol] , y = bike[ycol])"
   ]
  },
  {
   "cell_type": "code",
   "execution_count": 74,
   "id": "5f2f1e15",
   "metadata": {},
   "outputs": [
    {
     "data": {
      "text/plain": [
       "Index(['instant', 'season', 'yr', 'mnth', 'holiday', 'weekday', 'workingday',\n",
       "       'weathersit', 'temp', 'atemp', 'hum', 'windspeed', 'casual',\n",
       "       'registered', 'cnt', 'day'],\n",
       "      dtype='object')"
      ]
     },
     "execution_count": 74,
     "metadata": {},
     "output_type": "execute_result"
    }
   ],
   "source": [
    "bike.columns"
   ]
  },
  {
   "cell_type": "code",
   "execution_count": 75,
   "id": "4d6b0b38",
   "metadata": {},
   "outputs": [
    {
     "data": {
      "image/png": "[encoded data removed]",
      "text/plain": [
       "<Figure size 720x2160 with 1 Axes>"
      ]
     },
     "metadata": {
      "needs_background": "light"
     },
     "output_type": "display_data"
    },
    {
     "data": {
      "image/png": "[encoded data removed]",
      "text/plain": [
       "<Figure size 720x2160 with 1 Axes>"
      ]
     },
     "metadata": {
      "needs_background": "light"
     },
     "output_type": "display_data"
    },
    {
     "data": {
      "image/png": "[encoded data removed]",
      "text/plain": [
       "<Figure size 720x2160 with 1 Axes>"
      ]
     },
     "metadata": {
      "needs_background": "light"
     },
     "output_type": "display_data"
    },
    {
     "data": {
      "image/png": "[encoded data removed]",
      "text/plain": [
       "<Figure size 720x2160 with 1 Axes>"
      ]
     },
     "metadata": {
      "needs_background": "light"
     },
     "output_type": "display_data"
    },
    {
     "data": {
      "image/png": "[encoded data removed]",
      "text/plain": [
       "<Figure size 720x2160 with 1 Axes>"
      ]
     },
     "metadata": {
      "needs_background": "light"
     },
     "output_type": "display_data"
    },
    {
     "data": {
      "image/png": "[encoded data removed]",
      "text/plain": [
       "<Figure size 720x2160 with 1 Axes>"
      ]
     },
     "metadata": {
      "needs_background": "light"
     },
     "output_type": "display_data"
    },
    {
     "data": {
      "image/png": "[encoded data removed]",
      "text/plain": [
       "<Figure size 720x2160 with 1 Axes>"
      ]
     },
     "metadata": {
      "needs_background": "light"
     },
     "output_type": "display_data"
    },
    {
     "data": {
      "image/png": "[encoded data removed]",
      "text/plain": [
       "<Figure size 720x2160 with 1 Axes>"
      ]
     },
     "metadata": {
      "needs_background": "light"
     },
     "output_type": "display_data"
    },
    {
     "data": {
      "image/png": "[encoded data removed]",
      "text/plain": [
       "<Figure size 720x2160 with 1 Axes>"
      ]
     },
     "metadata": {
      "needs_background": "light"
     },
     "output_type": "display_data"
    },
    {
     "data": {
      "image/png": "[encoded data removed]",
      "text/plain": [
       "<Figure size 720x2160 with 1 Axes>"
      ]
     },
     "metadata": {
      "needs_background": "light"
     },
     "output_type": "display_data"
    },
    {
     "data": {
      "image/png": "[encoded data removed]",
      "text/plain": [
       "<Figure size 720x2160 with 1 Axes>"
      ]
     },
     "metadata": {
      "needs_background": "light"
     },
     "output_type": "display_data"
    },
    {
     "data": {
      "image/png": "[encoded data removed]",
      "text/plain": [
       "<Figure size 720x2160 with 1 Axes>"
      ]
     },
     "metadata": {
      "needs_background": "light"
     },
     "output_type": "display_data"
    },
    {
     "data": {
      "image/png": "[encoded data removed]",
      "text/plain": [
       "<Figure size 720x2160 with 1 Axes>"
      ]
     },
     "metadata": {
      "needs_background": "light"
     },
     "output_type": "display_data"
    },
    {
     "data": {
      "image/png": "[encoded data removed]",
      "text/plain": [
       "<Figure size 720x2160 with 1 Axes>"
      ]
     },
     "metadata": {
      "needs_background": "light"
     },
     "output_type": "display_data"
    },
    {
     "data": {
      "image/png": "[encoded data removed]",
      "text/plain": [
       "<Figure size 720x2160 with 1 Axes>"
      ]
     },
     "metadata": {
      "needs_background": "light"
     },
     "output_type": "display_data"
    }
   ],
   "source": [
    "i = 1\n",
    "for col in columns:\n",
    "    scatterplo(col,'cnt',2)\n",
    "    i = i + 1\n"
   ]
  },
  {
   "cell_type": "markdown",
   "id": "00faa4ed",
   "metadata": {},
   "source": [
    "## Handling cat values\n",
    "### 1.'weathersit' \n",
    "### 2.'season' \n",
    "### 3.'yr'"
   ]
  },
  {
   "cell_type": "code",
   "execution_count": 76,
   "id": "e4442baf",
   "metadata": {},
   "outputs": [
    {
     "data": {
      "text/plain": [
       "1    463\n",
       "2    246\n",
       "3     21\n",
       "Name: weathersit, dtype: int64"
      ]
     },
     "execution_count": 76,
     "metadata": {},
     "output_type": "execute_result"
    }
   ],
   "source": [
    "bike['weathersit'].value_counts()"
   ]
  },
  {
   "cell_type": "code",
   "execution_count": 77,
   "id": "f397f256",
   "metadata": {},
   "outputs": [
    {
     "data": {
      "text/plain": [
       "3    188\n",
       "2    184\n",
       "1    180\n",
       "4    178\n",
       "Name: season, dtype: int64"
      ]
     },
     "execution_count": 77,
     "metadata": {},
     "output_type": "execute_result"
    }
   ],
   "source": [
    "bike['season'].value_counts()"
   ]
  },
  {
   "cell_type": "code",
   "execution_count": 78,
   "id": "1acae869",
   "metadata": {},
   "outputs": [
    {
     "data": {
      "text/plain": [
       "0    365\n",
       "1    365\n",
       "Name: yr, dtype: int64"
      ]
     },
     "execution_count": 78,
     "metadata": {},
     "output_type": "execute_result"
    }
   ],
   "source": [
    "bike['yr'].value_counts()"
   ]
  },
  {
   "cell_type": "code",
   "execution_count": 79,
   "id": "2e0e4f85",
   "metadata": {},
   "outputs": [],
   "source": [
    "#bike['weathersit'] = bike['weathersit'].apply(lambda x : str(x))\n",
    "#bike['season'] = bike['weathersit'].apply(lambda x : str(x))\n",
    "#bike['yr'] = bike['weathersit'].apply(lambda x : str(x))"
   ]
  },
  {
   "cell_type": "code",
   "execution_count": 80,
   "id": "ae92ed85",
   "metadata": {},
   "outputs": [
    {
     "data": {
      "text/html": [
       "<div>\n",
       "<style scoped>\n",
       "    .dataframe tbody tr th:only-of-type {\n",
       "        vertical-align: middle;\n",
       "    }\n",
       "\n",
       "    .dataframe tbody tr th {\n",
       "        vertical-align: top;\n",
       "    }\n",
       "\n",
       "    .dataframe thead th {\n",
       "        text-align: right;\n",
       "    }\n",
       "</style>\n",
       "<table border=\"1\" class=\"dataframe\">\n",
       "  <thead>\n",
       "    <tr style=\"text-align: right;\">\n",
       "      <th></th>\n",
       "      <th>0</th>\n",
       "      <th>1</th>\n",
       "    </tr>\n",
       "  </thead>\n",
       "  <tbody>\n",
       "    <tr>\n",
       "      <th>0</th>\n",
       "      <td>1</td>\n",
       "      <td>0</td>\n",
       "    </tr>\n",
       "    <tr>\n",
       "      <th>1</th>\n",
       "      <td>1</td>\n",
       "      <td>0</td>\n",
       "    </tr>\n",
       "    <tr>\n",
       "      <th>2</th>\n",
       "      <td>1</td>\n",
       "      <td>0</td>\n",
       "    </tr>\n",
       "    <tr>\n",
       "      <th>3</th>\n",
       "      <td>1</td>\n",
       "      <td>0</td>\n",
       "    </tr>\n",
       "    <tr>\n",
       "      <th>4</th>\n",
       "      <td>1</td>\n",
       "      <td>0</td>\n",
       "    </tr>\n",
       "  </tbody>\n",
       "</table>\n",
       "</div>"
      ],
      "text/plain": [
       "   0  1\n",
       "0  1  0\n",
       "1  1  0\n",
       "2  1  0\n",
       "3  1  0\n",
       "4  1  0"
      ]
     },
     "execution_count": 80,
     "metadata": {},
     "output_type": "execute_result"
    }
   ],
   "source": [
    "one_hot_encoded_data = pd.get_dummies(bike['yr'])\n",
    "one_hot_encoded_data.head()"
   ]
  },
  {
   "cell_type": "code",
   "execution_count": 81,
   "id": "3302d88e",
   "metadata": {},
   "outputs": [],
   "source": [
    "bike.drop('yr',inplace = True, axis =1)"
   ]
  },
  {
   "cell_type": "code",
   "execution_count": 82,
   "id": "eb886b55",
   "metadata": {},
   "outputs": [
    {
     "data": {
      "text/html": [
       "<div>\n",
       "<style scoped>\n",
       "    .dataframe tbody tr th:only-of-type {\n",
       "        vertical-align: middle;\n",
       "    }\n",
       "\n",
       "    .dataframe tbody tr th {\n",
       "        vertical-align: top;\n",
       "    }\n",
       "\n",
       "    .dataframe thead th {\n",
       "        text-align: right;\n",
       "    }\n",
       "</style>\n",
       "<table border=\"1\" class=\"dataframe\">\n",
       "  <thead>\n",
       "    <tr style=\"text-align: right;\">\n",
       "      <th></th>\n",
       "      <th>instant</th>\n",
       "      <th>season</th>\n",
       "      <th>mnth</th>\n",
       "      <th>holiday</th>\n",
       "      <th>weekday</th>\n",
       "      <th>workingday</th>\n",
       "      <th>weathersit</th>\n",
       "      <th>temp</th>\n",
       "      <th>atemp</th>\n",
       "      <th>hum</th>\n",
       "      <th>windspeed</th>\n",
       "      <th>casual</th>\n",
       "      <th>registered</th>\n",
       "      <th>cnt</th>\n",
       "      <th>day</th>\n",
       "      <th>0</th>\n",
       "      <th>1</th>\n",
       "    </tr>\n",
       "  </thead>\n",
       "  <tbody>\n",
       "    <tr>\n",
       "      <th>0</th>\n",
       "      <td>1</td>\n",
       "      <td>1</td>\n",
       "      <td>1</td>\n",
       "      <td>0</td>\n",
       "      <td>6</td>\n",
       "      <td>0</td>\n",
       "      <td>2</td>\n",
       "      <td>14.110847</td>\n",
       "      <td>18.18125</td>\n",
       "      <td>80.5833</td>\n",
       "      <td>10.749882</td>\n",
       "      <td>331</td>\n",
       "      <td>654</td>\n",
       "      <td>985</td>\n",
       "      <td>1</td>\n",
       "      <td>1</td>\n",
       "      <td>0</td>\n",
       "    </tr>\n",
       "    <tr>\n",
       "      <th>1</th>\n",
       "      <td>2</td>\n",
       "      <td>1</td>\n",
       "      <td>1</td>\n",
       "      <td>0</td>\n",
       "      <td>0</td>\n",
       "      <td>0</td>\n",
       "      <td>2</td>\n",
       "      <td>14.902598</td>\n",
       "      <td>17.68695</td>\n",
       "      <td>69.6087</td>\n",
       "      <td>16.652113</td>\n",
       "      <td>131</td>\n",
       "      <td>670</td>\n",
       "      <td>801</td>\n",
       "      <td>2</td>\n",
       "      <td>1</td>\n",
       "      <td>0</td>\n",
       "    </tr>\n",
       "    <tr>\n",
       "      <th>2</th>\n",
       "      <td>3</td>\n",
       "      <td>1</td>\n",
       "      <td>1</td>\n",
       "      <td>0</td>\n",
       "      <td>1</td>\n",
       "      <td>1</td>\n",
       "      <td>1</td>\n",
       "      <td>8.050924</td>\n",
       "      <td>9.47025</td>\n",
       "      <td>43.7273</td>\n",
       "      <td>16.636703</td>\n",
       "      <td>120</td>\n",
       "      <td>1229</td>\n",
       "      <td>1349</td>\n",
       "      <td>3</td>\n",
       "      <td>1</td>\n",
       "      <td>0</td>\n",
       "    </tr>\n",
       "    <tr>\n",
       "      <th>3</th>\n",
       "      <td>4</td>\n",
       "      <td>1</td>\n",
       "      <td>1</td>\n",
       "      <td>0</td>\n",
       "      <td>2</td>\n",
       "      <td>1</td>\n",
       "      <td>1</td>\n",
       "      <td>8.200000</td>\n",
       "      <td>10.60610</td>\n",
       "      <td>59.0435</td>\n",
       "      <td>10.739832</td>\n",
       "      <td>108</td>\n",
       "      <td>1454</td>\n",
       "      <td>1562</td>\n",
       "      <td>4</td>\n",
       "      <td>1</td>\n",
       "      <td>0</td>\n",
       "    </tr>\n",
       "    <tr>\n",
       "      <th>4</th>\n",
       "      <td>5</td>\n",
       "      <td>1</td>\n",
       "      <td>1</td>\n",
       "      <td>0</td>\n",
       "      <td>3</td>\n",
       "      <td>1</td>\n",
       "      <td>1</td>\n",
       "      <td>9.305237</td>\n",
       "      <td>11.46350</td>\n",
       "      <td>43.6957</td>\n",
       "      <td>12.522300</td>\n",
       "      <td>82</td>\n",
       "      <td>1518</td>\n",
       "      <td>1600</td>\n",
       "      <td>5</td>\n",
       "      <td>1</td>\n",
       "      <td>0</td>\n",
       "    </tr>\n",
       "  </tbody>\n",
       "</table>\n",
       "</div>"
      ],
      "text/plain": [
       "   instant  season  mnth  holiday  weekday  workingday  weathersit       temp  \\\n",
       "0        1       1     1        0        6           0           2  14.110847   \n",
       "1        2       1     1        0        0           0           2  14.902598   \n",
       "2        3       1     1        0        1           1           1   8.050924   \n",
       "3        4       1     1        0        2           1           1   8.200000   \n",
       "4        5       1     1        0        3           1           1   9.305237   \n",
       "\n",
       "      atemp      hum  windspeed  casual  registered   cnt  day  0  1  \n",
       "0  18.18125  80.5833  10.749882     331         654   985    1  1  0  \n",
       "1  17.68695  69.6087  16.652113     131         670   801    2  1  0  \n",
       "2   9.47025  43.7273  16.636703     120        1229  1349    3  1  0  \n",
       "3  10.60610  59.0435  10.739832     108        1454  1562    4  1  0  \n",
       "4  11.46350  43.6957  12.522300      82        1518  1600    5  1  0  "
      ]
     },
     "execution_count": 82,
     "metadata": {},
     "output_type": "execute_result"
    }
   ],
   "source": [
    "bike = bike.join(one_hot_encoded_data)\n",
    "\n",
    "bike.head()"
   ]
  },
  {
   "cell_type": "code",
   "execution_count": 83,
   "id": "fe5c1bcf",
   "metadata": {},
   "outputs": [
    {
     "data": {
      "text/plain": [
       "Index([   'instant',     'season',       'mnth',    'holiday',    'weekday',\n",
       "       'workingday', 'weathersit',       'temp',      'atemp',        'hum',\n",
       "        'windspeed',     'casual', 'registered',        'cnt',        'day',\n",
       "                  0,            1],\n",
       "      dtype='object')"
      ]
     },
     "execution_count": 83,
     "metadata": {},
     "output_type": "execute_result"
    }
   ],
   "source": [
    "bike.columns"
   ]
  },
  {
   "cell_type": "code",
   "execution_count": 84,
   "id": "43950a69",
   "metadata": {},
   "outputs": [
    {
     "data": {
      "text/html": [
       "<div>\n",
       "<style scoped>\n",
       "    .dataframe tbody tr th:only-of-type {\n",
       "        vertical-align: middle;\n",
       "    }\n",
       "\n",
       "    .dataframe tbody tr th {\n",
       "        vertical-align: top;\n",
       "    }\n",
       "\n",
       "    .dataframe thead th {\n",
       "        text-align: right;\n",
       "    }\n",
       "</style>\n",
       "<table border=\"1\" class=\"dataframe\">\n",
       "  <thead>\n",
       "    <tr style=\"text-align: right;\">\n",
       "      <th></th>\n",
       "      <th>instant</th>\n",
       "      <th>season</th>\n",
       "      <th>mnth</th>\n",
       "      <th>holiday</th>\n",
       "      <th>weekday</th>\n",
       "      <th>workingday</th>\n",
       "      <th>weathersit</th>\n",
       "      <th>temp</th>\n",
       "      <th>atemp</th>\n",
       "      <th>hum</th>\n",
       "      <th>windspeed</th>\n",
       "      <th>casual</th>\n",
       "      <th>registered</th>\n",
       "      <th>cnt</th>\n",
       "      <th>day</th>\n",
       "      <th>y1</th>\n",
       "      <th>y2</th>\n",
       "    </tr>\n",
       "  </thead>\n",
       "  <tbody>\n",
       "    <tr>\n",
       "      <th>0</th>\n",
       "      <td>1</td>\n",
       "      <td>1</td>\n",
       "      <td>1</td>\n",
       "      <td>0</td>\n",
       "      <td>6</td>\n",
       "      <td>0</td>\n",
       "      <td>2</td>\n",
       "      <td>14.110847</td>\n",
       "      <td>18.18125</td>\n",
       "      <td>80.5833</td>\n",
       "      <td>10.749882</td>\n",
       "      <td>331</td>\n",
       "      <td>654</td>\n",
       "      <td>985</td>\n",
       "      <td>1</td>\n",
       "      <td>1</td>\n",
       "      <td>0</td>\n",
       "    </tr>\n",
       "    <tr>\n",
       "      <th>1</th>\n",
       "      <td>2</td>\n",
       "      <td>1</td>\n",
       "      <td>1</td>\n",
       "      <td>0</td>\n",
       "      <td>0</td>\n",
       "      <td>0</td>\n",
       "      <td>2</td>\n",
       "      <td>14.902598</td>\n",
       "      <td>17.68695</td>\n",
       "      <td>69.6087</td>\n",
       "      <td>16.652113</td>\n",
       "      <td>131</td>\n",
       "      <td>670</td>\n",
       "      <td>801</td>\n",
       "      <td>2</td>\n",
       "      <td>1</td>\n",
       "      <td>0</td>\n",
       "    </tr>\n",
       "    <tr>\n",
       "      <th>2</th>\n",
       "      <td>3</td>\n",
       "      <td>1</td>\n",
       "      <td>1</td>\n",
       "      <td>0</td>\n",
       "      <td>1</td>\n",
       "      <td>1</td>\n",
       "      <td>1</td>\n",
       "      <td>8.050924</td>\n",
       "      <td>9.47025</td>\n",
       "      <td>43.7273</td>\n",
       "      <td>16.636703</td>\n",
       "      <td>120</td>\n",
       "      <td>1229</td>\n",
       "      <td>1349</td>\n",
       "      <td>3</td>\n",
       "      <td>1</td>\n",
       "      <td>0</td>\n",
       "    </tr>\n",
       "    <tr>\n",
       "      <th>3</th>\n",
       "      <td>4</td>\n",
       "      <td>1</td>\n",
       "      <td>1</td>\n",
       "      <td>0</td>\n",
       "      <td>2</td>\n",
       "      <td>1</td>\n",
       "      <td>1</td>\n",
       "      <td>8.200000</td>\n",
       "      <td>10.60610</td>\n",
       "      <td>59.0435</td>\n",
       "      <td>10.739832</td>\n",
       "      <td>108</td>\n",
       "      <td>1454</td>\n",
       "      <td>1562</td>\n",
       "      <td>4</td>\n",
       "      <td>1</td>\n",
       "      <td>0</td>\n",
       "    </tr>\n",
       "    <tr>\n",
       "      <th>4</th>\n",
       "      <td>5</td>\n",
       "      <td>1</td>\n",
       "      <td>1</td>\n",
       "      <td>0</td>\n",
       "      <td>3</td>\n",
       "      <td>1</td>\n",
       "      <td>1</td>\n",
       "      <td>9.305237</td>\n",
       "      <td>11.46350</td>\n",
       "      <td>43.6957</td>\n",
       "      <td>12.522300</td>\n",
       "      <td>82</td>\n",
       "      <td>1518</td>\n",
       "      <td>1600</td>\n",
       "      <td>5</td>\n",
       "      <td>1</td>\n",
       "      <td>0</td>\n",
       "    </tr>\n",
       "  </tbody>\n",
       "</table>\n",
       "</div>"
      ],
      "text/plain": [
       "   instant  season  mnth  holiday  weekday  workingday  weathersit       temp  \\\n",
       "0        1       1     1        0        6           0           2  14.110847   \n",
       "1        2       1     1        0        0           0           2  14.902598   \n",
       "2        3       1     1        0        1           1           1   8.050924   \n",
       "3        4       1     1        0        2           1           1   8.200000   \n",
       "4        5       1     1        0        3           1           1   9.305237   \n",
       "\n",
       "      atemp      hum  windspeed  casual  registered   cnt  day  y1  y2  \n",
       "0  18.18125  80.5833  10.749882     331         654   985    1   1   0  \n",
       "1  17.68695  69.6087  16.652113     131         670   801    2   1   0  \n",
       "2   9.47025  43.7273  16.636703     120        1229  1349    3   1   0  \n",
       "3  10.60610  59.0435  10.739832     108        1454  1562    4   1   0  \n",
       "4  11.46350  43.6957  12.522300      82        1518  1600    5   1   0  "
      ]
     },
     "execution_count": 84,
     "metadata": {},
     "output_type": "execute_result"
    }
   ],
   "source": [
    "bike.rename(columns = {0:'y1',1:'y2'}, inplace = True)\n",
    "bike.head()"
   ]
  },
  {
   "cell_type": "code",
   "execution_count": 85,
   "id": "b6efae6f",
   "metadata": {},
   "outputs": [
    {
     "data": {
      "text/html": [
       "<div>\n",
       "<style scoped>\n",
       "    .dataframe tbody tr th:only-of-type {\n",
       "        vertical-align: middle;\n",
       "    }\n",
       "\n",
       "    .dataframe tbody tr th {\n",
       "        vertical-align: top;\n",
       "    }\n",
       "\n",
       "    .dataframe thead th {\n",
       "        text-align: right;\n",
       "    }\n",
       "</style>\n",
       "<table border=\"1\" class=\"dataframe\">\n",
       "  <thead>\n",
       "    <tr style=\"text-align: right;\">\n",
       "      <th></th>\n",
       "      <th>instant</th>\n",
       "      <th>mnth</th>\n",
       "      <th>holiday</th>\n",
       "      <th>weekday</th>\n",
       "      <th>workingday</th>\n",
       "      <th>weathersit</th>\n",
       "      <th>temp</th>\n",
       "      <th>atemp</th>\n",
       "      <th>hum</th>\n",
       "      <th>windspeed</th>\n",
       "      <th>casual</th>\n",
       "      <th>registered</th>\n",
       "      <th>cnt</th>\n",
       "      <th>day</th>\n",
       "      <th>y1</th>\n",
       "      <th>y2</th>\n",
       "      <th>1</th>\n",
       "      <th>2</th>\n",
       "      <th>3</th>\n",
       "      <th>4</th>\n",
       "    </tr>\n",
       "  </thead>\n",
       "  <tbody>\n",
       "    <tr>\n",
       "      <th>0</th>\n",
       "      <td>1</td>\n",
       "      <td>1</td>\n",
       "      <td>0</td>\n",
       "      <td>6</td>\n",
       "      <td>0</td>\n",
       "      <td>2</td>\n",
       "      <td>14.110847</td>\n",
       "      <td>18.18125</td>\n",
       "      <td>80.5833</td>\n",
       "      <td>10.749882</td>\n",
       "      <td>331</td>\n",
       "      <td>654</td>\n",
       "      <td>985</td>\n",
       "      <td>1</td>\n",
       "      <td>1</td>\n",
       "      <td>0</td>\n",
       "      <td>1</td>\n",
       "      <td>0</td>\n",
       "      <td>0</td>\n",
       "      <td>0</td>\n",
       "    </tr>\n",
       "    <tr>\n",
       "      <th>1</th>\n",
       "      <td>2</td>\n",
       "      <td>1</td>\n",
       "      <td>0</td>\n",
       "      <td>0</td>\n",
       "      <td>0</td>\n",
       "      <td>2</td>\n",
       "      <td>14.902598</td>\n",
       "      <td>17.68695</td>\n",
       "      <td>69.6087</td>\n",
       "      <td>16.652113</td>\n",
       "      <td>131</td>\n",
       "      <td>670</td>\n",
       "      <td>801</td>\n",
       "      <td>2</td>\n",
       "      <td>1</td>\n",
       "      <td>0</td>\n",
       "      <td>1</td>\n",
       "      <td>0</td>\n",
       "      <td>0</td>\n",
       "      <td>0</td>\n",
       "    </tr>\n",
       "    <tr>\n",
       "      <th>2</th>\n",
       "      <td>3</td>\n",
       "      <td>1</td>\n",
       "      <td>0</td>\n",
       "      <td>1</td>\n",
       "      <td>1</td>\n",
       "      <td>1</td>\n",
       "      <td>8.050924</td>\n",
       "      <td>9.47025</td>\n",
       "      <td>43.7273</td>\n",
       "      <td>16.636703</td>\n",
       "      <td>120</td>\n",
       "      <td>1229</td>\n",
       "      <td>1349</td>\n",
       "      <td>3</td>\n",
       "      <td>1</td>\n",
       "      <td>0</td>\n",
       "      <td>1</td>\n",
       "      <td>0</td>\n",
       "      <td>0</td>\n",
       "      <td>0</td>\n",
       "    </tr>\n",
       "    <tr>\n",
       "      <th>3</th>\n",
       "      <td>4</td>\n",
       "      <td>1</td>\n",
       "      <td>0</td>\n",
       "      <td>2</td>\n",
       "      <td>1</td>\n",
       "      <td>1</td>\n",
       "      <td>8.200000</td>\n",
       "      <td>10.60610</td>\n",
       "      <td>59.0435</td>\n",
       "      <td>10.739832</td>\n",
       "      <td>108</td>\n",
       "      <td>1454</td>\n",
       "      <td>1562</td>\n",
       "      <td>4</td>\n",
       "      <td>1</td>\n",
       "      <td>0</td>\n",
       "      <td>1</td>\n",
       "      <td>0</td>\n",
       "      <td>0</td>\n",
       "      <td>0</td>\n",
       "    </tr>\n",
       "    <tr>\n",
       "      <th>4</th>\n",
       "      <td>5</td>\n",
       "      <td>1</td>\n",
       "      <td>0</td>\n",
       "      <td>3</td>\n",
       "      <td>1</td>\n",
       "      <td>1</td>\n",
       "      <td>9.305237</td>\n",
       "      <td>11.46350</td>\n",
       "      <td>43.6957</td>\n",
       "      <td>12.522300</td>\n",
       "      <td>82</td>\n",
       "      <td>1518</td>\n",
       "      <td>1600</td>\n",
       "      <td>5</td>\n",
       "      <td>1</td>\n",
       "      <td>0</td>\n",
       "      <td>1</td>\n",
       "      <td>0</td>\n",
       "      <td>0</td>\n",
       "      <td>0</td>\n",
       "    </tr>\n",
       "  </tbody>\n",
       "</table>\n",
       "</div>"
      ],
      "text/plain": [
       "   instant  mnth  holiday  weekday  workingday  weathersit       temp  \\\n",
       "0        1     1        0        6           0           2  14.110847   \n",
       "1        2     1        0        0           0           2  14.902598   \n",
       "2        3     1        0        1           1           1   8.050924   \n",
       "3        4     1        0        2           1           1   8.200000   \n",
       "4        5     1        0        3           1           1   9.305237   \n",
       "\n",
       "      atemp      hum  windspeed  casual  registered   cnt  day  y1  y2  1  2  \\\n",
       "0  18.18125  80.5833  10.749882     331         654   985    1   1   0  1  0   \n",
       "1  17.68695  69.6087  16.652113     131         670   801    2   1   0  1  0   \n",
       "2   9.47025  43.7273  16.636703     120        1229  1349    3   1   0  1  0   \n",
       "3  10.60610  59.0435  10.739832     108        1454  1562    4   1   0  1  0   \n",
       "4  11.46350  43.6957  12.522300      82        1518  1600    5   1   0  1  0   \n",
       "\n",
       "   3  4  \n",
       "0  0  0  \n",
       "1  0  0  \n",
       "2  0  0  \n",
       "3  0  0  \n",
       "4  0  0  "
      ]
     },
     "execution_count": 85,
     "metadata": {},
     "output_type": "execute_result"
    }
   ],
   "source": [
    "season_labl = pd.get_dummies(bike['season'])\n",
    "bike.drop('season',inplace = True, axis =1)\n",
    "bike = bike.join(season_labl)\n",
    "bike.head()"
   ]
  },
  {
   "cell_type": "code",
   "execution_count": 86,
   "id": "781320f3",
   "metadata": {},
   "outputs": [
    {
     "data": {
      "text/html": [
       "<div>\n",
       "<style scoped>\n",
       "    .dataframe tbody tr th:only-of-type {\n",
       "        vertical-align: middle;\n",
       "    }\n",
       "\n",
       "    .dataframe tbody tr th {\n",
       "        vertical-align: top;\n",
       "    }\n",
       "\n",
       "    .dataframe thead th {\n",
       "        text-align: right;\n",
       "    }\n",
       "</style>\n",
       "<table border=\"1\" class=\"dataframe\">\n",
       "  <thead>\n",
       "    <tr style=\"text-align: right;\">\n",
       "      <th></th>\n",
       "      <th>instant</th>\n",
       "      <th>mnth</th>\n",
       "      <th>holiday</th>\n",
       "      <th>weekday</th>\n",
       "      <th>workingday</th>\n",
       "      <th>weathersit</th>\n",
       "      <th>temp</th>\n",
       "      <th>atemp</th>\n",
       "      <th>hum</th>\n",
       "      <th>windspeed</th>\n",
       "      <th>casual</th>\n",
       "      <th>registered</th>\n",
       "      <th>cnt</th>\n",
       "      <th>day</th>\n",
       "      <th>y1</th>\n",
       "      <th>y2</th>\n",
       "      <th>s1</th>\n",
       "      <th>s2</th>\n",
       "      <th>s3</th>\n",
       "      <th>s4</th>\n",
       "    </tr>\n",
       "  </thead>\n",
       "  <tbody>\n",
       "    <tr>\n",
       "      <th>0</th>\n",
       "      <td>1</td>\n",
       "      <td>1</td>\n",
       "      <td>0</td>\n",
       "      <td>6</td>\n",
       "      <td>0</td>\n",
       "      <td>2</td>\n",
       "      <td>14.110847</td>\n",
       "      <td>18.18125</td>\n",
       "      <td>80.5833</td>\n",
       "      <td>10.749882</td>\n",
       "      <td>331</td>\n",
       "      <td>654</td>\n",
       "      <td>985</td>\n",
       "      <td>1</td>\n",
       "      <td>1</td>\n",
       "      <td>0</td>\n",
       "      <td>1</td>\n",
       "      <td>0</td>\n",
       "      <td>0</td>\n",
       "      <td>0</td>\n",
       "    </tr>\n",
       "    <tr>\n",
       "      <th>1</th>\n",
       "      <td>2</td>\n",
       "      <td>1</td>\n",
       "      <td>0</td>\n",
       "      <td>0</td>\n",
       "      <td>0</td>\n",
       "      <td>2</td>\n",
       "      <td>14.902598</td>\n",
       "      <td>17.68695</td>\n",
       "      <td>69.6087</td>\n",
       "      <td>16.652113</td>\n",
       "      <td>131</td>\n",
       "      <td>670</td>\n",
       "      <td>801</td>\n",
       "      <td>2</td>\n",
       "      <td>1</td>\n",
       "      <td>0</td>\n",
       "      <td>1</td>\n",
       "      <td>0</td>\n",
       "      <td>0</td>\n",
       "      <td>0</td>\n",
       "    </tr>\n",
       "    <tr>\n",
       "      <th>2</th>\n",
       "      <td>3</td>\n",
       "      <td>1</td>\n",
       "      <td>0</td>\n",
       "      <td>1</td>\n",
       "      <td>1</td>\n",
       "      <td>1</td>\n",
       "      <td>8.050924</td>\n",
       "      <td>9.47025</td>\n",
       "      <td>43.7273</td>\n",
       "      <td>16.636703</td>\n",
       "      <td>120</td>\n",
       "      <td>1229</td>\n",
       "      <td>1349</td>\n",
       "      <td>3</td>\n",
       "      <td>1</td>\n",
       "      <td>0</td>\n",
       "      <td>1</td>\n",
       "      <td>0</td>\n",
       "      <td>0</td>\n",
       "      <td>0</td>\n",
       "    </tr>\n",
       "    <tr>\n",
       "      <th>3</th>\n",
       "      <td>4</td>\n",
       "      <td>1</td>\n",
       "      <td>0</td>\n",
       "      <td>2</td>\n",
       "      <td>1</td>\n",
       "      <td>1</td>\n",
       "      <td>8.200000</td>\n",
       "      <td>10.60610</td>\n",
       "      <td>59.0435</td>\n",
       "      <td>10.739832</td>\n",
       "      <td>108</td>\n",
       "      <td>1454</td>\n",
       "      <td>1562</td>\n",
       "      <td>4</td>\n",
       "      <td>1</td>\n",
       "      <td>0</td>\n",
       "      <td>1</td>\n",
       "      <td>0</td>\n",
       "      <td>0</td>\n",
       "      <td>0</td>\n",
       "    </tr>\n",
       "    <tr>\n",
       "      <th>4</th>\n",
       "      <td>5</td>\n",
       "      <td>1</td>\n",
       "      <td>0</td>\n",
       "      <td>3</td>\n",
       "      <td>1</td>\n",
       "      <td>1</td>\n",
       "      <td>9.305237</td>\n",
       "      <td>11.46350</td>\n",
       "      <td>43.6957</td>\n",
       "      <td>12.522300</td>\n",
       "      <td>82</td>\n",
       "      <td>1518</td>\n",
       "      <td>1600</td>\n",
       "      <td>5</td>\n",
       "      <td>1</td>\n",
       "      <td>0</td>\n",
       "      <td>1</td>\n",
       "      <td>0</td>\n",
       "      <td>0</td>\n",
       "      <td>0</td>\n",
       "    </tr>\n",
       "  </tbody>\n",
       "</table>\n",
       "</div>"
      ],
      "text/plain": [
       "   instant  mnth  holiday  weekday  workingday  weathersit       temp  \\\n",
       "0        1     1        0        6           0           2  14.110847   \n",
       "1        2     1        0        0           0           2  14.902598   \n",
       "2        3     1        0        1           1           1   8.050924   \n",
       "3        4     1        0        2           1           1   8.200000   \n",
       "4        5     1        0        3           1           1   9.305237   \n",
       "\n",
       "      atemp      hum  windspeed  casual  registered   cnt  day  y1  y2  s1  \\\n",
       "0  18.18125  80.5833  10.749882     331         654   985    1   1   0   1   \n",
       "1  17.68695  69.6087  16.652113     131         670   801    2   1   0   1   \n",
       "2   9.47025  43.7273  16.636703     120        1229  1349    3   1   0   1   \n",
       "3  10.60610  59.0435  10.739832     108        1454  1562    4   1   0   1   \n",
       "4  11.46350  43.6957  12.522300      82        1518  1600    5   1   0   1   \n",
       "\n",
       "   s2  s3  s4  \n",
       "0   0   0   0  \n",
       "1   0   0   0  \n",
       "2   0   0   0  \n",
       "3   0   0   0  \n",
       "4   0   0   0  "
      ]
     },
     "execution_count": 86,
     "metadata": {},
     "output_type": "execute_result"
    }
   ],
   "source": [
    "bike.rename(columns = {1:'s1',2:'s2',3:'s3',4:'s4'}, inplace = True)\n",
    "bike.head()"
   ]
  },
  {
   "cell_type": "code",
   "execution_count": 87,
   "id": "89da25e8",
   "metadata": {},
   "outputs": [
    {
     "data": {
      "text/html": [
       "<div>\n",
       "<style scoped>\n",
       "    .dataframe tbody tr th:only-of-type {\n",
       "        vertical-align: middle;\n",
       "    }\n",
       "\n",
       "    .dataframe tbody tr th {\n",
       "        vertical-align: top;\n",
       "    }\n",
       "\n",
       "    .dataframe thead th {\n",
       "        text-align: right;\n",
       "    }\n",
       "</style>\n",
       "<table border=\"1\" class=\"dataframe\">\n",
       "  <thead>\n",
       "    <tr style=\"text-align: right;\">\n",
       "      <th></th>\n",
       "      <th>instant</th>\n",
       "      <th>mnth</th>\n",
       "      <th>holiday</th>\n",
       "      <th>weekday</th>\n",
       "      <th>workingday</th>\n",
       "      <th>temp</th>\n",
       "      <th>atemp</th>\n",
       "      <th>hum</th>\n",
       "      <th>windspeed</th>\n",
       "      <th>casual</th>\n",
       "      <th>...</th>\n",
       "      <th>day</th>\n",
       "      <th>y1</th>\n",
       "      <th>y2</th>\n",
       "      <th>s1</th>\n",
       "      <th>s2</th>\n",
       "      <th>s3</th>\n",
       "      <th>s4</th>\n",
       "      <th>s1</th>\n",
       "      <th>s2</th>\n",
       "      <th>s3</th>\n",
       "    </tr>\n",
       "  </thead>\n",
       "  <tbody>\n",
       "    <tr>\n",
       "      <th>0</th>\n",
       "      <td>1</td>\n",
       "      <td>1</td>\n",
       "      <td>0</td>\n",
       "      <td>6</td>\n",
       "      <td>0</td>\n",
       "      <td>14.110847</td>\n",
       "      <td>18.18125</td>\n",
       "      <td>80.5833</td>\n",
       "      <td>10.749882</td>\n",
       "      <td>331</td>\n",
       "      <td>...</td>\n",
       "      <td>1</td>\n",
       "      <td>1</td>\n",
       "      <td>0</td>\n",
       "      <td>1</td>\n",
       "      <td>0</td>\n",
       "      <td>0</td>\n",
       "      <td>0</td>\n",
       "      <td>0</td>\n",
       "      <td>1</td>\n",
       "      <td>0</td>\n",
       "    </tr>\n",
       "    <tr>\n",
       "      <th>1</th>\n",
       "      <td>2</td>\n",
       "      <td>1</td>\n",
       "      <td>0</td>\n",
       "      <td>0</td>\n",
       "      <td>0</td>\n",
       "      <td>14.902598</td>\n",
       "      <td>17.68695</td>\n",
       "      <td>69.6087</td>\n",
       "      <td>16.652113</td>\n",
       "      <td>131</td>\n",
       "      <td>...</td>\n",
       "      <td>2</td>\n",
       "      <td>1</td>\n",
       "      <td>0</td>\n",
       "      <td>1</td>\n",
       "      <td>0</td>\n",
       "      <td>0</td>\n",
       "      <td>0</td>\n",
       "      <td>0</td>\n",
       "      <td>1</td>\n",
       "      <td>0</td>\n",
       "    </tr>\n",
       "    <tr>\n",
       "      <th>2</th>\n",
       "      <td>3</td>\n",
       "      <td>1</td>\n",
       "      <td>0</td>\n",
       "      <td>1</td>\n",
       "      <td>1</td>\n",
       "      <td>8.050924</td>\n",
       "      <td>9.47025</td>\n",
       "      <td>43.7273</td>\n",
       "      <td>16.636703</td>\n",
       "      <td>120</td>\n",
       "      <td>...</td>\n",
       "      <td>3</td>\n",
       "      <td>1</td>\n",
       "      <td>0</td>\n",
       "      <td>1</td>\n",
       "      <td>0</td>\n",
       "      <td>0</td>\n",
       "      <td>0</td>\n",
       "      <td>1</td>\n",
       "      <td>0</td>\n",
       "      <td>0</td>\n",
       "    </tr>\n",
       "    <tr>\n",
       "      <th>3</th>\n",
       "      <td>4</td>\n",
       "      <td>1</td>\n",
       "      <td>0</td>\n",
       "      <td>2</td>\n",
       "      <td>1</td>\n",
       "      <td>8.200000</td>\n",
       "      <td>10.60610</td>\n",
       "      <td>59.0435</td>\n",
       "      <td>10.739832</td>\n",
       "      <td>108</td>\n",
       "      <td>...</td>\n",
       "      <td>4</td>\n",
       "      <td>1</td>\n",
       "      <td>0</td>\n",
       "      <td>1</td>\n",
       "      <td>0</td>\n",
       "      <td>0</td>\n",
       "      <td>0</td>\n",
       "      <td>1</td>\n",
       "      <td>0</td>\n",
       "      <td>0</td>\n",
       "    </tr>\n",
       "    <tr>\n",
       "      <th>4</th>\n",
       "      <td>5</td>\n",
       "      <td>1</td>\n",
       "      <td>0</td>\n",
       "      <td>3</td>\n",
       "      <td>1</td>\n",
       "      <td>9.305237</td>\n",
       "      <td>11.46350</td>\n",
       "      <td>43.6957</td>\n",
       "      <td>12.522300</td>\n",
       "      <td>82</td>\n",
       "      <td>...</td>\n",
       "      <td>5</td>\n",
       "      <td>1</td>\n",
       "      <td>0</td>\n",
       "      <td>1</td>\n",
       "      <td>0</td>\n",
       "      <td>0</td>\n",
       "      <td>0</td>\n",
       "      <td>1</td>\n",
       "      <td>0</td>\n",
       "      <td>0</td>\n",
       "    </tr>\n",
       "  </tbody>\n",
       "</table>\n",
       "<p>5 rows × 22 columns</p>\n",
       "</div>"
      ],
      "text/plain": [
       "   instant  mnth  holiday  weekday  workingday       temp     atemp      hum  \\\n",
       "0        1     1        0        6           0  14.110847  18.18125  80.5833   \n",
       "1        2     1        0        0           0  14.902598  17.68695  69.6087   \n",
       "2        3     1        0        1           1   8.050924   9.47025  43.7273   \n",
       "3        4     1        0        2           1   8.200000  10.60610  59.0435   \n",
       "4        5     1        0        3           1   9.305237  11.46350  43.6957   \n",
       "\n",
       "   windspeed  casual  ...  day  y1  y2  s1  s2  s3  s4  s1  s2  s3  \n",
       "0  10.749882     331  ...    1   1   0   1   0   0   0   0   1   0  \n",
       "1  16.652113     131  ...    2   1   0   1   0   0   0   0   1   0  \n",
       "2  16.636703     120  ...    3   1   0   1   0   0   0   1   0   0  \n",
       "3  10.739832     108  ...    4   1   0   1   0   0   0   1   0   0  \n",
       "4  12.522300      82  ...    5   1   0   1   0   0   0   1   0   0  \n",
       "\n",
       "[5 rows x 22 columns]"
      ]
     },
     "execution_count": 87,
     "metadata": {},
     "output_type": "execute_result"
    }
   ],
   "source": [
    "weathersit_labl = pd.get_dummies(bike['weathersit'])\n",
    "bike.drop('weathersit',inplace = True, axis =1)\n",
    "bike = bike.join(weathersit_labl)\n",
    "bike.rename(columns = {1:'s1',2:'s2',3:'s3'}, inplace = True)\n",
    "bike.head()"
   ]
  },
  {
   "cell_type": "code",
   "execution_count": 88,
   "id": "f68ec63f",
   "metadata": {},
   "outputs": [
    {
     "name": "stdout",
     "output_type": "stream",
     "text": [
      "<class 'pandas.core.frame.DataFrame'>\n",
      "Int64Index: 730 entries, 0 to 729\n",
      "Data columns (total 22 columns):\n",
      " #   Column      Non-Null Count  Dtype  \n",
      "---  ------      --------------  -----  \n",
      " 0   instant     730 non-null    int64  \n",
      " 1   mnth        730 non-null    int64  \n",
      " 2   holiday     730 non-null    int64  \n",
      " 3   weekday     730 non-null    int64  \n",
      " 4   workingday  730 non-null    int64  \n",
      " 5   temp        730 non-null    float64\n",
      " 6   atemp       730 non-null    float64\n",
      " 7   hum         730 non-null    float64\n",
      " 8   windspeed   730 non-null    float64\n",
      " 9   casual      730 non-null    int64  \n",
      " 10  registered  730 non-null    int64  \n",
      " 11  cnt         730 non-null    int64  \n",
      " 12  day         730 non-null    int64  \n",
      " 13  y1          730 non-null    uint8  \n",
      " 14  y2          730 non-null    uint8  \n",
      " 15  s1          730 non-null    uint8  \n",
      " 16  s2          730 non-null    uint8  \n",
      " 17  s3          730 non-null    uint8  \n",
      " 18  s4          730 non-null    uint8  \n",
      " 19  s1          730 non-null    uint8  \n",
      " 20  s2          730 non-null    uint8  \n",
      " 21  s3          730 non-null    uint8  \n",
      "dtypes: float64(4), int64(9), uint8(9)\n",
      "memory usage: 102.4 KB\n"
     ]
    }
   ],
   "source": [
    "bike.info()"
   ]
  },
  {
   "cell_type": "markdown",
   "id": "fd2ac6b3",
   "metadata": {},
   "source": [
    "## Handling Outiers"
   ]
  },
  {
   "cell_type": "code",
   "execution_count": 89,
   "id": "bf67b038",
   "metadata": {},
   "outputs": [],
   "source": [
    "def boxplo(col,i):\n",
    "    plt.figure(figsize = (10,30))\n",
    "    plt.subplot(8,2,i)\n",
    "    sns.violinplot(bike[col])\n",
    "    "
   ]
  },
  {
   "cell_type": "code",
   "execution_count": 90,
   "id": "e01aacdb",
   "metadata": {},
   "outputs": [
    {
     "data": {
      "text/plain": [
       "['season',\n",
       " 'yr',\n",
       " 'mnth',\n",
       " 'holiday',\n",
       " 'weekday',\n",
       " 'workingday',\n",
       " 'weathersit',\n",
       " 'temp',\n",
       " 'atemp',\n",
       " 'hum',\n",
       " 'windspeed',\n",
       " 'casual',\n",
       " 'registered',\n",
       " 'cnt',\n",
       " 'day']"
      ]
     },
     "execution_count": 90,
     "metadata": {},
     "output_type": "execute_result"
    }
   ],
   "source": [
    "columns"
   ]
  },
  {
   "cell_type": "code",
   "execution_count": 91,
   "id": "386b0abd",
   "metadata": {},
   "outputs": [
    {
     "data": {
      "text/plain": [
       "['mnth',\n",
       " 'holiday',\n",
       " 'weekday',\n",
       " 'workingday',\n",
       " 'temp',\n",
       " 'atemp',\n",
       " 'hum',\n",
       " 'windspeed',\n",
       " 'casual',\n",
       " 'registered',\n",
       " 'day']"
      ]
     },
     "execution_count": 91,
     "metadata": {},
     "output_type": "execute_result"
    }
   ],
   "source": [
    "columns.remove('yr')\n",
    "columns.remove('weathersit')\n",
    "columns.remove('cnt')\n",
    "columns.remove('season')\n",
    "columns"
   ]
  },
  {
   "cell_type": "code",
   "execution_count": 92,
   "id": "20f98bfa",
   "metadata": {},
   "outputs": [
    {
     "name": "stderr",
     "output_type": "stream",
     "text": [
      "C:\\Users\\rimmadisetty\\Anaconda3\\lib\\site-packages\\seaborn\\_decorators.py:36: FutureWarning: Pass the following variable as a keyword arg: x. From version 0.12, the only valid positional argument will be `data`, and passing other arguments without an explicit keyword will result in an error or misinterpretation.\n",
      "  warnings.warn(\n",
      "C:\\Users\\rimmadisetty\\Anaconda3\\lib\\site-packages\\seaborn\\_decorators.py:36: FutureWarning: Pass the following variable as a keyword arg: x. From version 0.12, the only valid positional argument will be `data`, and passing other arguments without an explicit keyword will result in an error or misinterpretation.\n",
      "  warnings.warn(\n",
      "C:\\Users\\rimmadisetty\\Anaconda3\\lib\\site-packages\\seaborn\\_decorators.py:36: FutureWarning: Pass the following variable as a keyword arg: x. From version 0.12, the only valid positional argument will be `data`, and passing other arguments without an explicit keyword will result in an error or misinterpretation.\n",
      "  warnings.warn(\n",
      "C:\\Users\\rimmadisetty\\Anaconda3\\lib\\site-packages\\seaborn\\_decorators.py:36: FutureWarning: Pass the following variable as a keyword arg: x. From version 0.12, the only valid positional argument will be `data`, and passing other arguments without an explicit keyword will result in an error or misinterpretation.\n",
      "  warnings.warn(\n",
      "C:\\Users\\rimmadisetty\\Anaconda3\\lib\\site-packages\\seaborn\\_decorators.py:36: FutureWarning: Pass the following variable as a keyword arg: x. From version 0.12, the only valid positional argument will be `data`, and passing other arguments without an explicit keyword will result in an error or misinterpretation.\n",
      "  warnings.warn(\n",
      "C:\\Users\\rimmadisetty\\Anaconda3\\lib\\site-packages\\seaborn\\_decorators.py:36: FutureWarning: Pass the following variable as a keyword arg: x. From version 0.12, the only valid positional argument will be `data`, and passing other arguments without an explicit keyword will result in an error or misinterpretation.\n",
      "  warnings.warn(\n",
      "C:\\Users\\rimmadisetty\\Anaconda3\\lib\\site-packages\\seaborn\\_decorators.py:36: FutureWarning: Pass the following variable as a keyword arg: x. From version 0.12, the only valid positional argument will be `data`, and passing other arguments without an explicit keyword will result in an error or misinterpretation.\n",
      "  warnings.warn(\n",
      "C:\\Users\\rimmadisetty\\Anaconda3\\lib\\site-packages\\seaborn\\_decorators.py:36: FutureWarning: Pass the following variable as a keyword arg: x. From version 0.12, the only valid positional argument will be `data`, and passing other arguments without an explicit keyword will result in an error or misinterpretation.\n",
      "  warnings.warn(\n",
      "C:\\Users\\rimmadisetty\\Anaconda3\\lib\\site-packages\\seaborn\\_decorators.py:36: FutureWarning: Pass the following variable as a keyword arg: x. From version 0.12, the only valid positional argument will be `data`, and passing other arguments without an explicit keyword will result in an error or misinterpretation.\n",
      "  warnings.warn(\n",
      "C:\\Users\\rimmadisetty\\Anaconda3\\lib\\site-packages\\seaborn\\_decorators.py:36: FutureWarning: Pass the following variable as a keyword arg: x. From version 0.12, the only valid positional argument will be `data`, and passing other arguments without an explicit keyword will result in an error or misinterpretation.\n",
      "  warnings.warn(\n",
      "C:\\Users\\rimmadisetty\\Anaconda3\\lib\\site-packages\\seaborn\\_decorators.py:36: FutureWarning: Pass the following variable as a keyword arg: x. From version 0.12, the only valid positional argument will be `data`, and passing other arguments without an explicit keyword will result in an error or misinterpretation.\n",
      "  warnings.warn(\n"
     ]
    },
    {
     "data": {
      "image/png": "[encoded data removed]",
      "text/plain": [
       "<Figure size 720x2160 with 1 Axes>"
      ]
     },
     "metadata": {
      "needs_background": "light"
     },
     "output_type": "display_data"
    },
    {
     "data": {
      "image/png": "[encoded data removed]",
      "text/plain": [
       "<Figure size 720x2160 with 1 Axes>"
      ]
     },
     "metadata": {
      "needs_background": "light"
     },
     "output_type": "display_data"
    },
    {
     "data": {
      "image/png": "[encoded data removed]",
      "text/plain": [
       "<Figure size 720x2160 with 1 Axes>"
      ]
     },
     "metadata": {
      "needs_background": "light"
     },
     "output_type": "display_data"
    },
    {
     "data": {
      "image/png": "[encoded data removed]",
      "text/plain": [
       "<Figure size 720x2160 with 1 Axes>"
      ]
     },
     "metadata": {
      "needs_background": "light"
     },
     "output_type": "display_data"
    },
    {
     "data": {
      "image/png": "[encoded data removed]",
      "text/plain": [
       "<Figure size 720x2160 with 1 Axes>"
      ]
     },
     "metadata": {
      "needs_background": "light"
     },
     "output_type": "display_data"
    },
    {
     "data": {
      "image/png": "[encoded data removed]",
      "text/plain": [
       "<Figure size 720x2160 with 1 Axes>"
      ]
     },
     "metadata": {
      "needs_background": "light"
     },
     "output_type": "display_data"
    },
    {
     "data": {
      "image/png": "[encoded data removed]",
      "text/plain": [
       "<Figure size 720x2160 with 1 Axes>"
      ]
     },
     "metadata": {
      "needs_background": "light"
     },
     "output_type": "display_data"
    },
    {
     "data": {
      "image/png": "[encoded data removed]",
      "text/plain": [
       "<Figure size 720x2160 with 1 Axes>"
      ]
     },
     "metadata": {
      "needs_background": "light"
     },
     "output_type": "display_data"
    },
    {
     "data": {
      "image/png": "[encoded data removed]",
      "text/plain": [
       "<Figure size 720x2160 with 1 Axes>"
      ]
     },
     "metadata": {
      "needs_background": "light"
     },
     "output_type": "display_data"
    },
    {
     "data": {
      "image/png": "[encoded data removed]",
      "text/plain": [
       "<Figure size 720x2160 with 1 Axes>"
      ]
     },
     "metadata": {
      "needs_background": "light"
     },
     "output_type": "display_data"
    },
    {
     "data": {
      "image/png": "[encoded data removed]",
      "text/plain": [
       "<Figure size 720x2160 with 1 Axes>"
      ]
     },
     "metadata": {
      "needs_background": "light"
     },
     "output_type": "display_data"
    }
   ],
   "source": [
    "i = 1\n",
    "for col in columns:\n",
    "    boxplo(col,i)\n",
    "    i = i + 1\n",
    "    "
   ]
  },
  {
   "cell_type": "markdown",
   "id": "c652a449",
   "metadata": {},
   "source": [
    "## outliers available in casual,windspeed,hum"
   ]
  },
  {
   "cell_type": "code",
   "execution_count": 93,
   "id": "58e78fe0",
   "metadata": {},
   "outputs": [],
   "source": [
    "def detect_outlier_iqr(bike,feature):\n",
    "    IQR = np.percentile(bike[feature],75) - np.percentile(bike[feature],25)     \n",
    "    LB  = np.percentile(bike[feature],25) - 1.5*IQR\n",
    "    UB  = np.percentile(bike[feature],75) + 1.5*IQR\n",
    "   # coun = ((bike[feature] > UB) | (bike[feature] < LB)).sum()\n",
    "    count = ((bike[feature] > UB ) | (bike[feature] < LB)).sum()\n",
    "    li = []\n",
    "    for x in bike[feature]:\n",
    "        if (x > UB) | (x < LB):\n",
    "            li.append(x)\n",
    "    print(feature)\n",
    "    print(f'LB is {LB} and  UB is {UB}  no_of_outliers {count} ')\n",
    "   # print(li)\n",
    "    if count > 0:\n",
    "        outlie.append(feature)   "
   ]
  },
  {
   "cell_type": "code",
   "execution_count": 94,
   "id": "e1d5f76e",
   "metadata": {},
   "outputs": [
    {
     "name": "stdout",
     "output_type": "stream",
     "text": [
      "mnth\n",
      "LB is -5.0 and  UB is 19.0  no_of_outliers 0 \n",
      "holiday\n",
      "LB is 0.0 and  UB is 0.0  no_of_outliers 21 \n",
      "weekday\n",
      "LB is -5.0 and  UB is 11.0  no_of_outliers 0 \n",
      "workingday\n",
      "LB is -1.5 and  UB is 2.5  no_of_outliers 0 \n",
      "temp\n",
      "LB is -5.7912089999999985 and  UB is 46.483709  no_of_outliers 0 \n",
      "atemp\n",
      "LB is -3.444381249999992 and  UB is 50.77986874999999  no_of_outliers 0 \n",
      "hum\n",
      "LB is 20.515637499999997 and  UB is 104.4739375  no_of_outliers 2 \n",
      "windspeed\n",
      "LB is -0.8342588749999997 and  UB is 25.501498125  no_of_outliers 13 \n",
      "casual\n",
      "LB is -854.125 and  UB is 2266.875  no_of_outliers 44 \n",
      "registered\n",
      "LB is -919.25 and  UB is 8204.75  no_of_outliers 0 \n",
      "day\n",
      "LB is -14.5 and  UB is 45.5  no_of_outliers 0 \n"
     ]
    }
   ],
   "source": [
    "outlie=[]\n",
    "for col in columns:\n",
    "    detect_outlier_iqr(bike,col)\n",
    "    "
   ]
  },
  {
   "cell_type": "markdown",
   "id": "9526dbf4",
   "metadata": {},
   "source": [
    "## Holiday has no outliers since it has only 2 values"
   ]
  },
  {
   "cell_type": "code",
   "execution_count": 95,
   "id": "070197ec",
   "metadata": {},
   "outputs": [
    {
     "data": {
      "text/plain": [
       "62.625"
      ]
     },
     "execution_count": 95,
     "metadata": {},
     "output_type": "execute_result"
    }
   ],
   "source": [
    "np.median(bike['hum'])"
   ]
  },
  {
   "cell_type": "code",
   "execution_count": 96,
   "id": "72fe0609",
   "metadata": {},
   "outputs": [],
   "source": [
    "bike['hum'] = bike['hum'].apply(lambda x : np.median(bike['hum']) if (( x < 20.515 ) | ( x > 104.47 )) else x )\n",
    "bike['windspeed'] = bike['windspeed'].apply(lambda x : np.median(bike['hum']) if (( x < -0.83425 ) | ( x > 25.501 )) else x )\n",
    "bike['casual'] = bike['casual'].apply(lambda x : np.median(bike['hum']) if (( x < -854.125 ) | ( x > 2266.875 )) else x )"
   ]
  },
  {
   "cell_type": "code",
   "execution_count": 97,
   "id": "6f019f9e",
   "metadata": {},
   "outputs": [
    {
     "name": "stdout",
     "output_type": "stream",
     "text": [
      "mnth\n",
      "LB is -5.0 and  UB is 19.0  no_of_outliers 0 \n",
      "holiday\n",
      "LB is 0.0 and  UB is 0.0  no_of_outliers 21 \n",
      "weekday\n",
      "LB is -5.0 and  UB is 11.0  no_of_outliers 0 \n",
      "workingday\n",
      "LB is -1.5 and  UB is 2.5  no_of_outliers 0 \n",
      "temp\n",
      "LB is -5.7912089999999985 and  UB is 46.483709  no_of_outliers 0 \n",
      "atemp\n",
      "LB is -3.444381249999992 and  UB is 50.77986874999999  no_of_outliers 0 \n",
      "hum\n",
      "LB is 21.062449999999995 and  UB is 104.14585000000001  no_of_outliers 0 \n",
      "windspeed\n",
      "LB is -0.8342588749999997 and  UB is 25.501498125  no_of_outliers 13 \n",
      "casual\n",
      "LB is -921.625 and  UB is 2153.375  no_of_outliers 13 \n",
      "registered\n",
      "LB is -919.25 and  UB is 8204.75  no_of_outliers 0 \n",
      "day\n",
      "LB is -14.5 and  UB is 45.5  no_of_outliers 0 \n"
     ]
    }
   ],
   "source": [
    "outlie=[]\n",
    "for col in columns:\n",
    "    detect_outlier_iqr(bike,col)\n",
    "    "
   ]
  },
  {
   "cell_type": "code",
   "execution_count": 98,
   "id": "037e7130",
   "metadata": {},
   "outputs": [
    {
     "data": {
      "text/html": [
       "<div>\n",
       "<style scoped>\n",
       "    .dataframe tbody tr th:only-of-type {\n",
       "        vertical-align: middle;\n",
       "    }\n",
       "\n",
       "    .dataframe tbody tr th {\n",
       "        vertical-align: top;\n",
       "    }\n",
       "\n",
       "    .dataframe thead th {\n",
       "        text-align: right;\n",
       "    }\n",
       "</style>\n",
       "<table border=\"1\" class=\"dataframe\">\n",
       "  <thead>\n",
       "    <tr style=\"text-align: right;\">\n",
       "      <th></th>\n",
       "      <th>mnth</th>\n",
       "      <th>holiday</th>\n",
       "      <th>weekday</th>\n",
       "      <th>workingday</th>\n",
       "      <th>temp</th>\n",
       "      <th>atemp</th>\n",
       "      <th>hum</th>\n",
       "      <th>windspeed</th>\n",
       "      <th>casual</th>\n",
       "      <th>registered</th>\n",
       "      <th>day</th>\n",
       "      <th>cnt</th>\n",
       "    </tr>\n",
       "  </thead>\n",
       "  <tbody>\n",
       "    <tr>\n",
       "      <th>mnth</th>\n",
       "      <td>1.000000</td>\n",
       "      <td>0.018905</td>\n",
       "      <td>0.009523</td>\n",
       "      <td>-0.004688</td>\n",
       "      <td>0.219083</td>\n",
       "      <td>0.226430</td>\n",
       "      <td>0.217610</td>\n",
       "      <td>-0.176512</td>\n",
       "      <td>0.151559</td>\n",
       "      <td>0.291952</td>\n",
       "      <td>0.011893</td>\n",
       "      <td>0.278191</td>\n",
       "    </tr>\n",
       "    <tr>\n",
       "      <th>holiday</th>\n",
       "      <td>0.018905</td>\n",
       "      <td>1.000000</td>\n",
       "      <td>-0.101962</td>\n",
       "      <td>-0.252948</td>\n",
       "      <td>-0.028764</td>\n",
       "      <td>-0.032703</td>\n",
       "      <td>-0.017784</td>\n",
       "      <td>-0.009054</td>\n",
       "      <td>-0.002805</td>\n",
       "      <td>-0.109142</td>\n",
       "      <td>-0.010371</td>\n",
       "      <td>-0.068764</td>\n",
       "    </tr>\n",
       "    <tr>\n",
       "      <th>weekday</th>\n",
       "      <td>0.009523</td>\n",
       "      <td>-0.101962</td>\n",
       "      <td>1.000000</td>\n",
       "      <td>0.035800</td>\n",
       "      <td>-0.000168</td>\n",
       "      <td>-0.007539</td>\n",
       "      <td>-0.043835</td>\n",
       "      <td>0.006310</td>\n",
       "      <td>-0.008416</td>\n",
       "      <td>0.057427</td>\n",
       "      <td>-0.000432</td>\n",
       "      <td>0.067534</td>\n",
       "    </tr>\n",
       "    <tr>\n",
       "      <th>workingday</th>\n",
       "      <td>-0.004688</td>\n",
       "      <td>-0.252948</td>\n",
       "      <td>0.035800</td>\n",
       "      <td>1.000000</td>\n",
       "      <td>0.053470</td>\n",
       "      <td>0.052940</td>\n",
       "      <td>0.021535</td>\n",
       "      <td>-0.021501</td>\n",
       "      <td>-0.249121</td>\n",
       "      <td>0.305437</td>\n",
       "      <td>0.008521</td>\n",
       "      <td>0.062542</td>\n",
       "    </tr>\n",
       "    <tr>\n",
       "      <th>temp</th>\n",
       "      <td>0.219083</td>\n",
       "      <td>-0.028764</td>\n",
       "      <td>-0.000168</td>\n",
       "      <td>0.053470</td>\n",
       "      <td>1.000000</td>\n",
       "      <td>0.991696</td>\n",
       "      <td>0.125354</td>\n",
       "      <td>-0.142306</td>\n",
       "      <td>0.505461</td>\n",
       "      <td>0.539436</td>\n",
       "      <td>0.026009</td>\n",
       "      <td>0.627044</td>\n",
       "    </tr>\n",
       "    <tr>\n",
       "      <th>atemp</th>\n",
       "      <td>0.226430</td>\n",
       "      <td>-0.032703</td>\n",
       "      <td>-0.007539</td>\n",
       "      <td>0.052940</td>\n",
       "      <td>0.991696</td>\n",
       "      <td>1.000000</td>\n",
       "      <td>0.138864</td>\n",
       "      <td>-0.162380</td>\n",
       "      <td>0.504101</td>\n",
       "      <td>0.543678</td>\n",
       "      <td>0.019920</td>\n",
       "      <td>0.630685</td>\n",
       "    </tr>\n",
       "    <tr>\n",
       "      <th>hum</th>\n",
       "      <td>0.217610</td>\n",
       "      <td>-0.017784</td>\n",
       "      <td>-0.043835</td>\n",
       "      <td>0.021535</td>\n",
       "      <td>0.125354</td>\n",
       "      <td>0.138864</td>\n",
       "      <td>1.000000</td>\n",
       "      <td>-0.213171</td>\n",
       "      <td>-0.064654</td>\n",
       "      <td>-0.110273</td>\n",
       "      <td>0.038725</td>\n",
       "      <td>-0.119319</td>\n",
       "    </tr>\n",
       "    <tr>\n",
       "      <th>windspeed</th>\n",
       "      <td>-0.176512</td>\n",
       "      <td>-0.009054</td>\n",
       "      <td>0.006310</td>\n",
       "      <td>-0.021501</td>\n",
       "      <td>-0.142306</td>\n",
       "      <td>-0.162380</td>\n",
       "      <td>-0.213171</td>\n",
       "      <td>1.000000</td>\n",
       "      <td>-0.151928</td>\n",
       "      <td>-0.179227</td>\n",
       "      <td>0.017299</td>\n",
       "      <td>-0.198764</td>\n",
       "    </tr>\n",
       "    <tr>\n",
       "      <th>casual</th>\n",
       "      <td>0.151559</td>\n",
       "      <td>-0.002805</td>\n",
       "      <td>-0.008416</td>\n",
       "      <td>-0.249121</td>\n",
       "      <td>0.505461</td>\n",
       "      <td>0.504101</td>\n",
       "      <td>-0.064654</td>\n",
       "      <td>-0.151928</td>\n",
       "      <td>1.000000</td>\n",
       "      <td>0.368061</td>\n",
       "      <td>0.013512</td>\n",
       "      <td>0.473863</td>\n",
       "    </tr>\n",
       "    <tr>\n",
       "      <th>registered</th>\n",
       "      <td>0.291952</td>\n",
       "      <td>-0.109142</td>\n",
       "      <td>0.057427</td>\n",
       "      <td>0.305437</td>\n",
       "      <td>0.539436</td>\n",
       "      <td>0.543678</td>\n",
       "      <td>-0.110273</td>\n",
       "      <td>-0.179227</td>\n",
       "      <td>0.368061</td>\n",
       "      <td>1.000000</td>\n",
       "      <td>-0.021729</td>\n",
       "      <td>0.945411</td>\n",
       "    </tr>\n",
       "    <tr>\n",
       "      <th>day</th>\n",
       "      <td>0.011893</td>\n",
       "      <td>-0.010371</td>\n",
       "      <td>-0.000432</td>\n",
       "      <td>0.008521</td>\n",
       "      <td>0.026009</td>\n",
       "      <td>0.019920</td>\n",
       "      <td>0.038725</td>\n",
       "      <td>0.017299</td>\n",
       "      <td>0.013512</td>\n",
       "      <td>-0.021729</td>\n",
       "      <td>1.000000</td>\n",
       "      <td>-0.021419</td>\n",
       "    </tr>\n",
       "    <tr>\n",
       "      <th>cnt</th>\n",
       "      <td>0.278191</td>\n",
       "      <td>-0.068764</td>\n",
       "      <td>0.067534</td>\n",
       "      <td>0.062542</td>\n",
       "      <td>0.627044</td>\n",
       "      <td>0.630685</td>\n",
       "      <td>-0.119319</td>\n",
       "      <td>-0.198764</td>\n",
       "      <td>0.473863</td>\n",
       "      <td>0.945411</td>\n",
       "      <td>-0.021419</td>\n",
       "      <td>1.000000</td>\n",
       "    </tr>\n",
       "  </tbody>\n",
       "</table>\n",
       "</div>"
      ],
      "text/plain": [
       "                mnth   holiday   weekday  workingday      temp     atemp  \\\n",
       "mnth        1.000000  0.018905  0.009523   -0.004688  0.219083  0.226430   \n",
       "holiday     0.018905  1.000000 -0.101962   -0.252948 -0.028764 -0.032703   \n",
       "weekday     0.009523 -0.101962  1.000000    0.035800 -0.000168 -0.007539   \n",
       "workingday -0.004688 -0.252948  0.035800    1.000000  0.053470  0.052940   \n",
       "temp        0.219083 -0.028764 -0.000168    0.053470  1.000000  0.991696   \n",
       "atemp       0.226430 -0.032703 -0.007539    0.052940  0.991696  1.000000   \n",
       "hum         0.217610 -0.017784 -0.043835    0.021535  0.125354  0.138864   \n",
       "windspeed  -0.176512 -0.009054  0.006310   -0.021501 -0.142306 -0.162380   \n",
       "casual      0.151559 -0.002805 -0.008416   -0.249121  0.505461  0.504101   \n",
       "registered  0.291952 -0.109142  0.057427    0.305437  0.539436  0.543678   \n",
       "day         0.011893 -0.010371 -0.000432    0.008521  0.026009  0.019920   \n",
       "cnt         0.278191 -0.068764  0.067534    0.062542  0.627044  0.630685   \n",
       "\n",
       "                 hum  windspeed    casual  registered       day       cnt  \n",
       "mnth        0.217610  -0.176512  0.151559    0.291952  0.011893  0.278191  \n",
       "holiday    -0.017784  -0.009054 -0.002805   -0.109142 -0.010371 -0.068764  \n",
       "weekday    -0.043835   0.006310 -0.008416    0.057427 -0.000432  0.067534  \n",
       "workingday  0.021535  -0.021501 -0.249121    0.305437  0.008521  0.062542  \n",
       "temp        0.125354  -0.142306  0.505461    0.539436  0.026009  0.627044  \n",
       "atemp       0.138864  -0.162380  0.504101    0.543678  0.019920  0.630685  \n",
       "hum         1.000000  -0.213171 -0.064654   -0.110273  0.038725 -0.119319  \n",
       "windspeed  -0.213171   1.000000 -0.151928   -0.179227  0.017299 -0.198764  \n",
       "casual     -0.064654  -0.151928  1.000000    0.368061  0.013512  0.473863  \n",
       "registered -0.110273  -0.179227  0.368061    1.000000 -0.021729  0.945411  \n",
       "day         0.038725   0.017299  0.013512   -0.021729  1.000000 -0.021419  \n",
       "cnt        -0.119319  -0.198764  0.473863    0.945411 -0.021419  1.000000  "
      ]
     },
     "execution_count": 98,
     "metadata": {},
     "output_type": "execute_result"
    }
   ],
   "source": [
    "columns.append('cnt')\n",
    "bike[columns].corr()"
   ]
  },
  {
   "cell_type": "code",
   "execution_count": 99,
   "id": "4dc30161",
   "metadata": {},
   "outputs": [
    {
     "data": {
      "text/plain": [
       "<AxesSubplot:>"
      ]
     },
     "execution_count": 99,
     "metadata": {},
     "output_type": "execute_result"
    },
    {
     "data": {
      "image/png": "[encoded data removed]",
      "text/plain": [
       "<Figure size 432x288 with 2 Axes>"
      ]
     },
     "metadata": {
      "needs_background": "light"
     },
     "output_type": "display_data"
    }
   ],
   "source": [
    "sns.heatmap(bike)"
   ]
  },
  {
   "cell_type": "markdown",
   "id": "ebee5b09",
   "metadata": {},
   "source": [
    "## target varaible"
   ]
  },
  {
   "cell_type": "code",
   "execution_count": 100,
   "id": "7b725cbf",
   "metadata": {},
   "outputs": [],
   "source": [
    "y = bike['cnt']"
   ]
  },
  {
   "cell_type": "code",
   "execution_count": 101,
   "id": "1086c0a3",
   "metadata": {},
   "outputs": [],
   "source": [
    "bike.drop('cnt',inplace = True, axis = 1)"
   ]
  },
  {
   "cell_type": "code",
   "execution_count": 102,
   "id": "e8093bc5",
   "metadata": {},
   "outputs": [
    {
     "name": "stdout",
     "output_type": "stream",
     "text": [
      "<class 'pandas.core.frame.DataFrame'>\n",
      "Int64Index: 730 entries, 0 to 729\n",
      "Data columns (total 21 columns):\n",
      " #   Column      Non-Null Count  Dtype  \n",
      "---  ------      --------------  -----  \n",
      " 0   instant     730 non-null    int64  \n",
      " 1   mnth        730 non-null    int64  \n",
      " 2   holiday     730 non-null    int64  \n",
      " 3   weekday     730 non-null    int64  \n",
      " 4   workingday  730 non-null    int64  \n",
      " 5   temp        730 non-null    float64\n",
      " 6   atemp       730 non-null    float64\n",
      " 7   hum         730 non-null    float64\n",
      " 8   windspeed   730 non-null    float64\n",
      " 9   casual      730 non-null    float64\n",
      " 10  registered  730 non-null    int64  \n",
      " 11  day         730 non-null    int64  \n",
      " 12  y1          730 non-null    uint8  \n",
      " 13  y2          730 non-null    uint8  \n",
      " 14  s1          730 non-null    uint8  \n",
      " 15  s2          730 non-null    uint8  \n",
      " 16  s3          730 non-null    uint8  \n",
      " 17  s4          730 non-null    uint8  \n",
      " 18  s1          730 non-null    uint8  \n",
      " 19  s2          730 non-null    uint8  \n",
      " 20  s3          730 non-null    uint8  \n",
      "dtypes: float64(5), int64(7), uint8(9)\n",
      "memory usage: 96.7 KB\n"
     ]
    }
   ],
   "source": [
    "bike.info()"
   ]
  },
  {
   "cell_type": "markdown",
   "id": "dc9e4191",
   "metadata": {},
   "source": [
    "# feature scaling"
   ]
  },
  {
   "cell_type": "code",
   "execution_count": 103,
   "id": "b1be5776",
   "metadata": {},
   "outputs": [],
   "source": [
    "from sklearn import preprocessing"
   ]
  },
  {
   "cell_type": "code",
   "execution_count": 107,
   "id": "af78dd12",
   "metadata": {},
   "outputs": [
    {
     "data": {
      "text/html": [
       "<div>\n",
       "<style scoped>\n",
       "    .dataframe tbody tr th:only-of-type {\n",
       "        vertical-align: middle;\n",
       "    }\n",
       "\n",
       "    .dataframe tbody tr th {\n",
       "        vertical-align: top;\n",
       "    }\n",
       "\n",
       "    .dataframe thead th {\n",
       "        text-align: right;\n",
       "    }\n",
       "</style>\n",
       "<table border=\"1\" class=\"dataframe\">\n",
       "  <thead>\n",
       "    <tr style=\"text-align: right;\">\n",
       "      <th></th>\n",
       "      <th>0</th>\n",
       "      <th>1</th>\n",
       "      <th>2</th>\n",
       "      <th>3</th>\n",
       "      <th>4</th>\n",
       "      <th>5</th>\n",
       "      <th>6</th>\n",
       "      <th>7</th>\n",
       "      <th>8</th>\n",
       "      <th>9</th>\n",
       "      <th>...</th>\n",
       "      <th>11</th>\n",
       "      <th>12</th>\n",
       "      <th>13</th>\n",
       "      <th>14</th>\n",
       "      <th>15</th>\n",
       "      <th>16</th>\n",
       "      <th>17</th>\n",
       "      <th>18</th>\n",
       "      <th>19</th>\n",
       "      <th>20</th>\n",
       "    </tr>\n",
       "  </thead>\n",
       "  <tbody>\n",
       "    <tr>\n",
       "      <th>0</th>\n",
       "      <td>-1.729680</td>\n",
       "      <td>-1.602745</td>\n",
       "      <td>-0.172102</td>\n",
       "      <td>1.497785</td>\n",
       "      <td>-1.469753</td>\n",
       "      <td>-0.827613</td>\n",
       "      <td>-0.680818</td>\n",
       "      <td>1.267606</td>\n",
       "      <td>-0.322240</td>\n",
       "      <td>-0.682897</td>\n",
       "      <td>...</td>\n",
       "      <td>-1.673503</td>\n",
       "      <td>1.0</td>\n",
       "      <td>-1.0</td>\n",
       "      <td>1.748015</td>\n",
       "      <td>-0.580514</td>\n",
       "      <td>-0.588951</td>\n",
       "      <td>-0.567859</td>\n",
       "      <td>-1.316846</td>\n",
       "      <td>1.402669</td>\n",
       "      <td>-0.172102</td>\n",
       "    </tr>\n",
       "    <tr>\n",
       "      <th>1</th>\n",
       "      <td>-1.724934</td>\n",
       "      <td>-1.602745</td>\n",
       "      <td>-0.172102</td>\n",
       "      <td>-1.495052</td>\n",
       "      <td>-1.469753</td>\n",
       "      <td>-0.722069</td>\n",
       "      <td>-0.741507</td>\n",
       "      <td>0.480415</td>\n",
       "      <td>0.400309</td>\n",
       "      <td>-1.060628</td>\n",
       "      <td>...</td>\n",
       "      <td>-1.559818</td>\n",
       "      <td>1.0</td>\n",
       "      <td>-1.0</td>\n",
       "      <td>1.748015</td>\n",
       "      <td>-0.580514</td>\n",
       "      <td>-0.588951</td>\n",
       "      <td>-0.567859</td>\n",
       "      <td>-1.316846</td>\n",
       "      <td>1.402669</td>\n",
       "      <td>-0.172102</td>\n",
       "    </tr>\n",
       "    <tr>\n",
       "      <th>2</th>\n",
       "      <td>-1.720189</td>\n",
       "      <td>-1.602745</td>\n",
       "      <td>-0.172102</td>\n",
       "      <td>-0.996246</td>\n",
       "      <td>0.680387</td>\n",
       "      <td>-1.635432</td>\n",
       "      <td>-1.750344</td>\n",
       "      <td>-1.376017</td>\n",
       "      <td>0.398423</td>\n",
       "      <td>-1.081403</td>\n",
       "      <td>...</td>\n",
       "      <td>-1.446134</td>\n",
       "      <td>1.0</td>\n",
       "      <td>-1.0</td>\n",
       "      <td>1.748015</td>\n",
       "      <td>-0.580514</td>\n",
       "      <td>-0.588951</td>\n",
       "      <td>-0.567859</td>\n",
       "      <td>0.759390</td>\n",
       "      <td>-0.712927</td>\n",
       "      <td>-0.172102</td>\n",
       "    </tr>\n",
       "    <tr>\n",
       "      <th>3</th>\n",
       "      <td>-1.715444</td>\n",
       "      <td>-1.602745</td>\n",
       "      <td>-0.172102</td>\n",
       "      <td>-0.497440</td>\n",
       "      <td>0.680387</td>\n",
       "      <td>-1.615560</td>\n",
       "      <td>-1.610886</td>\n",
       "      <td>-0.277410</td>\n",
       "      <td>-0.323470</td>\n",
       "      <td>-1.104067</td>\n",
       "      <td>...</td>\n",
       "      <td>-1.332449</td>\n",
       "      <td>1.0</td>\n",
       "      <td>-1.0</td>\n",
       "      <td>1.748015</td>\n",
       "      <td>-0.580514</td>\n",
       "      <td>-0.588951</td>\n",
       "      <td>-0.567859</td>\n",
       "      <td>0.759390</td>\n",
       "      <td>-0.712927</td>\n",
       "      <td>-0.172102</td>\n",
       "    </tr>\n",
       "    <tr>\n",
       "      <th>4</th>\n",
       "      <td>-1.710698</td>\n",
       "      <td>-1.602745</td>\n",
       "      <td>-0.172102</td>\n",
       "      <td>0.001367</td>\n",
       "      <td>0.680387</td>\n",
       "      <td>-1.468226</td>\n",
       "      <td>-1.505615</td>\n",
       "      <td>-1.378284</td>\n",
       "      <td>-0.105261</td>\n",
       "      <td>-1.153172</td>\n",
       "      <td>...</td>\n",
       "      <td>-1.218764</td>\n",
       "      <td>1.0</td>\n",
       "      <td>-1.0</td>\n",
       "      <td>1.748015</td>\n",
       "      <td>-0.580514</td>\n",
       "      <td>-0.588951</td>\n",
       "      <td>-0.567859</td>\n",
       "      <td>0.759390</td>\n",
       "      <td>-0.712927</td>\n",
       "      <td>-0.172102</td>\n",
       "    </tr>\n",
       "  </tbody>\n",
       "</table>\n",
       "<p>5 rows × 21 columns</p>\n",
       "</div>"
      ],
      "text/plain": [
       "         0         1         2         3         4         5         6   \\\n",
       "0 -1.729680 -1.602745 -0.172102  1.497785 -1.469753 -0.827613 -0.680818   \n",
       "1 -1.724934 -1.602745 -0.172102 -1.495052 -1.469753 -0.722069 -0.741507   \n",
       "2 -1.720189 -1.602745 -0.172102 -0.996246  0.680387 -1.635432 -1.750344   \n",
       "3 -1.715444 -1.602745 -0.172102 -0.497440  0.680387 -1.615560 -1.610886   \n",
       "4 -1.710698 -1.602745 -0.172102  0.001367  0.680387 -1.468226 -1.505615   \n",
       "\n",
       "         7         8         9   ...        11   12   13        14        15  \\\n",
       "0  1.267606 -0.322240 -0.682897  ... -1.673503  1.0 -1.0  1.748015 -0.580514   \n",
       "1  0.480415  0.400309 -1.060628  ... -1.559818  1.0 -1.0  1.748015 -0.580514   \n",
       "2 -1.376017  0.398423 -1.081403  ... -1.446134  1.0 -1.0  1.748015 -0.580514   \n",
       "3 -0.277410 -0.323470 -1.104067  ... -1.332449  1.0 -1.0  1.748015 -0.580514   \n",
       "4 -1.378284 -0.105261 -1.153172  ... -1.218764  1.0 -1.0  1.748015 -0.580514   \n",
       "\n",
       "         16        17        18        19        20  \n",
       "0 -0.588951 -0.567859 -1.316846  1.402669 -0.172102  \n",
       "1 -0.588951 -0.567859 -1.316846  1.402669 -0.172102  \n",
       "2 -0.588951 -0.567859  0.759390 -0.712927 -0.172102  \n",
       "3 -0.588951 -0.567859  0.759390 -0.712927 -0.172102  \n",
       "4 -0.588951 -0.567859  0.759390 -0.712927 -0.172102  \n",
       "\n",
       "[5 rows x 21 columns]"
      ]
     },
     "execution_count": 107,
     "metadata": {},
     "output_type": "execute_result"
    }
   ],
   "source": [
    "Standardisation = preprocessing.StandardScaler()\n",
    "  \n",
    "bike = Standardisation.fit_transform(bike)\n",
    "bike =pd.DataFrame(bike)\n",
    "bike.head()\n"
   ]
  },
  {
   "cell_type": "markdown",
   "id": "82e13bef",
   "metadata": {},
   "source": [
    "## cross validation"
   ]
  },
  {
   "cell_type": "code",
   "execution_count": 108,
   "id": "608ea7a6",
   "metadata": {},
   "outputs": [],
   "source": [
    "from sklearn.model_selection import train_test_split"
   ]
  },
  {
   "cell_type": "code",
   "execution_count": 133,
   "id": "e7b795dd",
   "metadata": {},
   "outputs": [],
   "source": [
    "x_train,x_test,y_train,y_test = train_test_split(bike,y,test_size=0.1,random_state=111)"
   ]
  },
  {
   "cell_type": "markdown",
   "id": "9ed9ff19",
   "metadata": {},
   "source": [
    "## model creation"
   ]
  },
  {
   "cell_type": "code",
   "execution_count": 127,
   "id": "353f2e05",
   "metadata": {},
   "outputs": [],
   "source": [
    "from sklearn.linear_model import LinearRegression\n",
    "from sklearn.metrics import r2_score"
   ]
  },
  {
   "cell_type": "code",
   "execution_count": 114,
   "id": "0c7e1e5c",
   "metadata": {},
   "outputs": [],
   "source": [
    "LR = LinearRegression()"
   ]
  },
  {
   "cell_type": "code",
   "execution_count": 134,
   "id": "a5ec1fc6",
   "metadata": {},
   "outputs": [
    {
     "data": {
      "text/plain": [
       "LinearRegression()"
      ]
     },
     "execution_count": 134,
     "metadata": {},
     "output_type": "execute_result"
    }
   ],
   "source": [
    "LR.fit(x_train,y_train,)"
   ]
  },
  {
   "cell_type": "code",
   "execution_count": 135,
   "id": "8cbe2ab5",
   "metadata": {},
   "outputs": [],
   "source": [
    "y_predict = LR.predict(x_test)"
   ]
  },
  {
   "cell_type": "code",
   "execution_count": 128,
   "id": "fbf54b42",
   "metadata": {},
   "outputs": [
    {
     "data": {
      "text/plain": [
       "0.9584860032280359"
      ]
     },
     "execution_count": 128,
     "metadata": {},
     "output_type": "execute_result"
    }
   ],
   "source": [
    "r2_score(y_test,y_predict)"
   ]
  },
  {
   "cell_type": "code",
   "execution_count": 132,
   "id": "82b45601",
   "metadata": {},
   "outputs": [
    {
     "data": {
      "text/plain": [
       "0.9622842949167066"
      ]
     },
     "execution_count": 132,
     "metadata": {},
     "output_type": "execute_result"
    }
   ],
   "source": [
    "r2_score(y_test,y_predict)"
   ]
  },
  {
   "cell_type": "code",
   "execution_count": 138,
   "id": "74237e1f",
   "metadata": {},
   "outputs": [
    {
     "name": "stdout",
     "output_type": "stream",
     "text": [
      "r2_score 0.9630565871774152\n"
     ]
    }
   ],
   "source": [
    "print(\"r2_score\",r2_score(y_test,y_predict))"
   ]
  },
  {
   "cell_type": "code",
   "execution_count": 140,
   "id": "559c6a25",
   "metadata": {},
   "outputs": [
    {
     "data": {
      "text/plain": [
       "4508.640930978676"
      ]
     },
     "execution_count": 140,
     "metadata": {},
     "output_type": "execute_result"
    }
   ],
   "source": [
    "LR.intercept_"
   ]
  },
  {
   "cell_type": "code",
   "execution_count": 141,
   "id": "ef3cc625",
   "metadata": {},
   "outputs": [
    {
     "data": {
      "text/plain": [
       "array([-1.57832608e+04,  7.83598103e+03, -3.48200242e+01,  4.38415532e+01,\n",
       "       -4.51085807e+02,  1.60247819e+02,  8.01039274e+01, -3.37169659e+01,\n",
       "       -5.10185088e+01, -2.46197622e+01,  1.78060594e+03,  6.55397273e+02,\n",
       "       -6.84703595e+03,  6.84703595e+03, -2.27515735e+01,  5.27539556e+01,\n",
       "       -1.61307657e+01, -1.40790150e+01,  1.78585391e+01, -1.40368920e+01,\n",
       "       -1.17644311e+01])"
      ]
     },
     "execution_count": 141,
     "metadata": {},
     "output_type": "execute_result"
    }
   ],
   "source": [
    "LR.coef_"
   ]
  },
  {
   "cell_type": "code",
   "execution_count": 144,
   "id": "275eb6b3",
   "metadata": {},
   "outputs": [
    {
     "name": "stdout",
     "output_type": "stream",
     "text": [
      "the intercpet is 4508.640930978676 and coef is [-1.57832608e+04  7.83598103e+03 -3.48200242e+01  4.38415532e+01\n",
      " -4.51085807e+02  1.60247819e+02  8.01039274e+01 -3.37169659e+01\n",
      " -5.10185088e+01 -2.46197622e+01  1.78060594e+03  6.55397273e+02\n",
      " -6.84703595e+03  6.84703595e+03 -2.27515735e+01  5.27539556e+01\n",
      " -1.61307657e+01 -1.40790150e+01  1.78585391e+01 -1.40368920e+01\n",
      " -1.17644311e+01]\n"
     ]
    }
   ],
   "source": [
    "print(f'the intercpet is {LR.intercept_} and coef is {LR.coef_}')"
   ]
  },
  {
   "cell_type": "code",
   "execution_count": null,
   "id": "f382dd5b",
   "metadata": {},
   "outputs": [],
   "source": []
  }
 ],
 "metadata": {
  "kernelspec": {
   "display_name": "Python 3 (ipykernel)",
   "language": "python",
   "name": "python3"
  },
  "language_info": {
   "codemirror_mode": {
    "name": "ipython",
    "version": 3
   },
   "file_extension": ".py",
   "mimetype": "text/x-python",
   "name": "python",
   "nbconvert_exporter": "python",
   "pygments_lexer": "ipython3",
   "version": "3.9.12"
  }
 },
 "nbformat": 4,
 "nbformat_minor": 5
}
